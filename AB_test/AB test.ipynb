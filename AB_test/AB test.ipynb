{
 "cells": [
  {
   "cell_type": "markdown",
   "metadata": {
    "toc": true
   },
   "source": [
    "<h1>Table of Contents<span class=\"tocSkip\"></span></h1>\n",
    "<div class=\"toc\"><ul class=\"toc-item\"><li><span><a href=\"#The-purpose-of-the-study:\" data-toc-modified-id=\"The-purpose-of-the-study:-1\"><span class=\"toc-item-num\">1&nbsp;&nbsp;</span>The purpose of the study:</a></span></li><li><span><a href=\"#Objectives-of-the-study:\" data-toc-modified-id=\"Objectives-of-the-study:-2\"><span class=\"toc-item-num\">2&nbsp;&nbsp;</span>Objectives of the study:</a></span></li><li><span><a href=\"#Data-preparation\" data-toc-modified-id=\"Data-preparation-3\"><span class=\"toc-item-num\">3&nbsp;&nbsp;</span>Data preparation</a></span></li><li><span><a href=\"#Prioritizing-Hypothesis\" data-toc-modified-id=\"Prioritizing-Hypothesis-4\"><span class=\"toc-item-num\">4&nbsp;&nbsp;</span>Prioritizing Hypothesis</a></span></li><li><span><a href=\"#Analyzing-A/B-Testing-Results\" data-toc-modified-id=\"Analyzing-A/B-Testing-Results-5\"><span class=\"toc-item-num\">5&nbsp;&nbsp;</span>Analyzing A/B Testing Results</a></span><ul class=\"toc-item\"><li><span><a href=\"#Graph-of-cumulative-revenue-by-groups\" data-toc-modified-id=\"Graph-of-cumulative-revenue-by-groups-5.1\"><span class=\"toc-item-num\">5.1&nbsp;&nbsp;</span>Graph of cumulative revenue by groups</a></span></li><li><span><a href=\"#Graph-of-the-cumulative-average-check-by-groups\" data-toc-modified-id=\"Graph-of-the-cumulative-average-check-by-groups-5.2\"><span class=\"toc-item-num\">5.2&nbsp;&nbsp;</span>Graph of the cumulative average check by groups</a></span></li><li><span><a href=\"#Graph-of-the-relative-change-in-the-cumulative-average-check-of-group-B-to-group-A\" data-toc-modified-id=\"Graph-of-the-relative-change-in-the-cumulative-average-check-of-group-B-to-group-A-5.3\"><span class=\"toc-item-num\">5.3&nbsp;&nbsp;</span>Graph of the relative change in the cumulative average check of group B to group A</a></span></li><li><span><a href=\"#Graph-of-the-cumulative-average-number-of-orders-per-visitor-by-group\" data-toc-modified-id=\"Graph-of-the-cumulative-average-number-of-orders-per-visitor-by-group-5.4\"><span class=\"toc-item-num\">5.4&nbsp;&nbsp;</span>Graph of the cumulative average number of orders per visitor by group</a></span></li><li><span><a href=\"#Graph-of-the-relative-change-of-the-cumulative-average-number-of-orders-per-visitor-of-group-B-to-group-A\" data-toc-modified-id=\"Graph-of-the-relative-change-of-the-cumulative-average-number-of-orders-per-visitor-of-group-B-to-group-A-5.5\"><span class=\"toc-item-num\">5.5&nbsp;&nbsp;</span>Graph of the relative change of the cumulative average number of orders per visitor of group B to group A</a></span></li><li><span><a href=\"#Scatter-plot-of-the-number-of-orders-by-users\" data-toc-modified-id=\"Scatter-plot-of-the-number-of-orders-by-users-5.6\"><span class=\"toc-item-num\">5.6&nbsp;&nbsp;</span>Scatter plot of the number of orders by users</a></span></li><li><span><a href=\"#The-95th-and-99th-percentiles-of-orders-per-user\" data-toc-modified-id=\"The-95th-and-99th-percentiles-of-orders-per-user-5.7\"><span class=\"toc-item-num\">5.7&nbsp;&nbsp;</span>The 95th and 99th percentiles of orders per user</a></span></li><li><span><a href=\"#Scatter-plot-of-orders-values\" data-toc-modified-id=\"Scatter-plot-of-orders-values-5.8\"><span class=\"toc-item-num\">5.8&nbsp;&nbsp;</span>Scatter plot of orders values</a></span></li><li><span><a href=\"#95-й-и-99-й-перцентили-стоимости-заказов\" data-toc-modified-id=\"95-й-и-99-й-перцентили-стоимости-заказов-5.9\"><span class=\"toc-item-num\">5.9&nbsp;&nbsp;</span>95-й и 99-й перцентили стоимости заказов</a></span></li><li><span><a href=\"#Statistically-significant-difference-in-the-average-number-of-orders-per-visitor-between-groups-according-to-the-raw-data\" data-toc-modified-id=\"Statistically-significant-difference-in-the-average-number-of-orders-per-visitor-between-groups-according-to-the-raw-data-5.10\"><span class=\"toc-item-num\">5.10&nbsp;&nbsp;</span>Statistically significant difference in the average number of orders per visitor between groups according to the raw data</a></span></li><li><span><a href=\"#Statistically-significant-difference-in-the-average-order-check-between-groups-according-to-the-raw-data\" data-toc-modified-id=\"Statistically-significant-difference-in-the-average-order-check-between-groups-according-to-the-raw-data-5.11\"><span class=\"toc-item-num\">5.11&nbsp;&nbsp;</span>Statistically significant difference in the average order check between groups according to the raw data</a></span></li><li><span><a href=\"#Statistically-significant-difference-in-the-average-number-of-orders-per-visitor-between-groups--according-to-the-adjusted-data\" data-toc-modified-id=\"Statistically-significant-difference-in-the-average-number-of-orders-per-visitor-between-groups--according-to-the-adjusted-data-5.12\"><span class=\"toc-item-num\">5.12&nbsp;&nbsp;</span>Statistically significant difference in the average number of orders per visitor between groups  according to the adjusted data</a></span></li><li><span><a href=\"#Statistically-significant-difference-in-the-average-order-check-between-groups-according-to-the-adjusted-data\" data-toc-modified-id=\"Statistically-significant-difference-in-the-average-order-check-between-groups-according-to-the-adjusted-data-5.13\"><span class=\"toc-item-num\">5.13&nbsp;&nbsp;</span>Statistically significant difference in the average order check between groups according to the adjusted data</a></span></li></ul></li><li><span><a href=\"#Conclusion\" data-toc-modified-id=\"Conclusion-6\"><span class=\"toc-item-num\">6&nbsp;&nbsp;</span>Conclusion</a></span></li></ul></div>"
   ]
  },
  {
   "cell_type": "markdown",
   "metadata": {},
   "source": [
    "# A/B test for an online store"
   ]
  },
  {
   "cell_type": "markdown",
   "metadata": {},
   "source": [
    "In this project, we will analyze the results of an A / B test.\n",
    "We received data on 9 hypotheses on increasing the revenue of an online store with the specified parameters: Reach, Impact, Confidence, Effort, also we received the results of an A / B test, which contain data on orders - order ID, user ID, date, when the order was placed, the order revenue, the A/B test group the order fell into,visit data, A/B test group, number of users on the specified date in the specified A/B test group."
   ]
  },
  {
   "cell_type": "markdown",
   "metadata": {},
   "source": [
    "## The purpose of the study:"
   ]
  },
  {
   "cell_type": "markdown",
   "metadata": {},
   "source": [
    "To prioritize hypotheses on increasing profits and to analyze the results of the A / B test."
   ]
  },
  {
   "cell_type": "markdown",
   "metadata": {},
   "source": [
    "## Objectives of the study:"
   ]
  },
  {
   "cell_type": "markdown",
   "metadata": {},
   "source": [
    "To apply ICE, RICE frameworks to hypotheses;\n",
    "To calculate indicators and create graphs:\n",
    "cumulative indicators (revenue, average check) by groups,\n",
    "relative change in the cumulative average check of group B to group A,\n",
    "cumulative average orders per visitor by group,\n",
    "relative change in the cumulative average number of orders per visitor of group B to group A;\n",
    "To create and study scatter plots for the number of orders by users and the cost of orders;\n",
    "To calculate the 95th and 99th percentiles for orders per user and order value, select a boundary to detect anomalies;\n",
    "To calculate the statistical significance of the differences in the average number of orders per visitor and in the average order check between groups based on \"raw\" data;\n",
    "To calculate the statistical significance of differences in the average number of orders per visitor and in the average check of the order between groups according to the \"changed data\" data;"
   ]
  },
  {
   "cell_type": "markdown",
   "metadata": {},
   "source": [
    "## Data preparation"
   ]
  },
  {
   "cell_type": "code",
   "execution_count": 1,
   "metadata": {},
   "outputs": [],
   "source": [
    "#importing necessary libraries\n",
    "import pandas as pd\n",
    "import datetime as dt\n",
    "import numpy as np\n",
    "import matplotlib.pyplot as plt\n",
    "import scipy.stats as stats"
   ]
  },
  {
   "cell_type": "code",
   "execution_count": 2,
   "metadata": {},
   "outputs": [],
   "source": [
    "#setting the required size of charts in the project\n",
    "plt.rcParams[\"figure.figsize\"] = (12,7)"
   ]
  },
  {
   "cell_type": "code",
   "execution_count": 3,
   "metadata": {},
   "outputs": [],
   "source": [
    "#loading data on hypotheses \n",
    "hypothesis=pd.read_csv('hypothesis.csv')"
   ]
  },
  {
   "cell_type": "code",
   "execution_count": 4,
   "metadata": {},
   "outputs": [
    {
     "data": {
      "text/html": [
       "<div>\n",
       "<style scoped>\n",
       "    .dataframe tbody tr th:only-of-type {\n",
       "        vertical-align: middle;\n",
       "    }\n",
       "\n",
       "    .dataframe tbody tr th {\n",
       "        vertical-align: top;\n",
       "    }\n",
       "\n",
       "    .dataframe thead th {\n",
       "        text-align: right;\n",
       "    }\n",
       "</style>\n",
       "<table border=\"1\" class=\"dataframe\">\n",
       "  <thead>\n",
       "    <tr style=\"text-align: right;\">\n",
       "      <th></th>\n",
       "      <th>Hypothesis</th>\n",
       "      <th>Reach</th>\n",
       "      <th>Impact</th>\n",
       "      <th>Confidence</th>\n",
       "      <th>Efforts</th>\n",
       "    </tr>\n",
       "  </thead>\n",
       "  <tbody>\n",
       "    <tr>\n",
       "      <th>0</th>\n",
       "      <td>Добавить два новых канала привлечения трафика, что позволит привлекать на 30% больше пользователей</td>\n",
       "      <td>3</td>\n",
       "      <td>10</td>\n",
       "      <td>8</td>\n",
       "      <td>6</td>\n",
       "    </tr>\n",
       "    <tr>\n",
       "      <th>1</th>\n",
       "      <td>Запустить собственную службу доставки, что сократит срок доставки заказов</td>\n",
       "      <td>2</td>\n",
       "      <td>5</td>\n",
       "      <td>4</td>\n",
       "      <td>10</td>\n",
       "    </tr>\n",
       "    <tr>\n",
       "      <th>2</th>\n",
       "      <td>Добавить блоки рекомендаций товаров на сайт интернет магазина, чтобы повысить конверсию и средний чек заказа</td>\n",
       "      <td>8</td>\n",
       "      <td>3</td>\n",
       "      <td>7</td>\n",
       "      <td>3</td>\n",
       "    </tr>\n",
       "    <tr>\n",
       "      <th>3</th>\n",
       "      <td>Изменить структура категорий, что увеличит конверсию, т.к. пользователи быстрее найдут нужный товар</td>\n",
       "      <td>8</td>\n",
       "      <td>3</td>\n",
       "      <td>3</td>\n",
       "      <td>8</td>\n",
       "    </tr>\n",
       "    <tr>\n",
       "      <th>4</th>\n",
       "      <td>Изменить цвет фона главной страницы, чтобы увеличить вовлеченность пользователей</td>\n",
       "      <td>3</td>\n",
       "      <td>1</td>\n",
       "      <td>1</td>\n",
       "      <td>1</td>\n",
       "    </tr>\n",
       "    <tr>\n",
       "      <th>5</th>\n",
       "      <td>Добавить страницу отзывов клиентов о магазине, что позволит увеличить количество заказов</td>\n",
       "      <td>3</td>\n",
       "      <td>2</td>\n",
       "      <td>2</td>\n",
       "      <td>3</td>\n",
       "    </tr>\n",
       "    <tr>\n",
       "      <th>6</th>\n",
       "      <td>Показать на главной странице баннеры с актуальными акциями и распродажами, чтобы увеличить конверсию</td>\n",
       "      <td>5</td>\n",
       "      <td>3</td>\n",
       "      <td>8</td>\n",
       "      <td>3</td>\n",
       "    </tr>\n",
       "    <tr>\n",
       "      <th>7</th>\n",
       "      <td>Добавить форму подписки на все основные страницы, чтобы собрать базу клиентов для email-рассылок</td>\n",
       "      <td>10</td>\n",
       "      <td>7</td>\n",
       "      <td>8</td>\n",
       "      <td>5</td>\n",
       "    </tr>\n",
       "    <tr>\n",
       "      <th>8</th>\n",
       "      <td>Запустить акцию, дающую скидку на товар в день рождения</td>\n",
       "      <td>1</td>\n",
       "      <td>9</td>\n",
       "      <td>9</td>\n",
       "      <td>5</td>\n",
       "    </tr>\n",
       "  </tbody>\n",
       "</table>\n",
       "</div>"
      ],
      "text/plain": [
       "                                                                                                     Hypothesis  \\\n",
       "0            Добавить два новых канала привлечения трафика, что позволит привлекать на 30% больше пользователей   \n",
       "1                                     Запустить собственную службу доставки, что сократит срок доставки заказов   \n",
       "2  Добавить блоки рекомендаций товаров на сайт интернет магазина, чтобы повысить конверсию и средний чек заказа   \n",
       "3           Изменить структура категорий, что увеличит конверсию, т.к. пользователи быстрее найдут нужный товар   \n",
       "4                              Изменить цвет фона главной страницы, чтобы увеличить вовлеченность пользователей   \n",
       "5                      Добавить страницу отзывов клиентов о магазине, что позволит увеличить количество заказов   \n",
       "6          Показать на главной странице баннеры с актуальными акциями и распродажами, чтобы увеличить конверсию   \n",
       "7              Добавить форму подписки на все основные страницы, чтобы собрать базу клиентов для email-рассылок   \n",
       "8                                                       Запустить акцию, дающую скидку на товар в день рождения   \n",
       "\n",
       "   Reach  Impact  Confidence  Efforts  \n",
       "0      3      10           8        6  \n",
       "1      2       5           4       10  \n",
       "2      8       3           7        3  \n",
       "3      8       3           3        8  \n",
       "4      3       1           1        1  \n",
       "5      3       2           2        3  \n",
       "6      5       3           8        3  \n",
       "7     10       7           8        5  \n",
       "8      1       9           9        5  "
      ]
     },
     "execution_count": 4,
     "metadata": {},
     "output_type": "execute_result"
    }
   ],
   "source": [
    "#studying data on hypotheses\n",
    "pd.options.display.max_colwidth = 150\n",
    "hypothesis.head(10)"
   ]
  },
  {
   "cell_type": "markdown",
   "metadata": {},
   "source": [
    "We received data on the hypotheses and its main components:\n",
    "Reach - user reach on a 10-point scale,\n",
    "Impact - impact on users on a 10-point scale,\n",
    "Confidence - confidence in the hypothesis on a 10-point scale,\n",
    "Efforts - the cost of resources to test the hypothesis on a 10-point scale."
   ]
  },
  {
   "cell_type": "code",
   "execution_count": 5,
   "metadata": {},
   "outputs": [],
   "source": [
    "#loading data on orders\n",
    "orders=pd.read_csv('orders.csv')"
   ]
  },
  {
   "cell_type": "code",
   "execution_count": 6,
   "metadata": {},
   "outputs": [
    {
     "data": {
      "text/html": [
       "<div>\n",
       "<style scoped>\n",
       "    .dataframe tbody tr th:only-of-type {\n",
       "        vertical-align: middle;\n",
       "    }\n",
       "\n",
       "    .dataframe tbody tr th {\n",
       "        vertical-align: top;\n",
       "    }\n",
       "\n",
       "    .dataframe thead th {\n",
       "        text-align: right;\n",
       "    }\n",
       "</style>\n",
       "<table border=\"1\" class=\"dataframe\">\n",
       "  <thead>\n",
       "    <tr style=\"text-align: right;\">\n",
       "      <th></th>\n",
       "      <th>transactionId</th>\n",
       "      <th>visitorId</th>\n",
       "      <th>date</th>\n",
       "      <th>revenue</th>\n",
       "      <th>group</th>\n",
       "    </tr>\n",
       "  </thead>\n",
       "  <tbody>\n",
       "    <tr>\n",
       "      <th>0</th>\n",
       "      <td>3667963787</td>\n",
       "      <td>3312258926</td>\n",
       "      <td>2019-08-15</td>\n",
       "      <td>1650</td>\n",
       "      <td>B</td>\n",
       "    </tr>\n",
       "    <tr>\n",
       "      <th>1</th>\n",
       "      <td>2804400009</td>\n",
       "      <td>3642806036</td>\n",
       "      <td>2019-08-15</td>\n",
       "      <td>730</td>\n",
       "      <td>B</td>\n",
       "    </tr>\n",
       "    <tr>\n",
       "      <th>2</th>\n",
       "      <td>2961555356</td>\n",
       "      <td>4069496402</td>\n",
       "      <td>2019-08-15</td>\n",
       "      <td>400</td>\n",
       "      <td>A</td>\n",
       "    </tr>\n",
       "    <tr>\n",
       "      <th>3</th>\n",
       "      <td>3797467345</td>\n",
       "      <td>1196621759</td>\n",
       "      <td>2019-08-15</td>\n",
       "      <td>9759</td>\n",
       "      <td>B</td>\n",
       "    </tr>\n",
       "    <tr>\n",
       "      <th>4</th>\n",
       "      <td>2282983706</td>\n",
       "      <td>2322279887</td>\n",
       "      <td>2019-08-15</td>\n",
       "      <td>2308</td>\n",
       "      <td>B</td>\n",
       "    </tr>\n",
       "    <tr>\n",
       "      <th>5</th>\n",
       "      <td>182168103</td>\n",
       "      <td>935554773</td>\n",
       "      <td>2019-08-15</td>\n",
       "      <td>2210</td>\n",
       "      <td>B</td>\n",
       "    </tr>\n",
       "    <tr>\n",
       "      <th>6</th>\n",
       "      <td>398296753</td>\n",
       "      <td>2900797465</td>\n",
       "      <td>2019-08-15</td>\n",
       "      <td>1860</td>\n",
       "      <td>B</td>\n",
       "    </tr>\n",
       "    <tr>\n",
       "      <th>7</th>\n",
       "      <td>2626614568</td>\n",
       "      <td>78758296</td>\n",
       "      <td>2019-08-15</td>\n",
       "      <td>1044</td>\n",
       "      <td>A</td>\n",
       "    </tr>\n",
       "    <tr>\n",
       "      <th>8</th>\n",
       "      <td>1576988021</td>\n",
       "      <td>295230930</td>\n",
       "      <td>2019-08-15</td>\n",
       "      <td>13710</td>\n",
       "      <td>A</td>\n",
       "    </tr>\n",
       "    <tr>\n",
       "      <th>9</th>\n",
       "      <td>1506739906</td>\n",
       "      <td>1882260405</td>\n",
       "      <td>2019-08-15</td>\n",
       "      <td>1855</td>\n",
       "      <td>B</td>\n",
       "    </tr>\n",
       "  </tbody>\n",
       "</table>\n",
       "</div>"
      ],
      "text/plain": [
       "   transactionId   visitorId        date  revenue group\n",
       "0     3667963787  3312258926  2019-08-15     1650     B\n",
       "1     2804400009  3642806036  2019-08-15      730     B\n",
       "2     2961555356  4069496402  2019-08-15      400     A\n",
       "3     3797467345  1196621759  2019-08-15     9759     B\n",
       "4     2282983706  2322279887  2019-08-15     2308     B\n",
       "5      182168103   935554773  2019-08-15     2210     B\n",
       "6      398296753  2900797465  2019-08-15     1860     B\n",
       "7     2626614568    78758296  2019-08-15     1044     A\n",
       "8     1576988021   295230930  2019-08-15    13710     A\n",
       "9     1506739906  1882260405  2019-08-15     1855     B"
      ]
     },
     "execution_count": 6,
     "metadata": {},
     "output_type": "execute_result"
    }
   ],
   "source": [
    "#studying data on orders\n",
    "orders.head(10)"
   ]
  },
  {
   "cell_type": "markdown",
   "metadata": {},
   "source": [
    "We received data on transaction ID, visitor ID, date of the order, revenue ,  A/B test group."
   ]
  },
  {
   "cell_type": "code",
   "execution_count": 7,
   "metadata": {},
   "outputs": [
    {
     "data": {
      "text/plain": [
       "transactionId    0\n",
       "visitorId        0\n",
       "date             0\n",
       "revenue          0\n",
       "group            0\n",
       "dtype: int64"
      ]
     },
     "execution_count": 7,
     "metadata": {},
     "output_type": "execute_result"
    }
   ],
   "source": [
    "#identifying gaps \n",
    "orders.isnull().sum()"
   ]
  },
  {
   "cell_type": "markdown",
   "metadata": {},
   "source": [
    "There are no gaps in the data"
   ]
  },
  {
   "cell_type": "code",
   "execution_count": 8,
   "metadata": {},
   "outputs": [
    {
     "data": {
      "text/plain": [
       "0"
      ]
     },
     "execution_count": 8,
     "metadata": {},
     "output_type": "execute_result"
    }
   ],
   "source": [
    "#finding dupicates\n",
    "orders.duplicated().sum()"
   ]
  },
  {
   "cell_type": "markdown",
   "metadata": {},
   "source": [
    "There are no dupclicates in the data"
   ]
  },
  {
   "cell_type": "code",
   "execution_count": 9,
   "metadata": {},
   "outputs": [],
   "source": [
    "#loading data on visits\n",
    "visitors=pd.read_csv('visitors.csv')"
   ]
  },
  {
   "cell_type": "code",
   "execution_count": 10,
   "metadata": {},
   "outputs": [
    {
     "data": {
      "text/html": [
       "<div>\n",
       "<style scoped>\n",
       "    .dataframe tbody tr th:only-of-type {\n",
       "        vertical-align: middle;\n",
       "    }\n",
       "\n",
       "    .dataframe tbody tr th {\n",
       "        vertical-align: top;\n",
       "    }\n",
       "\n",
       "    .dataframe thead th {\n",
       "        text-align: right;\n",
       "    }\n",
       "</style>\n",
       "<table border=\"1\" class=\"dataframe\">\n",
       "  <thead>\n",
       "    <tr style=\"text-align: right;\">\n",
       "      <th></th>\n",
       "      <th>date</th>\n",
       "      <th>group</th>\n",
       "      <th>visitors</th>\n",
       "    </tr>\n",
       "  </thead>\n",
       "  <tbody>\n",
       "    <tr>\n",
       "      <th>0</th>\n",
       "      <td>2019-08-01</td>\n",
       "      <td>A</td>\n",
       "      <td>719</td>\n",
       "    </tr>\n",
       "    <tr>\n",
       "      <th>1</th>\n",
       "      <td>2019-08-02</td>\n",
       "      <td>A</td>\n",
       "      <td>619</td>\n",
       "    </tr>\n",
       "    <tr>\n",
       "      <th>2</th>\n",
       "      <td>2019-08-03</td>\n",
       "      <td>A</td>\n",
       "      <td>507</td>\n",
       "    </tr>\n",
       "    <tr>\n",
       "      <th>3</th>\n",
       "      <td>2019-08-04</td>\n",
       "      <td>A</td>\n",
       "      <td>717</td>\n",
       "    </tr>\n",
       "    <tr>\n",
       "      <th>4</th>\n",
       "      <td>2019-08-05</td>\n",
       "      <td>A</td>\n",
       "      <td>756</td>\n",
       "    </tr>\n",
       "    <tr>\n",
       "      <th>5</th>\n",
       "      <td>2019-08-06</td>\n",
       "      <td>A</td>\n",
       "      <td>667</td>\n",
       "    </tr>\n",
       "    <tr>\n",
       "      <th>6</th>\n",
       "      <td>2019-08-07</td>\n",
       "      <td>A</td>\n",
       "      <td>644</td>\n",
       "    </tr>\n",
       "    <tr>\n",
       "      <th>7</th>\n",
       "      <td>2019-08-08</td>\n",
       "      <td>A</td>\n",
       "      <td>610</td>\n",
       "    </tr>\n",
       "    <tr>\n",
       "      <th>8</th>\n",
       "      <td>2019-08-09</td>\n",
       "      <td>A</td>\n",
       "      <td>617</td>\n",
       "    </tr>\n",
       "    <tr>\n",
       "      <th>9</th>\n",
       "      <td>2019-08-10</td>\n",
       "      <td>A</td>\n",
       "      <td>406</td>\n",
       "    </tr>\n",
       "  </tbody>\n",
       "</table>\n",
       "</div>"
      ],
      "text/plain": [
       "         date group  visitors\n",
       "0  2019-08-01     A       719\n",
       "1  2019-08-02     A       619\n",
       "2  2019-08-03     A       507\n",
       "3  2019-08-04     A       717\n",
       "4  2019-08-05     A       756\n",
       "5  2019-08-06     A       667\n",
       "6  2019-08-07     A       644\n",
       "7  2019-08-08     A       610\n",
       "8  2019-08-09     A       617\n",
       "9  2019-08-10     A       406"
      ]
     },
     "execution_count": 10,
     "metadata": {},
     "output_type": "execute_result"
    }
   ],
   "source": [
    "#studying data on visits\n",
    "visitors.head(10)"
   ]
  },
  {
   "cell_type": "markdown",
   "metadata": {},
   "source": [
    "We received data on date of the visit, group of the user and qnt of the visitors for every data and group."
   ]
  },
  {
   "cell_type": "code",
   "execution_count": 11,
   "metadata": {},
   "outputs": [
    {
     "data": {
      "text/plain": [
       "date        0\n",
       "group       0\n",
       "visitors    0\n",
       "dtype: int64"
      ]
     },
     "execution_count": 11,
     "metadata": {},
     "output_type": "execute_result"
    }
   ],
   "source": [
    "#identifying gaps\n",
    "visitors.isnull().sum()"
   ]
  },
  {
   "cell_type": "markdown",
   "metadata": {},
   "source": [
    "There are no gaps in the data."
   ]
  },
  {
   "cell_type": "code",
   "execution_count": 12,
   "metadata": {},
   "outputs": [
    {
     "data": {
      "text/plain": [
       "0"
      ]
     },
     "execution_count": 12,
     "metadata": {},
     "output_type": "execute_result"
    }
   ],
   "source": [
    "#finding dupicates\n",
    "visitors.duplicated().sum()"
   ]
  },
  {
   "cell_type": "markdown",
   "metadata": {},
   "source": [
    "There are no duplicates in the data."
   ]
  },
  {
   "cell_type": "markdown",
   "metadata": {},
   "source": [
    "## Prioritizing Hypothesis"
   ]
  },
  {
   "cell_type": "code",
   "execution_count": 13,
   "metadata": {},
   "outputs": [
    {
     "data": {
      "text/html": [
       "<div>\n",
       "<style scoped>\n",
       "    .dataframe tbody tr th:only-of-type {\n",
       "        vertical-align: middle;\n",
       "    }\n",
       "\n",
       "    .dataframe tbody tr th {\n",
       "        vertical-align: top;\n",
       "    }\n",
       "\n",
       "    .dataframe thead th {\n",
       "        text-align: right;\n",
       "    }\n",
       "</style>\n",
       "<table border=\"1\" class=\"dataframe\">\n",
       "  <thead>\n",
       "    <tr style=\"text-align: right;\">\n",
       "      <th></th>\n",
       "      <th>Hypothesis</th>\n",
       "      <th>ICE</th>\n",
       "    </tr>\n",
       "  </thead>\n",
       "  <tbody>\n",
       "    <tr>\n",
       "      <th>8</th>\n",
       "      <td>Запустить акцию, дающую скидку на товар в день рождения</td>\n",
       "      <td>16.0</td>\n",
       "    </tr>\n",
       "    <tr>\n",
       "      <th>0</th>\n",
       "      <td>Добавить два новых канала привлечения трафика, что позволит привлекать на 30% больше пользователей</td>\n",
       "      <td>13.0</td>\n",
       "    </tr>\n",
       "    <tr>\n",
       "      <th>7</th>\n",
       "      <td>Добавить форму подписки на все основные страницы, чтобы собрать базу клиентов для email-рассылок</td>\n",
       "      <td>11.0</td>\n",
       "    </tr>\n",
       "    <tr>\n",
       "      <th>6</th>\n",
       "      <td>Показать на главной странице баннеры с актуальными акциями и распродажами, чтобы увеличить конверсию</td>\n",
       "      <td>8.0</td>\n",
       "    </tr>\n",
       "    <tr>\n",
       "      <th>2</th>\n",
       "      <td>Добавить блоки рекомендаций товаров на сайт интернет магазина, чтобы повысить конверсию и средний чек заказа</td>\n",
       "      <td>7.0</td>\n",
       "    </tr>\n",
       "    <tr>\n",
       "      <th>1</th>\n",
       "      <td>Запустить собственную службу доставки, что сократит срок доставки заказов</td>\n",
       "      <td>2.0</td>\n",
       "    </tr>\n",
       "    <tr>\n",
       "      <th>3</th>\n",
       "      <td>Изменить структура категорий, что увеличит конверсию, т.к. пользователи быстрее найдут нужный товар</td>\n",
       "      <td>1.0</td>\n",
       "    </tr>\n",
       "    <tr>\n",
       "      <th>4</th>\n",
       "      <td>Изменить цвет фона главной страницы, чтобы увеличить вовлеченность пользователей</td>\n",
       "      <td>1.0</td>\n",
       "    </tr>\n",
       "    <tr>\n",
       "      <th>5</th>\n",
       "      <td>Добавить страницу отзывов клиентов о магазине, что позволит увеличить количество заказов</td>\n",
       "      <td>1.0</td>\n",
       "    </tr>\n",
       "  </tbody>\n",
       "</table>\n",
       "</div>"
      ],
      "text/plain": [
       "                                                                                                     Hypothesis  \\\n",
       "8                                                       Запустить акцию, дающую скидку на товар в день рождения   \n",
       "0            Добавить два новых канала привлечения трафика, что позволит привлекать на 30% больше пользователей   \n",
       "7              Добавить форму подписки на все основные страницы, чтобы собрать базу клиентов для email-рассылок   \n",
       "6          Показать на главной странице баннеры с актуальными акциями и распродажами, чтобы увеличить конверсию   \n",
       "2  Добавить блоки рекомендаций товаров на сайт интернет магазина, чтобы повысить конверсию и средний чек заказа   \n",
       "1                                     Запустить собственную службу доставки, что сократит срок доставки заказов   \n",
       "3           Изменить структура категорий, что увеличит конверсию, т.к. пользователи быстрее найдут нужный товар   \n",
       "4                              Изменить цвет фона главной страницы, чтобы увеличить вовлеченность пользователей   \n",
       "5                      Добавить страницу отзывов клиентов о магазине, что позволит увеличить количество заказов   \n",
       "\n",
       "    ICE  \n",
       "8  16.0  \n",
       "0  13.0  \n",
       "7  11.0  \n",
       "6   8.0  \n",
       "2   7.0  \n",
       "1   2.0  \n",
       "3   1.0  \n",
       "4   1.0  \n",
       "5   1.0  "
      ]
     },
     "execution_count": 13,
     "metadata": {},
     "output_type": "execute_result"
    }
   ],
   "source": [
    "#applying the ICE framework to prioritize hypotheses\n",
    "hypothesis['ICE']=round(hypothesis.Impact*hypothesis.Confidence/hypothesis.Efforts)\n",
    "hypothesis[['Hypothesis','ICE']].sort_values(by='ICE',ascending=False)"
   ]
  },
  {
   "cell_type": "markdown",
   "metadata": {},
   "source": [
    "The most promising hypotheses according to the ICE framework:to offer a birthday discount,to add two new channels to increase traffic, which will help to attract 30% more users, to add a subscription form to all main pages to build a customer base for email newsletters.\t"
   ]
  },
  {
   "cell_type": "code",
   "execution_count": 14,
   "metadata": {},
   "outputs": [
    {
     "data": {
      "text/html": [
       "<div>\n",
       "<style scoped>\n",
       "    .dataframe tbody tr th:only-of-type {\n",
       "        vertical-align: middle;\n",
       "    }\n",
       "\n",
       "    .dataframe tbody tr th {\n",
       "        vertical-align: top;\n",
       "    }\n",
       "\n",
       "    .dataframe thead th {\n",
       "        text-align: right;\n",
       "    }\n",
       "</style>\n",
       "<table border=\"1\" class=\"dataframe\">\n",
       "  <thead>\n",
       "    <tr style=\"text-align: right;\">\n",
       "      <th></th>\n",
       "      <th>Hypothesis</th>\n",
       "      <th>RICE</th>\n",
       "    </tr>\n",
       "  </thead>\n",
       "  <tbody>\n",
       "    <tr>\n",
       "      <th>7</th>\n",
       "      <td>Добавить форму подписки на все основные страницы, чтобы собрать базу клиентов для email-рассылок</td>\n",
       "      <td>112.0</td>\n",
       "    </tr>\n",
       "    <tr>\n",
       "      <th>2</th>\n",
       "      <td>Добавить блоки рекомендаций товаров на сайт интернет магазина, чтобы повысить конверсию и средний чек заказа</td>\n",
       "      <td>56.0</td>\n",
       "    </tr>\n",
       "    <tr>\n",
       "      <th>0</th>\n",
       "      <td>Добавить два новых канала привлечения трафика, что позволит привлекать на 30% больше пользователей</td>\n",
       "      <td>40.0</td>\n",
       "    </tr>\n",
       "    <tr>\n",
       "      <th>6</th>\n",
       "      <td>Показать на главной странице баннеры с актуальными акциями и распродажами, чтобы увеличить конверсию</td>\n",
       "      <td>40.0</td>\n",
       "    </tr>\n",
       "    <tr>\n",
       "      <th>8</th>\n",
       "      <td>Запустить акцию, дающую скидку на товар в день рождения</td>\n",
       "      <td>16.0</td>\n",
       "    </tr>\n",
       "    <tr>\n",
       "      <th>3</th>\n",
       "      <td>Изменить структура категорий, что увеличит конверсию, т.к. пользователи быстрее найдут нужный товар</td>\n",
       "      <td>9.0</td>\n",
       "    </tr>\n",
       "    <tr>\n",
       "      <th>1</th>\n",
       "      <td>Запустить собственную службу доставки, что сократит срок доставки заказов</td>\n",
       "      <td>4.0</td>\n",
       "    </tr>\n",
       "    <tr>\n",
       "      <th>5</th>\n",
       "      <td>Добавить страницу отзывов клиентов о магазине, что позволит увеличить количество заказов</td>\n",
       "      <td>4.0</td>\n",
       "    </tr>\n",
       "    <tr>\n",
       "      <th>4</th>\n",
       "      <td>Изменить цвет фона главной страницы, чтобы увеличить вовлеченность пользователей</td>\n",
       "      <td>3.0</td>\n",
       "    </tr>\n",
       "  </tbody>\n",
       "</table>\n",
       "</div>"
      ],
      "text/plain": [
       "                                                                                                     Hypothesis  \\\n",
       "7              Добавить форму подписки на все основные страницы, чтобы собрать базу клиентов для email-рассылок   \n",
       "2  Добавить блоки рекомендаций товаров на сайт интернет магазина, чтобы повысить конверсию и средний чек заказа   \n",
       "0            Добавить два новых канала привлечения трафика, что позволит привлекать на 30% больше пользователей   \n",
       "6          Показать на главной странице баннеры с актуальными акциями и распродажами, чтобы увеличить конверсию   \n",
       "8                                                       Запустить акцию, дающую скидку на товар в день рождения   \n",
       "3           Изменить структура категорий, что увеличит конверсию, т.к. пользователи быстрее найдут нужный товар   \n",
       "1                                     Запустить собственную службу доставки, что сократит срок доставки заказов   \n",
       "5                      Добавить страницу отзывов клиентов о магазине, что позволит увеличить количество заказов   \n",
       "4                              Изменить цвет фона главной страницы, чтобы увеличить вовлеченность пользователей   \n",
       "\n",
       "    RICE  \n",
       "7  112.0  \n",
       "2   56.0  \n",
       "0   40.0  \n",
       "6   40.0  \n",
       "8   16.0  \n",
       "3    9.0  \n",
       "1    4.0  \n",
       "5    4.0  \n",
       "4    3.0  "
      ]
     },
     "execution_count": 14,
     "metadata": {},
     "output_type": "execute_result"
    }
   ],
   "source": [
    "#applying the RICE framework to prioritize hypotheses\n",
    "hypothesis['RICE']=round(hypothesis.Impact*hypothesis.Confidence*hypothesis.Reach/hypothesis.Efforts)\n",
    "hypothesis[['Hypothesis','RICE']].sort_values(by='RICE',ascending=False)"
   ]
  },
  {
   "cell_type": "markdown",
   "metadata": {},
   "source": [
    "The most promising hypotheses according to the RICE framework:to add a subscription form to all main pages to build a customer base for email newsletters,to add product recommendation blocks to the online store website to increase conversion and average check of the order, to add two new channels to increase traffic, which will help to attract 30% more users."
   ]
  },
  {
   "cell_type": "markdown",
   "metadata": {},
   "source": [
    "Hypothesis prioritization with RICE is different from hypothesis prioritization with ICE because it includes the Reach parameter, i.e. how many users will be affected by the hypothesis. Thus, we have identified leading hypotheses depending on the framework used.:\n",
    "ICE: to offer a birthday discount,to add two new channels to increase traffic, which will help to attract 30% more users, to add a subscription form to all main pages to build a customer base for email newsletters;\n",
    "RICE:to add a subscription form to all main pages to build a customer base for email newsletters,to add product recommendation blocks to the online store website to increase conversion and average check of the order, to add two new channels to increase traffic, which will help to attract 30% more users."
   ]
  },
  {
   "cell_type": "markdown",
   "metadata": {},
   "source": [
    "## Analyzing A/B Testing Results"
   ]
  },
  {
   "cell_type": "markdown",
   "metadata": {},
   "source": [
    "### Graph of cumulative revenue by groups"
   ]
  },
  {
   "cell_type": "code",
   "execution_count": 15,
   "metadata": {},
   "outputs": [],
   "source": [
    "#casting the date column in the data on orders to the datetime type \n",
    "orders['date'] = orders['date'].map(\n",
    "    lambda x: dt.datetime.strptime(x, '%Y-%m-%d')\n",
    ")"
   ]
  },
  {
   "cell_type": "code",
   "execution_count": 16,
   "metadata": {},
   "outputs": [],
   "source": [
    "#casting the date column in the data on visitors to the datetime type \n",
    "visitors['date'] = visitors['date'].map(\n",
    "    lambda x: dt.datetime.strptime(x, '%Y-%m-%d')\n",
    ")"
   ]
  },
  {
   "cell_type": "code",
   "execution_count": 17,
   "metadata": {},
   "outputs": [
    {
     "data": {
      "text/plain": [
       "2"
      ]
     },
     "execution_count": 17,
     "metadata": {},
     "output_type": "execute_result"
    }
   ],
   "source": [
    "#checking how many groups are in the A/B test \n",
    "orders.group.nunique()"
   ]
  },
  {
   "cell_type": "code",
   "execution_count": 18,
   "metadata": {},
   "outputs": [
    {
     "data": {
      "text/plain": [
       "Timestamp('2019-08-01 00:00:00')"
      ]
     },
     "execution_count": 18,
     "metadata": {},
     "output_type": "execute_result"
    }
   ],
   "source": [
    "#displaying the test start date\n",
    "orders.date.min()"
   ]
  },
  {
   "cell_type": "code",
   "execution_count": 19,
   "metadata": {},
   "outputs": [
    {
     "data": {
      "text/plain": [
       "Timestamp('2019-08-31 00:00:00')"
      ]
     },
     "execution_count": 19,
     "metadata": {},
     "output_type": "execute_result"
    }
   ],
   "source": [
    "#displaying the test final day\n",
    "orders.date.max()"
   ]
  },
  {
   "cell_type": "markdown",
   "metadata": {},
   "source": [
    "The duration of the test is 1 month"
   ]
  },
  {
   "cell_type": "code",
   "execution_count": 20,
   "metadata": {},
   "outputs": [
    {
     "data": {
      "text/html": [
       "<div>\n",
       "<style scoped>\n",
       "    .dataframe tbody tr th:only-of-type {\n",
       "        vertical-align: middle;\n",
       "    }\n",
       "\n",
       "    .dataframe tbody tr th {\n",
       "        vertical-align: top;\n",
       "    }\n",
       "\n",
       "    .dataframe thead th {\n",
       "        text-align: right;\n",
       "    }\n",
       "</style>\n",
       "<table border=\"1\" class=\"dataframe\">\n",
       "  <thead>\n",
       "    <tr style=\"text-align: right;\">\n",
       "      <th></th>\n",
       "      <th>visitorId</th>\n",
       "    </tr>\n",
       "    <tr>\n",
       "      <th>group</th>\n",
       "      <th></th>\n",
       "    </tr>\n",
       "  </thead>\n",
       "  <tbody>\n",
       "    <tr>\n",
       "      <th>A</th>\n",
       "      <td>503</td>\n",
       "    </tr>\n",
       "    <tr>\n",
       "      <th>B</th>\n",
       "      <td>586</td>\n",
       "    </tr>\n",
       "  </tbody>\n",
       "</table>\n",
       "</div>"
      ],
      "text/plain": [
       "       visitorId\n",
       "group           \n",
       "A            503\n",
       "B            586"
      ]
     },
     "execution_count": 20,
     "metadata": {},
     "output_type": "execute_result"
    }
   ],
   "source": [
    "#displaying the number of unique users in each group\n",
    "orders.groupby('group')\\\n",
    "      .agg({'visitorId':'nunique'})"
   ]
  },
  {
   "cell_type": "code",
   "execution_count": 21,
   "metadata": {},
   "outputs": [],
   "source": [
    "#finding the number of unique groups per user\n",
    "filtered= (\n",
    "    orders.groupby('visitorId',as_index=False)\n",
    "                 .agg({'group':'nunique'})                 \n",
    ")\n",
    "filtered.columns=['userId', 'group_qnt']"
   ]
  },
  {
   "cell_type": "code",
   "execution_count": 22,
   "metadata": {},
   "outputs": [
    {
     "data": {
      "text/html": [
       "<div>\n",
       "<style scoped>\n",
       "    .dataframe tbody tr th:only-of-type {\n",
       "        vertical-align: middle;\n",
       "    }\n",
       "\n",
       "    .dataframe tbody tr th {\n",
       "        vertical-align: top;\n",
       "    }\n",
       "\n",
       "    .dataframe thead th {\n",
       "        text-align: right;\n",
       "    }\n",
       "</style>\n",
       "<table border=\"1\" class=\"dataframe\">\n",
       "  <thead>\n",
       "    <tr style=\"text-align: right;\">\n",
       "      <th></th>\n",
       "      <th>userId</th>\n",
       "      <th>group_qnt</th>\n",
       "    </tr>\n",
       "  </thead>\n",
       "  <tbody>\n",
       "    <tr>\n",
       "      <th>0</th>\n",
       "      <td>5114589</td>\n",
       "      <td>1</td>\n",
       "    </tr>\n",
       "    <tr>\n",
       "      <th>1</th>\n",
       "      <td>6958315</td>\n",
       "      <td>1</td>\n",
       "    </tr>\n",
       "    <tr>\n",
       "      <th>2</th>\n",
       "      <td>8300375</td>\n",
       "      <td>2</td>\n",
       "    </tr>\n",
       "    <tr>\n",
       "      <th>3</th>\n",
       "      <td>11685486</td>\n",
       "      <td>1</td>\n",
       "    </tr>\n",
       "    <tr>\n",
       "      <th>4</th>\n",
       "      <td>39475350</td>\n",
       "      <td>1</td>\n",
       "    </tr>\n",
       "    <tr>\n",
       "      <th>5</th>\n",
       "      <td>47206413</td>\n",
       "      <td>1</td>\n",
       "    </tr>\n",
       "    <tr>\n",
       "      <th>6</th>\n",
       "      <td>48147722</td>\n",
       "      <td>1</td>\n",
       "    </tr>\n",
       "    <tr>\n",
       "      <th>7</th>\n",
       "      <td>54447517</td>\n",
       "      <td>1</td>\n",
       "    </tr>\n",
       "    <tr>\n",
       "      <th>8</th>\n",
       "      <td>56960363</td>\n",
       "      <td>1</td>\n",
       "    </tr>\n",
       "    <tr>\n",
       "      <th>9</th>\n",
       "      <td>66685450</td>\n",
       "      <td>1</td>\n",
       "    </tr>\n",
       "  </tbody>\n",
       "</table>\n",
       "</div>"
      ],
      "text/plain": [
       "     userId  group_qnt\n",
       "0   5114589          1\n",
       "1   6958315          1\n",
       "2   8300375          2\n",
       "3  11685486          1\n",
       "4  39475350          1\n",
       "5  47206413          1\n",
       "6  48147722          1\n",
       "7  54447517          1\n",
       "8  56960363          1\n",
       "9  66685450          1"
      ]
     },
     "execution_count": 22,
     "metadata": {},
     "output_type": "execute_result"
    }
   ],
   "source": [
    "#check\n",
    "filtered.head(10)"
   ]
  },
  {
   "cell_type": "code",
   "execution_count": 23,
   "metadata": {},
   "outputs": [],
   "source": [
    "#finding users who participate in several test groups at the same time\n",
    "doubled_id=filtered.query('group_qnt>1')"
   ]
  },
  {
   "cell_type": "code",
   "execution_count": 24,
   "metadata": {},
   "outputs": [
    {
     "data": {
      "text/html": [
       "<div>\n",
       "<style scoped>\n",
       "    .dataframe tbody tr th:only-of-type {\n",
       "        vertical-align: middle;\n",
       "    }\n",
       "\n",
       "    .dataframe tbody tr th {\n",
       "        vertical-align: top;\n",
       "    }\n",
       "\n",
       "    .dataframe thead th {\n",
       "        text-align: right;\n",
       "    }\n",
       "</style>\n",
       "<table border=\"1\" class=\"dataframe\">\n",
       "  <thead>\n",
       "    <tr style=\"text-align: right;\">\n",
       "      <th></th>\n",
       "      <th>userId</th>\n",
       "      <th>group_qnt</th>\n",
       "    </tr>\n",
       "  </thead>\n",
       "  <tbody>\n",
       "    <tr>\n",
       "      <th>2</th>\n",
       "      <td>8300375</td>\n",
       "      <td>2</td>\n",
       "    </tr>\n",
       "    <tr>\n",
       "      <th>44</th>\n",
       "      <td>199603092</td>\n",
       "      <td>2</td>\n",
       "    </tr>\n",
       "    <tr>\n",
       "      <th>51</th>\n",
       "      <td>232979603</td>\n",
       "      <td>2</td>\n",
       "    </tr>\n",
       "    <tr>\n",
       "      <th>55</th>\n",
       "      <td>237748145</td>\n",
       "      <td>2</td>\n",
       "    </tr>\n",
       "    <tr>\n",
       "      <th>66</th>\n",
       "      <td>276558944</td>\n",
       "      <td>2</td>\n",
       "    </tr>\n",
       "    <tr>\n",
       "      <th>84</th>\n",
       "      <td>351125977</td>\n",
       "      <td>2</td>\n",
       "    </tr>\n",
       "    <tr>\n",
       "      <th>97</th>\n",
       "      <td>393266494</td>\n",
       "      <td>2</td>\n",
       "    </tr>\n",
       "    <tr>\n",
       "      <th>114</th>\n",
       "      <td>457167155</td>\n",
       "      <td>2</td>\n",
       "    </tr>\n",
       "    <tr>\n",
       "      <th>119</th>\n",
       "      <td>471551937</td>\n",
       "      <td>2</td>\n",
       "    </tr>\n",
       "    <tr>\n",
       "      <th>122</th>\n",
       "      <td>477780734</td>\n",
       "      <td>2</td>\n",
       "    </tr>\n",
       "  </tbody>\n",
       "</table>\n",
       "</div>"
      ],
      "text/plain": [
       "        userId  group_qnt\n",
       "2      8300375          2\n",
       "44   199603092          2\n",
       "51   232979603          2\n",
       "55   237748145          2\n",
       "66   276558944          2\n",
       "84   351125977          2\n",
       "97   393266494          2\n",
       "114  457167155          2\n",
       "119  471551937          2\n",
       "122  477780734          2"
      ]
     },
     "execution_count": 24,
     "metadata": {},
     "output_type": "execute_result"
    }
   ],
   "source": [
    "#check\n",
    "doubled_id.head(10)"
   ]
  },
  {
   "cell_type": "code",
   "execution_count": 25,
   "metadata": {},
   "outputs": [],
   "source": [
    "#excluding from the orders dataset users who participate in several test groups at the same time\n",
    "cond = orders['visitorId'].isin(doubled_id['userId'])\n",
    "orders.drop(orders[cond].index, inplace = True)"
   ]
  },
  {
   "cell_type": "code",
   "execution_count": 26,
   "metadata": {},
   "outputs": [
    {
     "data": {
      "text/html": [
       "<div>\n",
       "<style scoped>\n",
       "    .dataframe tbody tr th:only-of-type {\n",
       "        vertical-align: middle;\n",
       "    }\n",
       "\n",
       "    .dataframe tbody tr th {\n",
       "        vertical-align: top;\n",
       "    }\n",
       "\n",
       "    .dataframe thead th {\n",
       "        text-align: right;\n",
       "    }\n",
       "</style>\n",
       "<table border=\"1\" class=\"dataframe\">\n",
       "  <thead>\n",
       "    <tr style=\"text-align: right;\">\n",
       "      <th></th>\n",
       "      <th>visitorId</th>\n",
       "      <th>group</th>\n",
       "    </tr>\n",
       "  </thead>\n",
       "  <tbody>\n",
       "  </tbody>\n",
       "</table>\n",
       "</div>"
      ],
      "text/plain": [
       "Empty DataFrame\n",
       "Columns: [visitorId, group]\n",
       "Index: []"
      ]
     },
     "execution_count": 26,
     "metadata": {},
     "output_type": "execute_result"
    }
   ],
   "source": [
    "#check\n",
    "orders.groupby('visitorId',as_index=False)\\\n",
    "                 .agg({'group':'nunique'})\\\n",
    "                 .query('group>1')"
   ]
  },
  {
   "cell_type": "markdown",
   "metadata": {},
   "source": [
    "So, we have identified users who performed the target actions in two groups at the same time, we decided to remove such users from the data, as their presence does not allow us to carry out a correct AB test and analize its results,it affects the basic metrics that we work on."
   ]
  },
  {
   "cell_type": "code",
   "execution_count": 27,
   "metadata": {},
   "outputs": [],
   "source": [
    "#creating an array of unique pairs of date values and test groups\n",
    "datesGroups = orders[['date','group']].drop_duplicates()"
   ]
  },
  {
   "cell_type": "code",
   "execution_count": 28,
   "metadata": {},
   "outputs": [],
   "source": [
    "#creating ordersAggregated variable,which contains:\n",
    "#A/B test group;\n",
    "#number of unique orders in the test group up to specified date;\n",
    "#umber of unique users who made at least 1 order in the test group up to specified date;\n",
    "#total revenue of orders in the test group up to specified date\n",
    "#and sortingcreate a variable visitorsAggregated, in which we will enter information about the date, the A / B test group and the number of unique visitors in the test group up to the specified date inclusive ordersAggregated by 'date' and 'group'\n",
    "ordersAggregated = datesGroups.apply(lambda x: orders[np.logical_and(orders['date'] <= x['date'], orders['group'] == x['group'])]\\\n",
    ".agg({'date' : 'max', 'group' : 'max', 'transactionId' : 'nunique', 'visitorId' : 'nunique', 'revenue' : 'sum'}), axis=1).sort_values(by=['date','group'])"
   ]
  },
  {
   "cell_type": "code",
   "execution_count": 29,
   "metadata": {},
   "outputs": [
    {
     "data": {
      "text/html": [
       "<div>\n",
       "<style scoped>\n",
       "    .dataframe tbody tr th:only-of-type {\n",
       "        vertical-align: middle;\n",
       "    }\n",
       "\n",
       "    .dataframe tbody tr th {\n",
       "        vertical-align: top;\n",
       "    }\n",
       "\n",
       "    .dataframe thead th {\n",
       "        text-align: right;\n",
       "    }\n",
       "</style>\n",
       "<table border=\"1\" class=\"dataframe\">\n",
       "  <thead>\n",
       "    <tr style=\"text-align: right;\">\n",
       "      <th></th>\n",
       "      <th>date</th>\n",
       "      <th>group</th>\n",
       "      <th>transactionId</th>\n",
       "      <th>visitorId</th>\n",
       "      <th>revenue</th>\n",
       "    </tr>\n",
       "  </thead>\n",
       "  <tbody>\n",
       "    <tr>\n",
       "      <th>55</th>\n",
       "      <td>2019-08-01</td>\n",
       "      <td>A</td>\n",
       "      <td>23</td>\n",
       "      <td>19</td>\n",
       "      <td>142779</td>\n",
       "    </tr>\n",
       "    <tr>\n",
       "      <th>66</th>\n",
       "      <td>2019-08-01</td>\n",
       "      <td>B</td>\n",
       "      <td>17</td>\n",
       "      <td>17</td>\n",
       "      <td>59758</td>\n",
       "    </tr>\n",
       "    <tr>\n",
       "      <th>175</th>\n",
       "      <td>2019-08-02</td>\n",
       "      <td>A</td>\n",
       "      <td>42</td>\n",
       "      <td>36</td>\n",
       "      <td>234381</td>\n",
       "    </tr>\n",
       "    <tr>\n",
       "      <th>173</th>\n",
       "      <td>2019-08-02</td>\n",
       "      <td>B</td>\n",
       "      <td>40</td>\n",
       "      <td>39</td>\n",
       "      <td>221801</td>\n",
       "    </tr>\n",
       "    <tr>\n",
       "      <th>291</th>\n",
       "      <td>2019-08-03</td>\n",
       "      <td>A</td>\n",
       "      <td>66</td>\n",
       "      <td>60</td>\n",
       "      <td>346854</td>\n",
       "    </tr>\n",
       "    <tr>\n",
       "      <th>383</th>\n",
       "      <td>2019-08-03</td>\n",
       "      <td>B</td>\n",
       "      <td>54</td>\n",
       "      <td>53</td>\n",
       "      <td>288850</td>\n",
       "    </tr>\n",
       "    <tr>\n",
       "      <th>499</th>\n",
       "      <td>2019-08-04</td>\n",
       "      <td>A</td>\n",
       "      <td>77</td>\n",
       "      <td>71</td>\n",
       "      <td>388030</td>\n",
       "    </tr>\n",
       "    <tr>\n",
       "      <th>498</th>\n",
       "      <td>2019-08-04</td>\n",
       "      <td>B</td>\n",
       "      <td>68</td>\n",
       "      <td>66</td>\n",
       "      <td>385740</td>\n",
       "    </tr>\n",
       "    <tr>\n",
       "      <th>719</th>\n",
       "      <td>2019-08-05</td>\n",
       "      <td>A</td>\n",
       "      <td>99</td>\n",
       "      <td>92</td>\n",
       "      <td>474413</td>\n",
       "    </tr>\n",
       "    <tr>\n",
       "      <th>699</th>\n",
       "      <td>2019-08-05</td>\n",
       "      <td>B</td>\n",
       "      <td>89</td>\n",
       "      <td>87</td>\n",
       "      <td>475648</td>\n",
       "    </tr>\n",
       "  </tbody>\n",
       "</table>\n",
       "</div>"
      ],
      "text/plain": [
       "          date group  transactionId  visitorId  revenue\n",
       "55  2019-08-01     A             23         19   142779\n",
       "66  2019-08-01     B             17         17    59758\n",
       "175 2019-08-02     A             42         36   234381\n",
       "173 2019-08-02     B             40         39   221801\n",
       "291 2019-08-03     A             66         60   346854\n",
       "383 2019-08-03     B             54         53   288850\n",
       "499 2019-08-04     A             77         71   388030\n",
       "498 2019-08-04     B             68         66   385740\n",
       "719 2019-08-05     A             99         92   474413\n",
       "699 2019-08-05     B             89         87   475648"
      ]
     },
     "execution_count": 29,
     "metadata": {},
     "output_type": "execute_result"
    }
   ],
   "source": [
    "#check\n",
    "ordersAggregated.head(10) "
   ]
  },
  {
   "cell_type": "code",
   "execution_count": 30,
   "metadata": {},
   "outputs": [],
   "source": [
    "#creating visitorsAggregated variable, which contains information on date, A / B test group and number of unique visitors in the test group up to specified date \n",
    "visitorsAggregated = datesGroups.apply(lambda x: visitors[np.logical_and(visitors['date'] <= x['date'], visitors['group'] == x['group'])].agg({'date' : 'max', 'group' : 'max', 'visitors' : 'sum'}), axis=1).sort_values(by=['date','group'])"
   ]
  },
  {
   "cell_type": "code",
   "execution_count": 31,
   "metadata": {},
   "outputs": [
    {
     "data": {
      "text/html": [
       "<div>\n",
       "<style scoped>\n",
       "    .dataframe tbody tr th:only-of-type {\n",
       "        vertical-align: middle;\n",
       "    }\n",
       "\n",
       "    .dataframe tbody tr th {\n",
       "        vertical-align: top;\n",
       "    }\n",
       "\n",
       "    .dataframe thead th {\n",
       "        text-align: right;\n",
       "    }\n",
       "</style>\n",
       "<table border=\"1\" class=\"dataframe\">\n",
       "  <thead>\n",
       "    <tr style=\"text-align: right;\">\n",
       "      <th></th>\n",
       "      <th>date</th>\n",
       "      <th>group</th>\n",
       "      <th>visitors</th>\n",
       "    </tr>\n",
       "  </thead>\n",
       "  <tbody>\n",
       "    <tr>\n",
       "      <th>55</th>\n",
       "      <td>2019-08-01</td>\n",
       "      <td>A</td>\n",
       "      <td>719</td>\n",
       "    </tr>\n",
       "    <tr>\n",
       "      <th>66</th>\n",
       "      <td>2019-08-01</td>\n",
       "      <td>B</td>\n",
       "      <td>713</td>\n",
       "    </tr>\n",
       "    <tr>\n",
       "      <th>175</th>\n",
       "      <td>2019-08-02</td>\n",
       "      <td>A</td>\n",
       "      <td>1338</td>\n",
       "    </tr>\n",
       "    <tr>\n",
       "      <th>173</th>\n",
       "      <td>2019-08-02</td>\n",
       "      <td>B</td>\n",
       "      <td>1294</td>\n",
       "    </tr>\n",
       "    <tr>\n",
       "      <th>291</th>\n",
       "      <td>2019-08-03</td>\n",
       "      <td>A</td>\n",
       "      <td>1845</td>\n",
       "    </tr>\n",
       "    <tr>\n",
       "      <th>383</th>\n",
       "      <td>2019-08-03</td>\n",
       "      <td>B</td>\n",
       "      <td>1803</td>\n",
       "    </tr>\n",
       "    <tr>\n",
       "      <th>499</th>\n",
       "      <td>2019-08-04</td>\n",
       "      <td>A</td>\n",
       "      <td>2562</td>\n",
       "    </tr>\n",
       "    <tr>\n",
       "      <th>498</th>\n",
       "      <td>2019-08-04</td>\n",
       "      <td>B</td>\n",
       "      <td>2573</td>\n",
       "    </tr>\n",
       "    <tr>\n",
       "      <th>719</th>\n",
       "      <td>2019-08-05</td>\n",
       "      <td>A</td>\n",
       "      <td>3318</td>\n",
       "    </tr>\n",
       "    <tr>\n",
       "      <th>699</th>\n",
       "      <td>2019-08-05</td>\n",
       "      <td>B</td>\n",
       "      <td>3280</td>\n",
       "    </tr>\n",
       "  </tbody>\n",
       "</table>\n",
       "</div>"
      ],
      "text/plain": [
       "          date group  visitors\n",
       "55  2019-08-01     A       719\n",
       "66  2019-08-01     B       713\n",
       "175 2019-08-02     A      1338\n",
       "173 2019-08-02     B      1294\n",
       "291 2019-08-03     A      1845\n",
       "383 2019-08-03     B      1803\n",
       "499 2019-08-04     A      2562\n",
       "498 2019-08-04     B      2573\n",
       "719 2019-08-05     A      3318\n",
       "699 2019-08-05     B      3280"
      ]
     },
     "execution_count": 31,
     "metadata": {},
     "output_type": "execute_result"
    }
   ],
   "source": [
    "#check\n",
    "visitorsAggregated.head(10)"
   ]
  },
  {
   "cell_type": "code",
   "execution_count": 32,
   "metadata": {},
   "outputs": [],
   "source": [
    "#creating cumulativeData variable by combining visitorsAggregated variable with ordersAggregated variable on 'date' and 'group'\n",
    "cumulativeData = ordersAggregated.merge(visitorsAggregated, left_on=['date', 'group'], right_on=['date', 'group'])\n",
    "cumulativeData.columns = ['date', 'group', 'orders', 'buyers', 'revenue', 'visitors']"
   ]
  },
  {
   "cell_type": "code",
   "execution_count": 33,
   "metadata": {},
   "outputs": [
    {
     "data": {
      "text/html": [
       "<div>\n",
       "<style scoped>\n",
       "    .dataframe tbody tr th:only-of-type {\n",
       "        vertical-align: middle;\n",
       "    }\n",
       "\n",
       "    .dataframe tbody tr th {\n",
       "        vertical-align: top;\n",
       "    }\n",
       "\n",
       "    .dataframe thead th {\n",
       "        text-align: right;\n",
       "    }\n",
       "</style>\n",
       "<table border=\"1\" class=\"dataframe\">\n",
       "  <thead>\n",
       "    <tr style=\"text-align: right;\">\n",
       "      <th></th>\n",
       "      <th>date</th>\n",
       "      <th>group</th>\n",
       "      <th>orders</th>\n",
       "      <th>buyers</th>\n",
       "      <th>revenue</th>\n",
       "      <th>visitors</th>\n",
       "    </tr>\n",
       "  </thead>\n",
       "  <tbody>\n",
       "    <tr>\n",
       "      <th>0</th>\n",
       "      <td>2019-08-01</td>\n",
       "      <td>A</td>\n",
       "      <td>23</td>\n",
       "      <td>19</td>\n",
       "      <td>142779</td>\n",
       "      <td>719</td>\n",
       "    </tr>\n",
       "    <tr>\n",
       "      <th>1</th>\n",
       "      <td>2019-08-01</td>\n",
       "      <td>B</td>\n",
       "      <td>17</td>\n",
       "      <td>17</td>\n",
       "      <td>59758</td>\n",
       "      <td>713</td>\n",
       "    </tr>\n",
       "    <tr>\n",
       "      <th>2</th>\n",
       "      <td>2019-08-02</td>\n",
       "      <td>A</td>\n",
       "      <td>42</td>\n",
       "      <td>36</td>\n",
       "      <td>234381</td>\n",
       "      <td>1338</td>\n",
       "    </tr>\n",
       "    <tr>\n",
       "      <th>3</th>\n",
       "      <td>2019-08-02</td>\n",
       "      <td>B</td>\n",
       "      <td>40</td>\n",
       "      <td>39</td>\n",
       "      <td>221801</td>\n",
       "      <td>1294</td>\n",
       "    </tr>\n",
       "    <tr>\n",
       "      <th>4</th>\n",
       "      <td>2019-08-03</td>\n",
       "      <td>A</td>\n",
       "      <td>66</td>\n",
       "      <td>60</td>\n",
       "      <td>346854</td>\n",
       "      <td>1845</td>\n",
       "    </tr>\n",
       "    <tr>\n",
       "      <th>5</th>\n",
       "      <td>2019-08-03</td>\n",
       "      <td>B</td>\n",
       "      <td>54</td>\n",
       "      <td>53</td>\n",
       "      <td>288850</td>\n",
       "      <td>1803</td>\n",
       "    </tr>\n",
       "    <tr>\n",
       "      <th>6</th>\n",
       "      <td>2019-08-04</td>\n",
       "      <td>A</td>\n",
       "      <td>77</td>\n",
       "      <td>71</td>\n",
       "      <td>388030</td>\n",
       "      <td>2562</td>\n",
       "    </tr>\n",
       "    <tr>\n",
       "      <th>7</th>\n",
       "      <td>2019-08-04</td>\n",
       "      <td>B</td>\n",
       "      <td>68</td>\n",
       "      <td>66</td>\n",
       "      <td>385740</td>\n",
       "      <td>2573</td>\n",
       "    </tr>\n",
       "    <tr>\n",
       "      <th>8</th>\n",
       "      <td>2019-08-05</td>\n",
       "      <td>A</td>\n",
       "      <td>99</td>\n",
       "      <td>92</td>\n",
       "      <td>474413</td>\n",
       "      <td>3318</td>\n",
       "    </tr>\n",
       "    <tr>\n",
       "      <th>9</th>\n",
       "      <td>2019-08-05</td>\n",
       "      <td>B</td>\n",
       "      <td>89</td>\n",
       "      <td>87</td>\n",
       "      <td>475648</td>\n",
       "      <td>3280</td>\n",
       "    </tr>\n",
       "  </tbody>\n",
       "</table>\n",
       "</div>"
      ],
      "text/plain": [
       "        date group  orders  buyers  revenue  visitors\n",
       "0 2019-08-01     A      23      19   142779       719\n",
       "1 2019-08-01     B      17      17    59758       713\n",
       "2 2019-08-02     A      42      36   234381      1338\n",
       "3 2019-08-02     B      40      39   221801      1294\n",
       "4 2019-08-03     A      66      60   346854      1845\n",
       "5 2019-08-03     B      54      53   288850      1803\n",
       "6 2019-08-04     A      77      71   388030      2562\n",
       "7 2019-08-04     B      68      66   385740      2573\n",
       "8 2019-08-05     A      99      92   474413      3318\n",
       "9 2019-08-05     B      89      87   475648      3280"
      ]
     },
     "execution_count": 33,
     "metadata": {},
     "output_type": "execute_result"
    }
   ],
   "source": [
    "#check\n",
    "cumulativeData.head(10)"
   ]
  },
  {
   "cell_type": "code",
   "execution_count": 34,
   "metadata": {},
   "outputs": [],
   "source": [
    "#creating cumulativeRevenueA variable,which contains data on date, revenue and orders for A group \n",
    "cumulativeRevenueA = cumulativeData[cumulativeData['group']=='A'][['date','revenue', 'orders']]"
   ]
  },
  {
   "cell_type": "code",
   "execution_count": 35,
   "metadata": {},
   "outputs": [],
   "source": [
    "#creating cumulativeRevenueB variable,which contains data on date, revenue and orders for B group \n",
    "cumulativeRevenueB = cumulativeData[cumulativeData['group']=='B'][['date','revenue', 'orders']]"
   ]
  },
  {
   "cell_type": "code",
   "execution_count": 36,
   "metadata": {},
   "outputs": [
    {
     "data": {
      "image/png": "[encoded data removed]",
      "text/plain": [
       "<Figure size 1200x700 with 1 Axes>"
      ]
     },
     "metadata": {},
     "output_type": "display_data"
    }
   ],
   "source": [
    "#creating a graph of cumulative revenue by groups\n",
    "title = plt.title('Graph of cumulative revenue by groups')\n",
    "xlabel = plt.xlabel('Date')\n",
    "ylabel = plt.ylabel('Revenue')\n",
    "plt.plot(cumulativeRevenueA['date'], cumulativeRevenueA['revenue'], label='A')\n",
    "plt.plot(cumulativeRevenueB['date'], cumulativeRevenueB['revenue'], label='B')\n",
    "plt.legend();"
   ]
  },
  {
   "cell_type": "markdown",
   "metadata": {},
   "source": [
    "We can note that during the entire period of the test, the revenues of both groups are growing, the revenue of group B is greater than that of group A, you can also notice that the revenue graph for group B is not smooth in several places, most likely it was influenced by outliers and abnormal values."
   ]
  },
  {
   "cell_type": "markdown",
   "metadata": {},
   "source": [
    "### Graph of the cumulative average check by groups"
   ]
  },
  {
   "cell_type": "code",
   "execution_count": 37,
   "metadata": {},
   "outputs": [
    {
     "data": {
      "image/png": "[encoded data removed]",
      "text/plain": [
       "<Figure size 1200x700 with 1 Axes>"
      ]
     },
     "metadata": {},
     "output_type": "display_data"
    }
   ],
   "source": [
    "#creating a graph of the cumulative average check for groups\n",
    "title = plt.title('Graph of the cumulative average check by groups')\n",
    "xlabel = plt.xlabel('Date')\n",
    "ylabel = plt.ylabel('Average check')\n",
    "plt.plot(cumulativeRevenueA['date'], cumulativeRevenueA['revenue']/cumulativeRevenueA['orders'], label='A')\n",
    "plt.plot(cumulativeRevenueB['date'], cumulativeRevenueB['revenue']/cumulativeRevenueB['orders'], label='B')\n",
    "plt.legend();"
   ]
  },
  {
   "cell_type": "markdown",
   "metadata": {},
   "source": [
    "The average check of group B significantly exceeds the average check of group A, also there are more points of sharp rise and fall on this chart, which also indicates the presence of anomalies and outliers."
   ]
  },
  {
   "cell_type": "markdown",
   "metadata": {},
   "source": [
    "### Graph of the relative change in the cumulative average check of group B to group A"
   ]
  },
  {
   "cell_type": "code",
   "execution_count": 38,
   "metadata": {},
   "outputs": [],
   "source": [
    "#creating a mergedCumulativeRevenue variable by joining cumulative RevenueA and cumulativeRevenueB on 'date'\n",
    "mergedCumulativeRevenue = cumulativeRevenueA.merge(cumulativeRevenueB, left_on='date', right_on='date', how='left', suffixes=['A', 'B'])"
   ]
  },
  {
   "cell_type": "code",
   "execution_count": 39,
   "metadata": {},
   "outputs": [
    {
     "data": {
      "image/png": "[encoded data removed]",
      "text/plain": [
       "<Figure size 1200x700 with 1 Axes>"
      ]
     },
     "metadata": {},
     "output_type": "display_data"
    }
   ],
   "source": [
    "#creating a graph of ratio of average checks of group B to group A\n",
    "title = plt.title('Graph of the ratio of average checks of group B to group A')\n",
    "xlabel = plt.xlabel('Date')\n",
    "ylabel = plt.ylabel('Relative change in the average check')\n",
    "plt.plot(mergedCumulativeRevenue['date'], (mergedCumulativeRevenue['revenueB']/mergedCumulativeRevenue['ordersB'])/(mergedCumulativeRevenue['revenueA']/mergedCumulativeRevenue['ordersA'])-1)\n",
    "plt.axhline(y=0, color='black', linestyle='--');"
   ]
  },
  {
   "cell_type": "markdown",
   "metadata": {},
   "source": [
    "The graph shows different fluctuations in the ratio of average checks, most likely the reason also lies in large orders (outliners)."
   ]
  },
  {
   "cell_type": "markdown",
   "metadata": {},
   "source": [
    "### Graph of the cumulative average number of orders per visitor by group"
   ]
  },
  {
   "cell_type": "code",
   "execution_count": 40,
   "metadata": {},
   "outputs": [],
   "source": [
    "#adding the 'av_ord' column to the cumulative Data dataframe, which contains the cumulative average number of orders per visitor for each group\n",
    "cumulativeData['av_ord'] = cumulativeData['orders']/cumulativeData['visitors']"
   ]
  },
  {
   "cell_type": "code",
   "execution_count": 41,
   "metadata": {},
   "outputs": [],
   "source": [
    "#creating cumulativeDataA variable, which includes all the data from cumulativeData for group A\n",
    "cumulativeDataA = cumulativeData[cumulativeData['group']=='A']"
   ]
  },
  {
   "cell_type": "code",
   "execution_count": 42,
   "metadata": {},
   "outputs": [],
   "source": [
    "#creating cumulativeDataB variable, which includes all the data from cumulativeData for group B\n",
    "cumulativeDataB = cumulativeData[cumulativeData['group']=='B']"
   ]
  },
  {
   "cell_type": "code",
   "execution_count": 43,
   "metadata": {},
   "outputs": [
    {
     "data": {
      "image/png": "[encoded data removed]",
      "text/plain": [
       "<Figure size 1200x700 with 1 Axes>"
      ]
     },
     "metadata": {},
     "output_type": "display_data"
    }
   ],
   "source": [
    "#creating a graph of the cumulative average number of orders per visitor by groups\n",
    "title = plt.title('Graph of the cumulative average number of orders per visitor by group')\n",
    "xlabel = plt.xlabel('Date')\n",
    "ylabel = plt.ylabel('Average orders per visitor')\n",
    "plt.plot(cumulativeDataA['date'], cumulativeDataA['av_ord'], label='A')\n",
    "plt.plot(cumulativeDataB['date'], cumulativeDataB['av_ord'], label='B')\n",
    "plt.legend();"
   ]
  },
  {
   "cell_type": "markdown",
   "metadata": {},
   "source": [
    "The graph shows that the average number of orders per visitor in group B is significantly higher than the average number of orders per visitor in group A, while sharp fluctuations are visible at the beginning of the test, most likely these are also anomalies."
   ]
  },
  {
   "cell_type": "markdown",
   "metadata": {},
   "source": [
    "###  Graph of the relative change of the cumulative average number of orders per visitor of group B to group A"
   ]
  },
  {
   "cell_type": "code",
   "execution_count": 44,
   "metadata": {},
   "outputs": [],
   "source": [
    "#creating mergedCumulativeavgord variable by combining cumulativeDataA and cumulativeDataB on 'date'\n",
    "mergedCumulativeavgord = cumulativeDataA[['date','av_ord']].merge(cumulativeDataB[['date','av_ord']], left_on='date', right_on='date', how='left', suffixes=['A', 'B'])"
   ]
  },
  {
   "cell_type": "code",
   "execution_count": 45,
   "metadata": {},
   "outputs": [
    {
     "data": {
      "image/png": "[encoded data removed]",
      "text/plain": [
       "<Figure size 1200x700 with 1 Axes>"
      ]
     },
     "metadata": {},
     "output_type": "display_data"
    }
   ],
   "source": [
    "#creating a plot of the relative change in the cumulative average number of orders per visitor of group B to group A\n",
    "title = plt.title('Graph of the relative change in the cumulative average number of orders per visitor of group B to group A')\n",
    "xlabel = plt.xlabel('Date')\n",
    "ylabel = plt.ylabel('Relative change in the average number of orders per visitor')\n",
    "plt.plot(mergedCumulativeavgord['date'],mergedCumulativeavgord['av_ordB']/mergedCumulativeavgord['av_ordA']-1, label=\"Relative increase in the cumulative average number of orders per visitor of group B relative to group A\")\n",
    "plt.legend()\n",
    "plt.axhline(y=0, color='black', linestyle='--')\n",
    "plt.axhline(y=-0.1, color='grey', linestyle='--');"
   ]
  },
  {
   "cell_type": "markdown",
   "metadata": {},
   "source": [
    "The graph of the relative change in the cumulative average number of orders per visitor of group B to group A once again shows the leadership of group B over group A, at the beginning of the test, the leadership of group A is also traced, which is again associated with the presence of large orders."
   ]
  },
  {
   "cell_type": "markdown",
   "metadata": {},
   "source": [
    "### Scatter plot of the number of orders by users"
   ]
  },
  {
   "cell_type": "code",
   "execution_count": 46,
   "metadata": {},
   "outputs": [],
   "source": [
    "#creating ordersByUsers variable in order to count the number of orders per user\n",
    "ordersByUsers = (\n",
    "    orders.groupby('visitorId', as_index=False)\n",
    "    .agg({'transactionId': 'nunique'})\n",
    ")\n",
    "ordersByUsers.columns = ['userId', 'orders']"
   ]
  },
  {
   "cell_type": "code",
   "execution_count": 47,
   "metadata": {},
   "outputs": [
    {
     "data": {
      "image/png": "[encoded data removed]",
      "text/plain": [
       "<Figure size 1200x700 with 1 Axes>"
      ]
     },
     "metadata": {},
     "output_type": "display_data"
    }
   ],
   "source": [
    "#creating a scatter plot of the number of orders by users\n",
    "xlabel = plt.xlabel('Number of users')\n",
    "ylabel = plt.ylabel('Number of orders by users')\n",
    "x_values = pd.Series(range(0,len(ordersByUsers)))\n",
    "plt.title('Graph of the number of orders by users')\n",
    "plt.scatter(x_values, ordersByUsers['orders']);"
   ]
  },
  {
   "cell_type": "markdown",
   "metadata": {},
   "source": [
    "We can note that most of the users have up to 2 orders, there are outliers and anomalies as well, for example, 3 orders."
   ]
  },
  {
   "cell_type": "markdown",
   "metadata": {},
   "source": [
    "### The 95th and 99th percentiles of orders per user"
   ]
  },
  {
   "cell_type": "code",
   "execution_count": 48,
   "metadata": {},
   "outputs": [
    {
     "data": {
      "text/plain": [
       "array([1., 2.])"
      ]
     },
     "execution_count": 48,
     "metadata": {},
     "output_type": "execute_result"
    }
   ],
   "source": [
    "#calculating the 95th and 99th percentiles of orders per user\n",
    "np.percentile(ordersByUsers['orders'], [95, 99])"
   ]
  },
  {
   "cell_type": "markdown",
   "metadata": {},
   "source": [
    "Thus, no more than 5% of buyers made more than one order, and only 1% of buyers made more than 2 orders.\n",
    "We will select buyers who made more than 1 order as abnormal users."
   ]
  },
  {
   "cell_type": "markdown",
   "metadata": {},
   "source": [
    "### Scatter plot of orders values"
   ]
  },
  {
   "cell_type": "code",
   "execution_count": 49,
   "metadata": {},
   "outputs": [
    {
     "data": {
      "image/png": "[encoded data removed]",
      "text/plain": [
       "<Figure size 1200x700 with 1 Axes>"
      ]
     },
     "metadata": {},
     "output_type": "display_data"
    }
   ],
   "source": [
    "#creating a scatter plot of orders values\n",
    "xlabel = plt.xlabel('Number of orders')\n",
    "ylabel = plt.ylabel('Order value')\n",
    "x_values = pd.Series(range(0,len(orders['revenue'])))\n",
    "plt.title('Order value chart')\n",
    "plt.scatter(x_values, orders['revenue']);"
   ]
  },
  {
   "cell_type": "code",
   "execution_count": 50,
   "metadata": {},
   "outputs": [
    {
     "data": {
      "image/png": "[encoded data removed]",
      "text/plain": [
       "<Figure size 1200x700 with 1 Axes>"
      ]
     },
     "metadata": {},
     "output_type": "display_data"
    }
   ],
   "source": [
    "#creating a scatter plot of orders values\n",
    "xlabel = plt.xlabel('Number of orders')\n",
    "ylabel = plt.ylabel('Order value')\n",
    "x_values = pd.Series(range(0,len(orders['revenue'])))\n",
    "plt.title('Order value chart')\n",
    "plt.scatter(x_values, orders['revenue'])\n",
    "plt.ylim (0, 27000);"
   ]
  },
  {
   "cell_type": "markdown",
   "metadata": {},
   "source": [
    "After analyzing the scatter plot without outliers and anomalies, we can note that most of the orders are concentrated in the range up to 20 000 RUB."
   ]
  },
  {
   "cell_type": "markdown",
   "metadata": {},
   "source": [
    "This graph clearly shows that the cost of almost every order is up to 20 000 RUB, there are only a few outliers."
   ]
  },
  {
   "cell_type": "markdown",
   "metadata": {},
   "source": [
    "### 95-й и 99-й перцентили стоимости заказов"
   ]
  },
  {
   "cell_type": "code",
   "execution_count": 51,
   "metadata": {},
   "outputs": [
    {
     "data": {
      "text/plain": [
       "array([26785., 53904.])"
      ]
     },
     "execution_count": 51,
     "metadata": {},
     "output_type": "execute_result"
    }
   ],
   "source": [
    "#calculating the 95th and 99th percentiles of order value\n",
    "np.percentile(orders['revenue'], [95, 99])"
   ]
  },
  {
   "cell_type": "markdown",
   "metadata": {},
   "source": [
    "No more than 5% of users have made purchases on more than 26 785 RUB, and only 1% of users have made purchases on more than 53 904 RUB.We will select orders which are more than 26 785 RUB as anomalies."
   ]
  },
  {
   "cell_type": "markdown",
   "metadata": {},
   "source": [
    "### Statistically significant difference in the average number of orders per visitor between groups according to the raw data"
   ]
  },
  {
   "cell_type": "markdown",
   "metadata": {},
   "source": [
    "Before proceeding to the calculation of variables, hypotheses should be put forward:\n",
    "\n",
    "- H0: No differences in average orders per visitor between groups\n",
    "- H1: There are differences in the average number of orders per visitor between groups"
   ]
  },
  {
   "cell_type": "markdown",
   "metadata": {},
   "source": [
    "In our work we decided to use the Mann-Whitney U test, it is a non-parametric test that can be used in place of an unpaired t-test. It is used to test the null hypothesis that two samples come from the same population (i.e. have the same median) or, alternatively, whether observations in one sample tend to be larger than observations in the other."
   ]
  },
  {
   "cell_type": "code",
   "execution_count": 52,
   "metadata": {},
   "outputs": [],
   "source": [
    "#creating visitorsADaily variable containing data on the dates and number of user visits by day of group A\n",
    "visitorsADaily = visitors[visitors['group'] == 'A'][['date', 'visitors']]\n",
    "visitorsADaily.columns = ['date', 'visitorsPerDateA']"
   ]
  },
  {
   "cell_type": "code",
   "execution_count": 53,
   "metadata": {},
   "outputs": [],
   "source": [
    "#creating visitorsBDaily variable containing data on the dates and number of user visits by day of group B\n",
    "visitorsBDaily = visitors[visitors['group'] == 'B'][['date', 'visitors']]\n",
    "visitorsBDaily.columns = ['date', 'visitorsPerDateB']"
   ]
  },
  {
   "cell_type": "code",
   "execution_count": 54,
   "metadata": {},
   "outputs": [],
   "source": [
    "#создадим перменную ordersByUsersA,посчитаем количество заказов на каждого пользователя группы А\n",
    "ordersByUsersA = (\n",
    "    orders[orders['group'] == 'A']\n",
    "    .groupby('visitorId', as_index=False)\n",
    "    .agg({'transactionId': pd.Series.nunique})\n",
    ")\n",
    "ordersByUsersA.columns = ['userId', 'orders']"
   ]
  },
  {
   "cell_type": "code",
   "execution_count": 55,
   "metadata": {},
   "outputs": [],
   "source": [
    "#creating ordersByUsersB variable, counting the number of orders for each user of group B\n",
    "ordersByUsersB = (\n",
    "    orders[orders['group'] == 'B']\n",
    "    .groupby('visitorId', as_index=False)\n",
    "    .agg({'transactionId': pd.Series.nunique})\n",
    ")\n",
    "ordersByUsersB.columns = ['userId', 'orders']"
   ]
  },
  {
   "cell_type": "code",
   "execution_count": 56,
   "metadata": {},
   "outputs": [],
   "source": [
    "#creating sampleA variable, which contains information about the number of orders per user, also for those users who did not buy anything, we put 0\n",
    "sampleA = pd.concat(\n",
    "    [\n",
    "        ordersByUsersA['orders'],\n",
    "        pd.Series(\n",
    "            0,\n",
    "            index=np.arange(\n",
    "                visitorsADaily['visitorsPerDateA'].sum() - len(ordersByUsersA['orders'])\n",
    "            ),\n",
    "            name='orders',\n",
    "        ),\n",
    "    ],\n",
    "    axis=0,\n",
    ")"
   ]
  },
  {
   "cell_type": "code",
   "execution_count": 57,
   "metadata": {},
   "outputs": [],
   "source": [
    "#creating sampleB variable, which contains information about the number of orders per user, also for those users who did not buy anything, we put 0\n",
    "sampleB = pd.concat(\n",
    "    [\n",
    "        ordersByUsersB['orders'],\n",
    "        pd.Series(\n",
    "            0,\n",
    "            index=np.arange(\n",
    "                visitorsBDaily['visitorsPerDateB'].sum() - len(ordersByUsersB['orders'])\n",
    "            ),\n",
    "            name='orders',\n",
    "        ),\n",
    "    ],\n",
    "    axis=0,\n",
    ")"
   ]
  },
  {
   "cell_type": "code",
   "execution_count": 58,
   "metadata": {},
   "outputs": [
    {
     "data": {
      "text/plain": [
       "'p-value=0.011'"
      ]
     },
     "execution_count": 58,
     "metadata": {},
     "output_type": "execute_result"
    }
   ],
   "source": [
    "#calculating p-value \n",
    "'p-value='\"{0:.3f}\".format(stats.mannwhitneyu(sampleA, sampleB)[1])"
   ]
  },
  {
   "cell_type": "code",
   "execution_count": 59,
   "metadata": {},
   "outputs": [
    {
     "data": {
      "text/plain": [
       "'relative difference=0.160'"
      ]
     },
     "execution_count": 59,
     "metadata": {},
     "output_type": "execute_result"
    }
   ],
   "source": [
    "#calculating relative increase in the average number of orders of group B\n",
    "'relative difference='\"{0:.3f}\".format(sampleB.mean() / sampleA.mean() - 1)"
   ]
  },
  {
   "cell_type": "markdown",
   "metadata": {},
   "source": [
    "p-value=0.011, this is less than 0.05, so we reject H0, there are differences in the average number of orders per visitor between groups."
   ]
  },
  {
   "cell_type": "markdown",
   "metadata": {},
   "source": [
    "### Statistically significant difference in the average order check between groups according to the raw data"
   ]
  },
  {
   "cell_type": "markdown",
   "metadata": {},
   "source": [
    "Creating hypotheses:\n",
    "H0: There are no differences in the average check of the order between the groups\n",
    "H1: There are differences in the average check of the order between groups"
   ]
  },
  {
   "cell_type": "code",
   "execution_count": 60,
   "metadata": {},
   "outputs": [
    {
     "data": {
      "text/plain": [
       "'p-value=0.829'"
      ]
     },
     "execution_count": 60,
     "metadata": {},
     "output_type": "execute_result"
    }
   ],
   "source": [
    "#calculating p-value \n",
    "'p-value=''{0:.3f}'.format(stats.mannwhitneyu(orders[orders['group']=='A']['revenue'], orders[orders['group']=='B']['revenue'])[1])"
   ]
  },
  {
   "cell_type": "code",
   "execution_count": 61,
   "metadata": {},
   "outputs": [
    {
     "data": {
      "text/plain": [
       "'relative difference=0.287'"
      ]
     },
     "execution_count": 61,
     "metadata": {},
     "output_type": "execute_result"
    }
   ],
   "source": [
    "#calculating relative increase in the average check of the order of group B\n",
    "'relative difference=''{0:.3f}'.format(orders[orders['group']=='B']['revenue'].mean()/orders[orders['group']=='A']['revenue'].mean()-1)"
   ]
  },
  {
   "cell_type": "markdown",
   "metadata": {},
   "source": [
    "p-value=0.829, this is more than 0.05, so there is no reason to reject H0, there are no differences in the average order check between groups."
   ]
  },
  {
   "cell_type": "markdown",
   "metadata": {},
   "source": [
    "### Statistically significant difference in the average number of orders per visitor between groups  according to the adjusted data"
   ]
  },
  {
   "cell_type": "code",
   "execution_count": 62,
   "metadata": {},
   "outputs": [],
   "source": [
    "#creating a usersWithManyOrders variable, in which we filter the initial data in accordance with the decision about anomalous users\n",
    "usersWithManyOrders = pd.concat(\n",
    "    [\n",
    "        ordersByUsersA[ordersByUsersA['orders'] > np.percentile(ordersByUsers['orders'], 95)]['userId'],\n",
    "        ordersByUsersB[ordersByUsersB['orders'] > np.percentile(ordersByUsers['orders'], 95)]['userId'],\n",
    "    ],\n",
    "    axis=0,\n",
    ")\n",
    "usersWithExpensiveOrders = orders[orders['revenue'] > np.percentile(orders['revenue'],95)]['visitorId']\n",
    "\n",
    "\n",
    "abnormalUsers = (\n",
    "    pd.concat([usersWithManyOrders, usersWithExpensiveOrders], axis=0)\n",
    "    .drop_duplicates()\n",
    "    .sort_values()\n",
    ")"
   ]
  },
  {
   "cell_type": "code",
   "execution_count": 63,
   "metadata": {},
   "outputs": [],
   "source": [
    "#checking the number of anomalous users\n",
    "abnormalUsers_qnt=abnormalUsers.shape[0]"
   ]
  },
  {
   "cell_type": "code",
   "execution_count": 64,
   "metadata": {},
   "outputs": [
    {
     "data": {
      "text/plain": [
       "86"
      ]
     },
     "execution_count": 64,
     "metadata": {},
     "output_type": "execute_result"
    }
   ],
   "source": [
    "abnormalUsers_qnt"
   ]
  },
  {
   "cell_type": "code",
   "execution_count": 65,
   "metadata": {},
   "outputs": [
    {
     "data": {
      "text/plain": [
       "0.08838643371017471"
      ]
     },
     "execution_count": 65,
     "metadata": {},
     "output_type": "execute_result"
    }
   ],
   "source": [
    "#checking the percentage of relative loss\n",
    "abnormalUsers_qnt/orders['visitorId'].nunique()"
   ]
  },
  {
   "cell_type": "markdown",
   "metadata": {},
   "source": [
    "Approximately 9% of buyers made abnormal purchases."
   ]
  },
  {
   "cell_type": "code",
   "execution_count": 66,
   "metadata": {},
   "outputs": [],
   "source": [
    "#creating a sampleAFiltered variable based on filtered data containing information about the number of orders per user, also for those users who did not buy anything, we put 0\n",
    "sampleAFiltered = pd.concat(\n",
    "    [\n",
    "        ordersByUsersA[\n",
    "            np.logical_not(ordersByUsersA['userId'].isin(abnormalUsers))\n",
    "        ]['orders'],\n",
    "        pd.Series(\n",
    "            0,\n",
    "            index=np.arange(\n",
    "                visitorsADaily['visitorsPerDateA'].sum() - len(ordersByUsersA['orders'])\n",
    "            ),\n",
    "            name='orders',\n",
    "        ),\n",
    "    ],\n",
    "    axis=0,\n",
    ")"
   ]
  },
  {
   "cell_type": "code",
   "execution_count": 67,
   "metadata": {},
   "outputs": [],
   "source": [
    "#creating a sampleBFiltered variable based on filtered data containing information about the number of orders per user, also for those users who did not buy anything, we put 0\n",
    "sampleBFiltered = pd.concat(\n",
    "    [\n",
    "        ordersByUsersB[\n",
    "            np.logical_not(ordersByUsersB['userId'].isin(abnormalUsers))\n",
    "        ]['orders'],\n",
    "        pd.Series(\n",
    "            0,\n",
    "            index=np.arange(\n",
    "                visitorsBDaily['visitorsPerDateB'].sum() - len(ordersByUsersB['orders'])\n",
    "            ),\n",
    "            name='orders',\n",
    "        ),\n",
    "    ],\n",
    "    axis=0,\n",
    ") "
   ]
  },
  {
   "cell_type": "code",
   "execution_count": 68,
   "metadata": {},
   "outputs": [
    {
     "data": {
      "text/plain": [
       "'p-value=0.016'"
      ]
     },
     "execution_count": 68,
     "metadata": {},
     "output_type": "execute_result"
    }
   ],
   "source": [
    "#calculating p-value\n",
    "'p-value=''{0:.3f}'.format(stats.mannwhitneyu(sampleAFiltered, sampleBFiltered)[1])"
   ]
  },
  {
   "cell_type": "code",
   "execution_count": 69,
   "metadata": {},
   "outputs": [
    {
     "data": {
      "text/plain": [
       "'relative difference=0.174'"
      ]
     },
     "execution_count": 69,
     "metadata": {},
     "output_type": "execute_result"
    }
   ],
   "source": [
    "#Выведем относительный прирост среднего числа заказов группы B\n",
    "'relative difference=''{0:.3f}'.format(sampleBFiltered.mean()/sampleAFiltered.mean()-1)"
   ]
  },
  {
   "cell_type": "markdown",
   "metadata": {},
   "source": [
    "p-value=0.016, 17.4% increase - the results in terms of the number of orders per visitor remained approximately at the same level, there are differences in the average number of orders per visitor between groups."
   ]
  },
  {
   "cell_type": "markdown",
   "metadata": {},
   "source": [
    "### Statistically significant difference in the average order check between groups according to the adjusted data"
   ]
  },
  {
   "cell_type": "code",
   "execution_count": 70,
   "metadata": {},
   "outputs": [
    {
     "data": {
      "text/plain": [
       "'p-value=0.727'"
      ]
     },
     "execution_count": 70,
     "metadata": {},
     "output_type": "execute_result"
    }
   ],
   "source": [
    "'p-value=''{0:.3f}'.format(\n",
    "        stats.mannwhitneyu(\n",
    "            orders[\n",
    "                np.logical_and(\n",
    "                    orders['group'] == 'A',\n",
    "                    np.logical_not(orders['visitorId'].isin(abnormalUsers)),\n",
    "                )\n",
    "            ]['revenue'],\n",
    "            orders[\n",
    "                np.logical_and(\n",
    "                    orders['group'] == 'B',\n",
    "                    np.logical_not(orders['visitorId'].isin(abnormalUsers)),\n",
    "                )\n",
    "            ]['revenue'],\n",
    "        )[1]\n",
    "    )"
   ]
  },
  {
   "cell_type": "code",
   "execution_count": 71,
   "metadata": {},
   "outputs": [
    {
     "data": {
      "text/plain": [
       "'relative difference=-0.034'"
      ]
     },
     "execution_count": 71,
     "metadata": {},
     "output_type": "execute_result"
    }
   ],
   "source": [
    "'relative difference='\"{0:.3f}\".format(\n",
    "        orders[\n",
    "            np.logical_and(\n",
    "                orders['group'] == 'B',\n",
    "                np.logical_not(orders['visitorId'].isin(abnormalUsers)),\n",
    "            )\n",
    "        ]['revenue'].mean()\n",
    "        / orders[\n",
    "            np.logical_and(\n",
    "                orders['group'] == 'A',\n",
    "                np.logical_not(orders['visitorId'].isin(abnormalUsers)),\n",
    "            )\n",
    "        ]['revenue'].mean()\n",
    "        - 1\n",
    "    )"
   ]
  },
  {
   "cell_type": "markdown",
   "metadata": {},
   "source": [
    "p-value increased, at the same time the difference between the segments decreased, there are no differences in the average order check between groups."
   ]
  },
  {
   "cell_type": "markdown",
   "metadata": {},
   "source": [
    "Due to the revealed facts, the test should be stopped and the victory of group B should be recognized."
   ]
  },
  {
   "cell_type": "markdown",
   "metadata": {},
   "source": [
    "## Conclusion"
   ]
  },
  {
   "cell_type": "markdown",
   "metadata": {},
   "source": [
    "After analyzing, we came to the following conclusions:\n",
    "1 - Prioritization of the choice of hypothesis for implementation depends on the choice of framework - RICE / ICE, depending on the goal that the company has set, you can use different frameworks.\n",
    "2 - Group B outperforms Group A in terms of cumulative revenue, cumulative average check, cumulative average orders per visitor.\n",
    "3 - Graphs and percentiles helped us determine the border of anomalies, determined by the 95th percentile - orders over 1 and revenue over 26,785 were considered abnormal in the analysis and were excluded from the analysis.\n",
    "4 - There were no differences in statistically significant differences between the two sets of data - the original and andjusted ones, according to the results of the test, group B won."
   ]
  }
 ],
 "metadata": {
  "ExecuteTimeLog": [
   {
    "duration": 414,
    "start_time": "2023-03-28T09:09:14.900Z"
   },
   {
    "duration": 85,
    "start_time": "2023-03-28T09:09:51.167Z"
   },
   {
    "duration": 15,
    "start_time": "2023-03-28T09:10:04.847Z"
   },
   {
    "duration": 106,
    "start_time": "2023-03-28T09:11:11.407Z"
   },
   {
    "duration": 9,
    "start_time": "2023-03-28T09:11:21.643Z"
   },
   {
    "duration": 76,
    "start_time": "2023-03-28T09:12:17.955Z"
   },
   {
    "duration": 8,
    "start_time": "2023-03-28T09:12:27.167Z"
   },
   {
    "duration": 67,
    "start_time": "2023-03-28T09:53:05.861Z"
   },
   {
    "duration": 6,
    "start_time": "2023-03-28T09:53:30.366Z"
   },
   {
    "duration": 5,
    "start_time": "2023-03-28T09:53:35.805Z"
   },
   {
    "duration": 10,
    "start_time": "2023-03-28T09:55:21.200Z"
   },
   {
    "duration": 10,
    "start_time": "2023-03-28T09:55:27.169Z"
   },
   {
    "duration": 4,
    "start_time": "2023-03-28T09:56:02.701Z"
   },
   {
    "duration": 5,
    "start_time": "2023-03-28T09:57:42.357Z"
   },
   {
    "duration": 3,
    "start_time": "2023-03-28T10:01:52.376Z"
   },
   {
    "duration": 5,
    "start_time": "2023-03-28T10:02:00.832Z"
   },
   {
    "duration": 3,
    "start_time": "2023-03-28T10:25:17.964Z"
   },
   {
    "duration": 28,
    "start_time": "2023-03-28T10:25:18.320Z"
   },
   {
    "duration": 8,
    "start_time": "2023-03-28T10:25:18.780Z"
   },
   {
    "duration": 50,
    "start_time": "2023-03-28T10:25:19.564Z"
   },
   {
    "duration": 8,
    "start_time": "2023-03-28T10:25:19.748Z"
   },
   {
    "duration": 16,
    "start_time": "2023-03-28T10:25:19.928Z"
   },
   {
    "duration": 8,
    "start_time": "2023-03-28T10:25:20.128Z"
   },
   {
    "duration": 4,
    "start_time": "2023-03-28T10:25:20.775Z"
   },
   {
    "duration": 5,
    "start_time": "2023-03-28T10:25:21.368Z"
   },
   {
    "duration": 4,
    "start_time": "2023-03-28T10:25:21.800Z"
   },
   {
    "duration": 5,
    "start_time": "2023-03-28T10:25:23.756Z"
   },
   {
    "duration": 615,
    "start_time": "2023-03-28T10:25:28.872Z"
   },
   {
    "duration": 3,
    "start_time": "2023-03-28T10:25:52.167Z"
   },
   {
    "duration": 4,
    "start_time": "2023-03-28T10:25:59.607Z"
   },
   {
    "duration": 12,
    "start_time": "2023-03-28T10:26:02.164Z"
   },
   {
    "duration": 467,
    "start_time": "2023-03-28T10:26:13.364Z"
   },
   {
    "duration": 4,
    "start_time": "2023-03-28T10:27:16.268Z"
   },
   {
    "duration": 8,
    "start_time": "2023-03-28T10:27:55.283Z"
   },
   {
    "duration": 28,
    "start_time": "2023-03-28T10:32:36.283Z"
   },
   {
    "duration": 184,
    "start_time": "2023-03-28T10:33:18.215Z"
   },
   {
    "duration": 127,
    "start_time": "2023-03-28T10:34:56.506Z"
   },
   {
    "duration": 120,
    "start_time": "2023-03-28T10:35:01.854Z"
   },
   {
    "duration": 7,
    "start_time": "2023-03-28T10:35:29.234Z"
   },
   {
    "duration": 10,
    "start_time": "2023-03-28T10:35:58.945Z"
   },
   {
    "duration": 431,
    "start_time": "2023-03-28T10:36:36.333Z"
   },
   {
    "duration": 7,
    "start_time": "2023-03-28T10:36:50.022Z"
   },
   {
    "duration": 74,
    "start_time": "2023-03-28T10:37:04.226Z"
   },
   {
    "duration": 5,
    "start_time": "2023-03-28T10:37:17.862Z"
   },
   {
    "duration": 258,
    "start_time": "2023-03-28T10:37:29.453Z"
   },
   {
    "duration": 192,
    "start_time": "2023-03-28T10:38:02.733Z"
   },
   {
    "duration": 201,
    "start_time": "2023-03-28T10:39:01.018Z"
   },
   {
    "duration": 272,
    "start_time": "2023-03-28T10:39:07.401Z"
   },
   {
    "duration": 189,
    "start_time": "2023-03-28T10:39:15.933Z"
   },
   {
    "duration": 175,
    "start_time": "2023-03-28T10:39:22.099Z"
   },
   {
    "duration": 191,
    "start_time": "2023-03-28T10:49:09.967Z"
   },
   {
    "duration": 7,
    "start_time": "2023-03-28T10:52:11.374Z"
   },
   {
    "duration": 167,
    "start_time": "2023-03-28T10:52:33.899Z"
   },
   {
    "duration": 354,
    "start_time": "2023-03-28T10:52:47.754Z"
   },
   {
    "duration": 4,
    "start_time": "2023-03-28T11:03:59.109Z"
   },
   {
    "duration": 4,
    "start_time": "2023-03-28T11:04:05.925Z"
   },
   {
    "duration": 4,
    "start_time": "2023-03-28T11:04:10.801Z"
   },
   {
    "duration": 227,
    "start_time": "2023-03-28T11:04:26.325Z"
   },
   {
    "duration": 203,
    "start_time": "2023-03-28T11:05:17.633Z"
   },
   {
    "duration": 187,
    "start_time": "2023-03-28T11:05:38.129Z"
   },
   {
    "duration": 9,
    "start_time": "2023-03-28T11:09:10.833Z"
   },
   {
    "duration": 307,
    "start_time": "2023-03-28T11:09:25.053Z"
   },
   {
    "duration": 14,
    "start_time": "2023-03-28T11:14:22.183Z"
   },
   {
    "duration": 7,
    "start_time": "2023-03-28T11:14:29.868Z"
   },
   {
    "duration": 111,
    "start_time": "2023-03-28T11:14:58.099Z"
   },
   {
    "duration": 6,
    "start_time": "2023-03-28T11:32:06.645Z"
   },
   {
    "duration": 5,
    "start_time": "2023-03-28T11:33:02.534Z"
   },
   {
    "duration": 6,
    "start_time": "2023-03-28T11:33:08.515Z"
   },
   {
    "duration": 212,
    "start_time": "2023-03-28T11:37:46.379Z"
   },
   {
    "duration": 6,
    "start_time": "2023-03-28T11:38:24.151Z"
   },
   {
    "duration": 74,
    "start_time": "2023-03-28T11:47:56.190Z"
   },
   {
    "duration": 79,
    "start_time": "2023-03-28T11:48:18.438Z"
   },
   {
    "duration": 8,
    "start_time": "2023-03-28T11:48:37.338Z"
   },
   {
    "duration": 5,
    "start_time": "2023-03-28T11:54:16.379Z"
   },
   {
    "duration": 50,
    "start_time": "2023-03-28T11:54:38.775Z"
   },
   {
    "duration": 5,
    "start_time": "2023-03-28T11:55:28.647Z"
   },
   {
    "duration": 48,
    "start_time": "2023-03-28T11:55:35.527Z"
   },
   {
    "duration": 22,
    "start_time": "2023-03-28T11:59:07.275Z"
   },
   {
    "duration": 16,
    "start_time": "2023-03-28T12:00:09.775Z"
   },
   {
    "duration": 14,
    "start_time": "2023-03-28T12:00:23.199Z"
   },
   {
    "duration": 60,
    "start_time": "2023-03-28T12:02:21.543Z"
   },
   {
    "duration": 16,
    "start_time": "2023-03-28T12:03:01.575Z"
   },
   {
    "duration": 52,
    "start_time": "2023-03-28T12:03:11.027Z"
   },
   {
    "duration": 26,
    "start_time": "2023-03-28T12:03:18.379Z"
   },
   {
    "duration": 13,
    "start_time": "2023-03-28T12:05:19.179Z"
   },
   {
    "duration": 65,
    "start_time": "2023-03-28T12:05:44.095Z"
   },
   {
    "duration": 80,
    "start_time": "2023-03-28T12:06:03.383Z"
   },
   {
    "duration": 8,
    "start_time": "2023-03-28T12:06:11.703Z"
   },
   {
    "duration": 6,
    "start_time": "2023-03-28T12:06:20.177Z"
   },
   {
    "duration": 7,
    "start_time": "2023-03-28T12:06:32.719Z"
   },
   {
    "duration": 449,
    "start_time": "2023-03-28T12:06:54.335Z"
   },
   {
    "duration": 37,
    "start_time": "2023-03-28T12:06:58.223Z"
   },
   {
    "duration": 5,
    "start_time": "2023-03-28T12:07:32.787Z"
   },
   {
    "duration": 10,
    "start_time": "2023-03-28T12:14:12.207Z"
   },
   {
    "duration": 8,
    "start_time": "2023-03-28T12:14:30.299Z"
   },
   {
    "duration": 1796,
    "start_time": "2023-03-28T12:17:38.367Z"
   },
   {
    "duration": 1045,
    "start_time": "2023-03-28T12:18:56.887Z"
   },
   {
    "duration": 881,
    "start_time": "2023-03-28T12:19:28.787Z"
   },
   {
    "duration": 825,
    "start_time": "2023-03-28T12:46:58.026Z"
   },
   {
    "duration": 67,
    "start_time": "2023-03-28T12:47:15.889Z"
   },
   {
    "duration": 88,
    "start_time": "2023-03-28T12:47:18.529Z"
   },
   {
    "duration": 5,
    "start_time": "2023-03-28T12:47:19.429Z"
   },
   {
    "duration": 5,
    "start_time": "2023-03-28T12:47:21.549Z"
   },
   {
    "duration": 26,
    "start_time": "2023-03-28T12:47:22.153Z"
   },
   {
    "duration": 7,
    "start_time": "2023-03-28T12:47:22.801Z"
   },
   {
    "duration": 10,
    "start_time": "2023-03-28T12:47:25.473Z"
   },
   {
    "duration": 8,
    "start_time": "2023-03-28T12:47:26.061Z"
   },
   {
    "duration": 895,
    "start_time": "2023-03-28T12:47:26.997Z"
   },
   {
    "duration": 13,
    "start_time": "2023-03-28T12:50:21.262Z"
   },
   {
    "duration": 8,
    "start_time": "2023-03-28T12:50:50.003Z"
   },
   {
    "duration": 8,
    "start_time": "2023-03-28T12:51:24.165Z"
   },
   {
    "duration": 10,
    "start_time": "2023-03-28T12:52:21.984Z"
   },
   {
    "duration": 5,
    "start_time": "2023-03-28T12:52:30.312Z"
   },
   {
    "duration": 6,
    "start_time": "2023-03-28T12:56:02.756Z"
   },
   {
    "duration": 5,
    "start_time": "2023-03-28T12:56:14.266Z"
   },
   {
    "duration": 58,
    "start_time": "2023-03-28T12:56:23.672Z"
   },
   {
    "duration": 35,
    "start_time": "2023-03-28T12:56:37.637Z"
   },
   {
    "duration": 5,
    "start_time": "2023-03-28T12:57:20.513Z"
   },
   {
    "duration": 5,
    "start_time": "2023-03-28T13:00:03.914Z"
   },
   {
    "duration": 1169,
    "start_time": "2023-03-28T13:00:08.755Z"
   },
   {
    "duration": 1352,
    "start_time": "2023-03-28T13:00:31.606Z"
   },
   {
    "duration": 12,
    "start_time": "2023-03-28T13:00:45.711Z"
   },
   {
    "duration": 810,
    "start_time": "2023-03-28T13:03:33.764Z"
   },
   {
    "duration": 11,
    "start_time": "2023-03-28T13:03:51.105Z"
   },
   {
    "duration": 29,
    "start_time": "2023-03-28T13:19:03.385Z"
   },
   {
    "duration": 10,
    "start_time": "2023-03-28T13:28:21.922Z"
   },
   {
    "duration": 52,
    "start_time": "2023-03-28T13:29:04.350Z"
   },
   {
    "duration": 11,
    "start_time": "2023-03-28T13:29:45.106Z"
   },
   {
    "duration": 29,
    "start_time": "2023-03-28T13:30:10.770Z"
   },
   {
    "duration": 9,
    "start_time": "2023-03-28T13:30:41.165Z"
   },
   {
    "duration": 5,
    "start_time": "2023-03-28T13:31:40.909Z"
   },
   {
    "duration": 12,
    "start_time": "2023-03-28T13:31:48.214Z"
   },
   {
    "duration": 8,
    "start_time": "2023-03-28T13:32:34.869Z"
   },
   {
    "duration": 228,
    "start_time": "2023-03-28T14:06:04.313Z"
   },
   {
    "duration": 11,
    "start_time": "2023-03-28T14:06:18.974Z"
   },
   {
    "duration": 4,
    "start_time": "2023-03-28T14:06:19.594Z"
   },
   {
    "duration": 6,
    "start_time": "2023-03-28T14:06:20.106Z"
   },
   {
    "duration": 165,
    "start_time": "2023-03-28T14:06:20.909Z"
   },
   {
    "duration": 271,
    "start_time": "2023-03-28T14:06:57.674Z"
   },
   {
    "duration": 2,
    "start_time": "2023-03-28T14:07:07.362Z"
   },
   {
    "duration": 3,
    "start_time": "2023-03-28T14:07:07.789Z"
   },
   {
    "duration": 3,
    "start_time": "2023-03-28T14:07:08.246Z"
   },
   {
    "duration": 3,
    "start_time": "2023-03-28T14:07:08.610Z"
   },
   {
    "duration": 3,
    "start_time": "2023-03-28T14:07:08.938Z"
   },
   {
    "duration": 27,
    "start_time": "2023-03-28T14:07:09.389Z"
   },
   {
    "duration": 9,
    "start_time": "2023-03-28T14:07:09.698Z"
   },
   {
    "duration": 39,
    "start_time": "2023-03-28T14:07:09.906Z"
   },
   {
    "duration": 10,
    "start_time": "2023-03-28T14:07:10.113Z"
   },
   {
    "duration": 16,
    "start_time": "2023-03-28T14:07:10.305Z"
   },
   {
    "duration": 12,
    "start_time": "2023-03-28T14:07:10.510Z"
   },
   {
    "duration": 7,
    "start_time": "2023-03-28T14:07:10.877Z"
   },
   {
    "duration": 8,
    "start_time": "2023-03-28T14:07:11.057Z"
   },
   {
    "duration": 20,
    "start_time": "2023-03-28T14:07:12.794Z"
   },
   {
    "duration": 5,
    "start_time": "2023-03-28T14:07:28.786Z"
   },
   {
    "duration": 417,
    "start_time": "2023-03-29T06:20:05.608Z"
   },
   {
    "duration": 3,
    "start_time": "2023-03-29T06:20:06.051Z"
   },
   {
    "duration": 3,
    "start_time": "2023-03-29T06:20:06.409Z"
   },
   {
    "duration": 454,
    "start_time": "2023-03-29T06:20:06.566Z"
   },
   {
    "duration": 455,
    "start_time": "2023-03-29T06:20:07.022Z"
   },
   {
    "duration": 95,
    "start_time": "2023-03-29T06:20:07.479Z"
   },
   {
    "duration": 12,
    "start_time": "2023-03-29T06:20:07.727Z"
   },
   {
    "duration": 113,
    "start_time": "2023-03-29T06:20:08.239Z"
   },
   {
    "duration": 16,
    "start_time": "2023-03-29T06:20:08.476Z"
   },
   {
    "duration": 83,
    "start_time": "2023-03-29T06:20:08.711Z"
   },
   {
    "duration": 8,
    "start_time": "2023-03-29T06:20:08.944Z"
   },
   {
    "duration": 8,
    "start_time": "2023-03-29T06:20:09.453Z"
   },
   {
    "duration": 7,
    "start_time": "2023-03-29T06:20:09.560Z"
   },
   {
    "duration": 14,
    "start_time": "2023-03-29T06:20:10.366Z"
   },
   {
    "duration": 5,
    "start_time": "2023-03-29T06:20:10.750Z"
   },
   {
    "duration": 6,
    "start_time": "2023-03-29T06:20:12.870Z"
   },
   {
    "duration": 197,
    "start_time": "2023-03-29T06:20:14.004Z"
   },
   {
    "duration": 148,
    "start_time": "2023-03-29T06:22:20.488Z"
   },
   {
    "duration": 21,
    "start_time": "2023-03-29T06:22:29.810Z"
   },
   {
    "duration": 16,
    "start_time": "2023-03-29T06:24:37.716Z"
   },
   {
    "duration": 12,
    "start_time": "2023-03-29T06:24:45.309Z"
   },
   {
    "duration": 7,
    "start_time": "2023-03-29T06:28:22.824Z"
   },
   {
    "duration": 12,
    "start_time": "2023-03-29T06:28:31.064Z"
   },
   {
    "duration": 10,
    "start_time": "2023-03-29T06:28:38.709Z"
   },
   {
    "duration": 8,
    "start_time": "2023-03-29T06:28:48.120Z"
   },
   {
    "duration": 5,
    "start_time": "2023-03-29T06:29:08.069Z"
   },
   {
    "duration": 4,
    "start_time": "2023-03-29T06:33:42.063Z"
   },
   {
    "duration": 4,
    "start_time": "2023-03-29T06:34:04.548Z"
   },
   {
    "duration": 287,
    "start_time": "2023-03-29T06:34:16.472Z"
   },
   {
    "duration": 199,
    "start_time": "2023-03-29T06:35:49.864Z"
   },
   {
    "duration": 168,
    "start_time": "2023-03-29T06:40:50.959Z"
   },
   {
    "duration": 397,
    "start_time": "2023-03-29T08:14:36.038Z"
   },
   {
    "duration": 2,
    "start_time": "2023-03-29T08:14:36.526Z"
   },
   {
    "duration": 2,
    "start_time": "2023-03-29T08:14:36.786Z"
   },
   {
    "duration": 396,
    "start_time": "2023-03-29T08:14:37.067Z"
   },
   {
    "duration": 490,
    "start_time": "2023-03-29T08:14:37.465Z"
   },
   {
    "duration": 77,
    "start_time": "2023-03-29T08:14:37.956Z"
   },
   {
    "duration": 12,
    "start_time": "2023-03-29T08:14:38.223Z"
   },
   {
    "duration": 85,
    "start_time": "2023-03-29T08:14:38.583Z"
   },
   {
    "duration": 8,
    "start_time": "2023-03-29T08:14:38.823Z"
   },
   {
    "duration": 70,
    "start_time": "2023-03-29T08:14:38.991Z"
   },
   {
    "duration": 9,
    "start_time": "2023-03-29T08:14:39.186Z"
   },
   {
    "duration": 8,
    "start_time": "2023-03-29T08:14:39.587Z"
   },
   {
    "duration": 6,
    "start_time": "2023-03-29T08:14:39.828Z"
   },
   {
    "duration": 12,
    "start_time": "2023-03-29T08:14:40.729Z"
   },
   {
    "duration": 5,
    "start_time": "2023-03-29T08:14:41.226Z"
   },
   {
    "duration": 5,
    "start_time": "2023-03-29T08:14:41.567Z"
   },
   {
    "duration": 155,
    "start_time": "2023-03-29T08:14:41.938Z"
   },
   {
    "duration": 8,
    "start_time": "2023-03-29T08:14:42.827Z"
   },
   {
    "duration": 107,
    "start_time": "2023-03-29T08:14:43.430Z"
   },
   {
    "duration": 7,
    "start_time": "2023-03-29T08:14:44.039Z"
   },
   {
    "duration": 7,
    "start_time": "2023-03-29T08:14:44.524Z"
   },
   {
    "duration": 9,
    "start_time": "2023-03-29T08:14:45.103Z"
   },
   {
    "duration": 6,
    "start_time": "2023-03-29T08:14:46.247Z"
   },
   {
    "duration": 4,
    "start_time": "2023-03-29T08:14:47.051Z"
   },
   {
    "duration": 230,
    "start_time": "2023-03-29T08:14:48.123Z"
   },
   {
    "duration": 152,
    "start_time": "2023-03-29T08:14:52.086Z"
   },
   {
    "duration": 110,
    "start_time": "2023-03-29T08:21:37.268Z"
   },
   {
    "duration": 6,
    "start_time": "2023-03-29T08:21:40.071Z"
   },
   {
    "duration": 338,
    "start_time": "2023-03-29T08:21:40.848Z"
   },
   {
    "duration": 4,
    "start_time": "2023-03-29T08:24:54.668Z"
   },
   {
    "duration": 4,
    "start_time": "2023-03-29T08:24:56.176Z"
   },
   {
    "duration": 3,
    "start_time": "2023-03-29T08:24:56.832Z"
   },
   {
    "duration": 162,
    "start_time": "2023-03-29T08:25:06.834Z"
   },
   {
    "duration": 4,
    "start_time": "2023-03-29T08:28:53.732Z"
   },
   {
    "duration": 3,
    "start_time": "2023-03-29T08:30:07.840Z"
   },
   {
    "duration": 5,
    "start_time": "2023-03-29T08:34:45.005Z"
   },
   {
    "duration": 185,
    "start_time": "2023-03-29T08:35:31.633Z"
   },
   {
    "duration": 385,
    "start_time": "2023-03-29T10:51:15.076Z"
   },
   {
    "duration": 2,
    "start_time": "2023-03-29T10:51:15.523Z"
   },
   {
    "duration": 3,
    "start_time": "2023-03-29T10:51:19.962Z"
   },
   {
    "duration": 419,
    "start_time": "2023-03-29T10:51:20.161Z"
   },
   {
    "duration": 448,
    "start_time": "2023-03-29T10:51:20.582Z"
   },
   {
    "duration": 68,
    "start_time": "2023-03-29T10:51:21.031Z"
   },
   {
    "duration": 12,
    "start_time": "2023-03-29T10:51:21.101Z"
   },
   {
    "duration": 95,
    "start_time": "2023-03-29T10:51:21.115Z"
   },
   {
    "duration": 7,
    "start_time": "2023-03-29T10:51:21.211Z"
   },
   {
    "duration": 59,
    "start_time": "2023-03-29T10:51:21.241Z"
   },
   {
    "duration": 7,
    "start_time": "2023-03-29T10:51:21.419Z"
   },
   {
    "duration": 9,
    "start_time": "2023-03-29T10:51:21.767Z"
   },
   {
    "duration": 6,
    "start_time": "2023-03-29T10:51:21.948Z"
   },
   {
    "duration": 12,
    "start_time": "2023-03-29T10:51:22.528Z"
   },
   {
    "duration": 4,
    "start_time": "2023-03-29T10:51:22.731Z"
   },
   {
    "duration": 6,
    "start_time": "2023-03-29T10:51:23.319Z"
   },
   {
    "duration": 160,
    "start_time": "2023-03-29T10:51:23.745Z"
   },
   {
    "duration": 8,
    "start_time": "2023-03-29T10:51:23.942Z"
   },
   {
    "duration": 135,
    "start_time": "2023-03-29T10:51:24.625Z"
   },
   {
    "duration": 7,
    "start_time": "2023-03-29T10:51:25.168Z"
   },
   {
    "duration": 7,
    "start_time": "2023-03-29T10:51:25.672Z"
   },
   {
    "duration": 8,
    "start_time": "2023-03-29T10:51:26.287Z"
   },
   {
    "duration": 5,
    "start_time": "2023-03-29T10:51:28.935Z"
   },
   {
    "duration": 5,
    "start_time": "2023-03-29T10:51:29.377Z"
   },
   {
    "duration": 237,
    "start_time": "2023-03-29T10:51:29.560Z"
   },
   {
    "duration": 156,
    "start_time": "2023-03-29T10:51:31.065Z"
   },
   {
    "duration": 5,
    "start_time": "2023-03-29T10:51:33.972Z"
   },
   {
    "duration": 265,
    "start_time": "2023-03-29T10:51:34.215Z"
   },
   {
    "duration": 3,
    "start_time": "2023-03-29T10:51:36.503Z"
   },
   {
    "duration": 4,
    "start_time": "2023-03-29T10:51:36.670Z"
   },
   {
    "duration": 3,
    "start_time": "2023-03-29T10:51:36.839Z"
   },
   {
    "duration": 167,
    "start_time": "2023-03-29T10:51:37.030Z"
   },
   {
    "duration": 7,
    "start_time": "2023-03-29T10:51:40.258Z"
   },
   {
    "duration": 88,
    "start_time": "2023-03-29T10:51:40.743Z"
   },
   {
    "duration": 11,
    "start_time": "2023-03-29T10:52:28.067Z"
   },
   {
    "duration": 8,
    "start_time": "2023-03-29T10:52:40.413Z"
   },
   {
    "duration": 10,
    "start_time": "2023-03-29T10:52:59.836Z"
   },
   {
    "duration": 10,
    "start_time": "2023-03-29T10:53:16.790Z"
   },
   {
    "duration": 7,
    "start_time": "2023-03-29T10:53:42.869Z"
   },
   {
    "duration": 8,
    "start_time": "2023-03-29T10:53:44.169Z"
   },
   {
    "duration": 281,
    "start_time": "2023-03-29T10:54:17.627Z"
   },
   {
    "duration": 299,
    "start_time": "2023-03-29T10:57:15.990Z"
   },
   {
    "duration": 3,
    "start_time": "2023-03-29T11:24:52.885Z"
   },
   {
    "duration": 2,
    "start_time": "2023-03-29T11:24:53.297Z"
   },
   {
    "duration": 3,
    "start_time": "2023-03-29T11:24:53.489Z"
   },
   {
    "duration": 3,
    "start_time": "2023-03-29T11:24:53.665Z"
   },
   {
    "duration": 3,
    "start_time": "2023-03-29T11:24:53.833Z"
   },
   {
    "duration": 24,
    "start_time": "2023-03-29T11:24:54.398Z"
   },
   {
    "duration": 12,
    "start_time": "2023-03-29T11:24:55.053Z"
   },
   {
    "duration": 45,
    "start_time": "2023-03-29T11:24:57.241Z"
   },
   {
    "duration": 12,
    "start_time": "2023-03-29T11:24:57.800Z"
   },
   {
    "duration": 14,
    "start_time": "2023-03-29T11:24:57.957Z"
   },
   {
    "duration": 7,
    "start_time": "2023-03-29T11:24:58.120Z"
   },
   {
    "duration": 7,
    "start_time": "2023-03-29T11:24:58.445Z"
   },
   {
    "duration": 6,
    "start_time": "2023-03-29T11:24:58.592Z"
   },
   {
    "duration": 11,
    "start_time": "2023-03-29T11:24:59.109Z"
   },
   {
    "duration": 4,
    "start_time": "2023-03-29T11:24:59.272Z"
   },
   {
    "duration": 5,
    "start_time": "2023-03-29T11:24:59.441Z"
   },
   {
    "duration": 155,
    "start_time": "2023-03-29T11:24:59.621Z"
   },
   {
    "duration": 8,
    "start_time": "2023-03-29T11:25:00.028Z"
   },
   {
    "duration": 103,
    "start_time": "2023-03-29T11:25:00.236Z"
   },
   {
    "duration": 7,
    "start_time": "2023-03-29T11:25:00.401Z"
   },
   {
    "duration": 7,
    "start_time": "2023-03-29T11:25:00.577Z"
   },
   {
    "duration": 10,
    "start_time": "2023-03-29T11:25:00.753Z"
   },
   {
    "duration": 5,
    "start_time": "2023-03-29T11:25:01.095Z"
   },
   {
    "duration": 5,
    "start_time": "2023-03-29T11:25:01.268Z"
   },
   {
    "duration": 169,
    "start_time": "2023-03-29T11:25:01.868Z"
   },
   {
    "duration": 191,
    "start_time": "2023-03-29T11:25:02.709Z"
   },
   {
    "duration": 5,
    "start_time": "2023-03-29T11:25:04.037Z"
   },
   {
    "duration": 352,
    "start_time": "2023-03-29T11:25:04.585Z"
   },
   {
    "duration": 4,
    "start_time": "2023-03-29T11:25:06.552Z"
   },
   {
    "duration": 4,
    "start_time": "2023-03-29T11:25:06.744Z"
   },
   {
    "duration": 3,
    "start_time": "2023-03-29T11:25:07.141Z"
   },
   {
    "duration": 177,
    "start_time": "2023-03-29T11:25:07.637Z"
   },
   {
    "duration": 8,
    "start_time": "2023-03-29T11:25:11.528Z"
   },
   {
    "duration": 11,
    "start_time": "2023-03-29T11:25:11.741Z"
   },
   {
    "duration": 294,
    "start_time": "2023-03-29T11:25:12.488Z"
   },
   {
    "duration": 8,
    "start_time": "2023-03-29T11:30:09.200Z"
   },
   {
    "duration": 6,
    "start_time": "2023-03-29T11:30:11.960Z"
   },
   {
    "duration": 131,
    "start_time": "2023-03-29T11:30:15.463Z"
   },
   {
    "duration": 130,
    "start_time": "2023-03-29T11:37:21.059Z"
   },
   {
    "duration": 6,
    "start_time": "2023-03-29T11:40:57.343Z"
   },
   {
    "duration": 6,
    "start_time": "2023-03-29T11:41:15.393Z"
   },
   {
    "duration": 5,
    "start_time": "2023-03-29T12:05:29.643Z"
   },
   {
    "duration": 8,
    "start_time": "2023-03-29T12:05:36.747Z"
   },
   {
    "duration": 7,
    "start_time": "2023-03-29T12:05:53.390Z"
   },
   {
    "duration": 11,
    "start_time": "2023-03-29T12:07:32.583Z"
   },
   {
    "duration": 44,
    "start_time": "2023-03-29T12:07:36.602Z"
   },
   {
    "duration": 7,
    "start_time": "2023-03-29T12:07:37.219Z"
   },
   {
    "duration": 9,
    "start_time": "2023-03-29T12:07:45.927Z"
   },
   {
    "duration": 46,
    "start_time": "2023-03-29T12:08:07.797Z"
   },
   {
    "duration": 5,
    "start_time": "2023-03-29T12:08:37.726Z"
   },
   {
    "duration": 48,
    "start_time": "2023-03-29T12:09:05.074Z"
   },
   {
    "duration": 14,
    "start_time": "2023-03-29T12:11:11.458Z"
   },
   {
    "duration": 9,
    "start_time": "2023-03-29T12:11:20.057Z"
   },
   {
    "duration": 9,
    "start_time": "2023-03-29T12:13:59.437Z"
   },
   {
    "duration": 44,
    "start_time": "2023-03-29T12:14:01.682Z"
   },
   {
    "duration": 9,
    "start_time": "2023-03-29T12:14:02.241Z"
   },
   {
    "duration": 21,
    "start_time": "2023-03-29T12:15:00.109Z"
   },
   {
    "duration": 56,
    "start_time": "2023-03-29T12:15:18.545Z"
   },
   {
    "duration": 24,
    "start_time": "2023-03-29T12:16:19.417Z"
   },
   {
    "duration": 12,
    "start_time": "2023-03-29T12:16:24.942Z"
   },
   {
    "duration": 11,
    "start_time": "2023-03-29T12:16:45.099Z"
   },
   {
    "duration": 11,
    "start_time": "2023-03-29T12:16:50.185Z"
   },
   {
    "duration": 9,
    "start_time": "2023-03-29T12:16:58.945Z"
   },
   {
    "duration": 75,
    "start_time": "2023-03-29T12:17:32.333Z"
   },
   {
    "duration": 9,
    "start_time": "2023-03-29T12:17:35.893Z"
   },
   {
    "duration": 80,
    "start_time": "2023-03-29T12:20:31.425Z"
   },
   {
    "duration": 4,
    "start_time": "2023-03-29T12:24:46.964Z"
   },
   {
    "duration": 5,
    "start_time": "2023-03-29T12:24:51.976Z"
   },
   {
    "duration": 4,
    "start_time": "2023-03-29T12:29:04.936Z"
   },
   {
    "duration": 4,
    "start_time": "2023-03-29T12:30:37.515Z"
   },
   {
    "duration": 20,
    "start_time": "2023-03-29T12:33:13.807Z"
   },
   {
    "duration": 7,
    "start_time": "2023-03-29T12:42:07.834Z"
   },
   {
    "duration": 11,
    "start_time": "2023-03-29T12:50:57.412Z"
   },
   {
    "duration": 5,
    "start_time": "2023-03-29T12:51:40.996Z"
   },
   {
    "duration": 6,
    "start_time": "2023-03-29T12:55:22.947Z"
   },
   {
    "duration": 5,
    "start_time": "2023-03-29T12:56:05.831Z"
   },
   {
    "duration": 20,
    "start_time": "2023-03-29T12:56:09.063Z"
   },
   {
    "duration": 19,
    "start_time": "2023-03-29T12:58:05.291Z"
   },
   {
    "duration": 5,
    "start_time": "2023-03-29T12:58:27.991Z"
   },
   {
    "duration": 401,
    "start_time": "2023-03-30T08:35:35.279Z"
   },
   {
    "duration": 6,
    "start_time": "2023-03-30T08:35:36.246Z"
   },
   {
    "duration": 2,
    "start_time": "2023-03-30T08:35:36.863Z"
   },
   {
    "duration": 406,
    "start_time": "2023-03-30T08:35:37.795Z"
   },
   {
    "duration": 463,
    "start_time": "2023-03-30T08:35:38.299Z"
   },
   {
    "duration": 58,
    "start_time": "2023-03-30T08:35:41.771Z"
   },
   {
    "duration": 23,
    "start_time": "2023-03-30T08:36:04.227Z"
   },
   {
    "duration": 12,
    "start_time": "2023-03-30T08:36:05.379Z"
   },
   {
    "duration": 101,
    "start_time": "2023-03-30T08:36:08.631Z"
   },
   {
    "duration": 9,
    "start_time": "2023-03-30T08:36:09.731Z"
   },
   {
    "duration": 64,
    "start_time": "2023-03-30T08:36:11.959Z"
   },
   {
    "duration": 7,
    "start_time": "2023-03-30T08:36:12.679Z"
   },
   {
    "duration": 23,
    "start_time": "2023-03-30T08:41:34.046Z"
   },
   {
    "duration": 7,
    "start_time": "2023-03-30T08:41:34.634Z"
   },
   {
    "duration": 7,
    "start_time": "2023-03-30T08:42:19.643Z"
   },
   {
    "duration": 10,
    "start_time": "2023-03-30T08:45:18.622Z"
   },
   {
    "duration": 10,
    "start_time": "2023-03-30T08:46:22.710Z"
   },
   {
    "duration": 104,
    "start_time": "2023-03-30T08:46:48.886Z"
   },
   {
    "duration": 10,
    "start_time": "2023-03-30T08:47:10.466Z"
   },
   {
    "duration": 13,
    "start_time": "2023-03-30T08:48:51.266Z"
   },
   {
    "duration": 13,
    "start_time": "2023-03-30T10:05:42.727Z"
   },
   {
    "duration": 7,
    "start_time": "2023-03-30T10:05:45.911Z"
   },
   {
    "duration": 228,
    "start_time": "2023-03-30T10:05:46.671Z"
   },
   {
    "duration": 116,
    "start_time": "2023-03-30T10:07:06.211Z"
   },
   {
    "duration": 9,
    "start_time": "2023-03-30T10:07:08.190Z"
   },
   {
    "duration": 7,
    "start_time": "2023-03-30T10:07:36.102Z"
   },
   {
    "duration": 13,
    "start_time": "2023-03-30T10:07:36.663Z"
   },
   {
    "duration": 6,
    "start_time": "2023-03-30T10:08:08.222Z"
   },
   {
    "duration": 4,
    "start_time": "2023-03-30T10:08:15.130Z"
   },
   {
    "duration": 253,
    "start_time": "2023-03-30T10:08:17.778Z"
   },
   {
    "duration": 226,
    "start_time": "2023-03-30T10:11:51.225Z"
   },
   {
    "duration": 243,
    "start_time": "2023-03-30T10:13:46.885Z"
   },
   {
    "duration": 220,
    "start_time": "2023-03-30T10:13:53.662Z"
   },
   {
    "duration": 208,
    "start_time": "2023-03-30T10:14:25.974Z"
   },
   {
    "duration": 229,
    "start_time": "2023-03-30T10:14:33.913Z"
   },
   {
    "duration": 120,
    "start_time": "2023-03-30T10:15:37.909Z"
   },
   {
    "duration": 241,
    "start_time": "2023-03-30T10:15:46.941Z"
   },
   {
    "duration": 243,
    "start_time": "2023-03-30T10:16:10.829Z"
   },
   {
    "duration": 290,
    "start_time": "2023-03-30T10:16:29.537Z"
   },
   {
    "duration": 6,
    "start_time": "2023-03-30T10:17:05.821Z"
   },
   {
    "duration": 399,
    "start_time": "2023-03-30T10:17:08.178Z"
   },
   {
    "duration": 8,
    "start_time": "2023-03-30T10:21:58.869Z"
   },
   {
    "duration": 320,
    "start_time": "2023-03-30T10:21:59.800Z"
   },
   {
    "duration": 5,
    "start_time": "2023-03-30T10:23:39.747Z"
   },
   {
    "duration": 4,
    "start_time": "2023-03-30T10:23:41.424Z"
   },
   {
    "duration": 3,
    "start_time": "2023-03-30T10:23:41.912Z"
   },
   {
    "duration": 241,
    "start_time": "2023-03-30T10:23:42.556Z"
   },
   {
    "duration": 10,
    "start_time": "2023-03-30T10:24:23.205Z"
   },
   {
    "duration": 357,
    "start_time": "2023-03-30T10:24:44.272Z"
   },
   {
    "duration": 7,
    "start_time": "2023-03-30T10:25:38.215Z"
   },
   {
    "duration": 110,
    "start_time": "2023-03-30T10:28:01.380Z"
   },
   {
    "duration": 5,
    "start_time": "2023-03-30T10:28:55.107Z"
   },
   {
    "duration": 112,
    "start_time": "2023-03-30T10:29:25.683Z"
   },
   {
    "duration": 4,
    "start_time": "2023-03-30T10:29:35.515Z"
   },
   {
    "duration": 5,
    "start_time": "2023-03-30T10:32:30.934Z"
   },
   {
    "duration": 38,
    "start_time": "2023-03-30T10:32:56.314Z"
   },
   {
    "duration": 5,
    "start_time": "2023-03-30T10:34:52.334Z"
   },
   {
    "duration": 42,
    "start_time": "2023-03-30T10:35:05.179Z"
   },
   {
    "duration": 14,
    "start_time": "2023-03-30T10:38:10.510Z"
   },
   {
    "duration": 12,
    "start_time": "2023-03-30T10:38:27.870Z"
   },
   {
    "duration": 42,
    "start_time": "2023-03-30T10:39:06.324Z"
   },
   {
    "duration": 11,
    "start_time": "2023-03-30T10:39:06.986Z"
   },
   {
    "duration": 7,
    "start_time": "2023-03-30T10:39:09.062Z"
   },
   {
    "duration": 15,
    "start_time": "2023-03-30T10:39:15.598Z"
   },
   {
    "duration": 43,
    "start_time": "2023-03-30T10:39:15.962Z"
   },
   {
    "duration": 12,
    "start_time": "2023-03-30T10:39:16.514Z"
   },
   {
    "duration": 44,
    "start_time": "2023-03-30T10:39:20.091Z"
   },
   {
    "duration": 14,
    "start_time": "2023-03-30T10:39:20.458Z"
   },
   {
    "duration": 50,
    "start_time": "2023-03-30T10:39:20.898Z"
   },
   {
    "duration": 20,
    "start_time": "2023-03-30T10:39:21.469Z"
   },
   {
    "duration": 10,
    "start_time": "2023-03-30T10:39:22.769Z"
   },
   {
    "duration": 61,
    "start_time": "2023-03-30T10:40:05.606Z"
   },
   {
    "duration": 70,
    "start_time": "2023-03-30T10:41:02.757Z"
   },
   {
    "duration": 5,
    "start_time": "2023-03-30T10:42:28.749Z"
   },
   {
    "duration": 5,
    "start_time": "2023-03-30T10:42:52.981Z"
   },
   {
    "duration": 21,
    "start_time": "2023-03-30T10:42:57.161Z"
   },
   {
    "duration": 19,
    "start_time": "2023-03-30T10:48:27.348Z"
   },
   {
    "duration": 4,
    "start_time": "2023-03-30T10:48:28.008Z"
   },
   {
    "duration": 7,
    "start_time": "2023-03-30T10:52:50.711Z"
   },
   {
    "duration": 7,
    "start_time": "2023-03-30T10:52:51.698Z"
   },
   {
    "duration": 8,
    "start_time": "2023-03-30T10:54:34.043Z"
   },
   {
    "duration": 4,
    "start_time": "2023-03-30T10:55:02.086Z"
   },
   {
    "duration": 6,
    "start_time": "2023-03-30T10:56:27.826Z"
   },
   {
    "duration": 6,
    "start_time": "2023-03-30T10:56:31.234Z"
   },
   {
    "duration": 20,
    "start_time": "2023-03-30T10:56:31.886Z"
   },
   {
    "duration": 10,
    "start_time": "2023-03-30T10:57:59.889Z"
   },
   {
    "duration": 9,
    "start_time": "2023-03-30T10:58:02.765Z"
   },
   {
    "duration": 393,
    "start_time": "2023-03-30T11:04:32.161Z"
   },
   {
    "duration": 270,
    "start_time": "2023-03-30T11:04:46.321Z"
   },
   {
    "duration": 257,
    "start_time": "2023-03-30T11:09:29.512Z"
   },
   {
    "duration": 463,
    "start_time": "2023-03-30T11:10:20.551Z"
   },
   {
    "duration": 4,
    "start_time": "2023-03-30T11:10:57.907Z"
   },
   {
    "duration": 4,
    "start_time": "2023-03-30T11:10:58.323Z"
   },
   {
    "duration": 4,
    "start_time": "2023-03-30T11:10:58.851Z"
   },
   {
    "duration": 237,
    "start_time": "2023-03-30T11:10:59.516Z"
   },
   {
    "duration": 273,
    "start_time": "2023-03-30T11:11:04.712Z"
   },
   {
    "duration": 340,
    "start_time": "2023-03-30T11:12:22.483Z"
   },
   {
    "duration": 361,
    "start_time": "2023-03-30T11:12:28.727Z"
   },
   {
    "duration": 388,
    "start_time": "2023-03-30T11:12:39.084Z"
   },
   {
    "duration": 556,
    "start_time": "2023-03-30T11:12:45.722Z"
   },
   {
    "duration": 508,
    "start_time": "2023-03-30T11:13:03.165Z"
   },
   {
    "duration": 572,
    "start_time": "2023-03-30T11:13:23.760Z"
   },
   {
    "duration": 533,
    "start_time": "2023-03-30T11:13:37.227Z"
   },
   {
    "duration": 563,
    "start_time": "2023-03-30T11:13:46.427Z"
   },
   {
    "duration": 716,
    "start_time": "2023-03-30T11:14:04.163Z"
   },
   {
    "duration": 557,
    "start_time": "2023-03-30T11:42:36.504Z"
   },
   {
    "duration": 500,
    "start_time": "2023-03-30T11:42:48.964Z"
   },
   {
    "duration": 329,
    "start_time": "2023-03-30T11:42:57.756Z"
   },
   {
    "duration": 328,
    "start_time": "2023-03-30T11:44:24.797Z"
   },
   {
    "duration": 484,
    "start_time": "2023-03-30T11:44:46.124Z"
   },
   {
    "duration": 370,
    "start_time": "2023-03-30T11:45:01.553Z"
   },
   {
    "duration": 479,
    "start_time": "2023-03-30T11:45:20.876Z"
   },
   {
    "duration": 124,
    "start_time": "2023-03-30T11:45:47.416Z"
   },
   {
    "duration": 110,
    "start_time": "2023-03-30T11:45:51.824Z"
   },
   {
    "duration": 146,
    "start_time": "2023-03-30T11:46:12.384Z"
   },
   {
    "duration": 119,
    "start_time": "2023-03-30T11:46:20.344Z"
   },
   {
    "duration": 141,
    "start_time": "2023-03-30T11:46:28.651Z"
   },
   {
    "duration": 146,
    "start_time": "2023-03-30T11:46:48.672Z"
   },
   {
    "duration": 3,
    "start_time": "2023-03-30T12:05:05.792Z"
   },
   {
    "duration": 3,
    "start_time": "2023-03-30T12:05:05.988Z"
   },
   {
    "duration": 3,
    "start_time": "2023-03-30T12:05:06.164Z"
   },
   {
    "duration": 3,
    "start_time": "2023-03-30T12:05:06.333Z"
   },
   {
    "duration": 3,
    "start_time": "2023-03-30T12:05:06.509Z"
   },
   {
    "duration": 24,
    "start_time": "2023-03-30T12:05:06.693Z"
   },
   {
    "duration": 10,
    "start_time": "2023-03-30T12:05:06.877Z"
   },
   {
    "duration": 40,
    "start_time": "2023-03-30T12:05:07.740Z"
   },
   {
    "duration": 8,
    "start_time": "2023-03-30T12:05:07.937Z"
   },
   {
    "duration": 14,
    "start_time": "2023-03-30T12:05:08.344Z"
   },
   {
    "duration": 8,
    "start_time": "2023-03-30T12:05:08.524Z"
   },
   {
    "duration": 10,
    "start_time": "2023-03-30T12:05:09.093Z"
   },
   {
    "duration": 10,
    "start_time": "2023-03-30T12:05:10.367Z"
   },
   {
    "duration": 12,
    "start_time": "2023-03-30T12:05:14.861Z"
   },
   {
    "duration": 4,
    "start_time": "2023-03-30T12:05:15.147Z"
   },
   {
    "duration": 5,
    "start_time": "2023-03-30T12:05:15.365Z"
   },
   {
    "duration": 157,
    "start_time": "2023-03-30T12:05:15.600Z"
   },
   {
    "duration": 8,
    "start_time": "2023-03-30T12:05:15.824Z"
   },
   {
    "duration": 121,
    "start_time": "2023-03-30T12:05:16.036Z"
   },
   {
    "duration": 10,
    "start_time": "2023-03-30T12:05:16.697Z"
   },
   {
    "duration": 6,
    "start_time": "2023-03-30T12:05:16.925Z"
   },
   {
    "duration": 17,
    "start_time": "2023-03-30T12:05:17.436Z"
   },
   {
    "duration": 6,
    "start_time": "2023-03-30T12:05:17.656Z"
   },
   {
    "duration": 4,
    "start_time": "2023-03-30T12:05:17.917Z"
   },
   {
    "duration": 374,
    "start_time": "2023-03-30T12:05:18.180Z"
   },
   {
    "duration": 406,
    "start_time": "2023-03-30T12:05:20.654Z"
   },
   {
    "duration": 6,
    "start_time": "2023-03-30T12:05:23.133Z"
   },
   {
    "duration": 369,
    "start_time": "2023-03-30T12:05:24.161Z"
   },
   {
    "duration": 5,
    "start_time": "2023-03-30T12:05:26.273Z"
   },
   {
    "duration": 4,
    "start_time": "2023-03-30T12:05:26.512Z"
   },
   {
    "duration": 5,
    "start_time": "2023-03-30T12:05:26.869Z"
   },
   {
    "duration": 295,
    "start_time": "2023-03-30T12:05:27.297Z"
   },
   {
    "duration": 8,
    "start_time": "2023-03-30T12:05:29.188Z"
   },
   {
    "duration": 391,
    "start_time": "2023-03-30T12:05:29.376Z"
   },
   {
    "duration": 6,
    "start_time": "2023-03-30T12:05:31.558Z"
   },
   {
    "duration": 125,
    "start_time": "2023-03-30T12:05:32.000Z"
   },
   {
    "duration": 5,
    "start_time": "2023-03-30T12:05:33.865Z"
   },
   {
    "duration": 136,
    "start_time": "2023-03-30T12:05:35.390Z"
   },
   {
    "duration": 4,
    "start_time": "2023-03-30T12:05:37.181Z"
   },
   {
    "duration": 5,
    "start_time": "2023-03-30T12:05:39.113Z"
   },
   {
    "duration": 60,
    "start_time": "2023-03-30T12:05:40.085Z"
   },
   {
    "duration": 5,
    "start_time": "2023-03-30T12:05:40.716Z"
   },
   {
    "duration": 50,
    "start_time": "2023-03-30T12:05:41.320Z"
   },
   {
    "duration": 13,
    "start_time": "2023-03-30T12:05:41.668Z"
   },
   {
    "duration": 56,
    "start_time": "2023-03-30T12:05:41.897Z"
   },
   {
    "duration": 14,
    "start_time": "2023-03-30T12:05:42.100Z"
   },
   {
    "duration": 51,
    "start_time": "2023-03-30T12:05:42.728Z"
   },
   {
    "duration": 19,
    "start_time": "2023-03-30T12:05:43.209Z"
   },
   {
    "duration": 10,
    "start_time": "2023-03-30T12:05:43.684Z"
   },
   {
    "duration": 75,
    "start_time": "2023-03-30T12:05:44.436Z"
   },
   {
    "duration": 72,
    "start_time": "2023-03-30T12:05:45.151Z"
   },
   {
    "duration": 6,
    "start_time": "2023-03-30T12:05:45.653Z"
   },
   {
    "duration": 7,
    "start_time": "2023-03-30T12:05:45.851Z"
   },
   {
    "duration": 21,
    "start_time": "2023-03-30T12:05:46.068Z"
   },
   {
    "duration": 4,
    "start_time": "2023-03-30T12:05:46.488Z"
   },
   {
    "duration": 11,
    "start_time": "2023-03-30T12:05:48.055Z"
   },
   {
    "duration": 6,
    "start_time": "2023-03-30T12:05:48.629Z"
   },
   {
    "duration": 9,
    "start_time": "2023-03-30T12:05:50.237Z"
   },
   {
    "duration": 4,
    "start_time": "2023-03-30T12:05:50.428Z"
   },
   {
    "duration": 6,
    "start_time": "2023-03-30T12:05:50.605Z"
   },
   {
    "duration": 7,
    "start_time": "2023-03-30T12:05:51.224Z"
   },
   {
    "duration": 20,
    "start_time": "2023-03-30T12:05:51.480Z"
   },
   {
    "duration": 4,
    "start_time": "2023-03-30T12:05:52.004Z"
   },
   {
    "duration": 10,
    "start_time": "2023-03-30T12:05:54.021Z"
   },
   {
    "duration": 8,
    "start_time": "2023-03-30T12:05:54.457Z"
   },
   {
    "duration": 433,
    "start_time": "2023-03-31T06:09:02.390Z"
   },
   {
    "duration": 2,
    "start_time": "2023-03-31T06:09:02.826Z"
   },
   {
    "duration": 3,
    "start_time": "2023-03-31T06:09:03.017Z"
   },
   {
    "duration": 401,
    "start_time": "2023-03-31T06:09:03.418Z"
   },
   {
    "duration": 466,
    "start_time": "2023-03-31T06:09:03.898Z"
   },
   {
    "duration": 78,
    "start_time": "2023-03-31T06:09:28.038Z"
   },
   {
    "duration": 15,
    "start_time": "2023-03-31T06:09:28.525Z"
   },
   {
    "duration": 3,
    "start_time": "2023-03-31T06:09:47.530Z"
   },
   {
    "duration": 9,
    "start_time": "2023-03-31T06:10:04.098Z"
   },
   {
    "duration": 110,
    "start_time": "2023-03-31T06:10:29.162Z"
   },
   {
    "duration": 8,
    "start_time": "2023-03-31T06:10:29.682Z"
   },
   {
    "duration": 10,
    "start_time": "2023-03-31T06:13:58.893Z"
   },
   {
    "duration": 7,
    "start_time": "2023-03-31T06:14:31.161Z"
   },
   {
    "duration": 7,
    "start_time": "2023-03-31T06:14:49.685Z"
   },
   {
    "duration": 7,
    "start_time": "2023-03-31T06:15:08.569Z"
   },
   {
    "duration": 6,
    "start_time": "2023-03-31T06:15:09.229Z"
   },
   {
    "duration": 111,
    "start_time": "2023-03-31T06:16:20.653Z"
   },
   {
    "duration": 74,
    "start_time": "2023-03-31T06:16:23.957Z"
   },
   {
    "duration": 12,
    "start_time": "2023-03-31T06:16:24.486Z"
   },
   {
    "duration": 7,
    "start_time": "2023-03-31T06:16:25.724Z"
   },
   {
    "duration": 6,
    "start_time": "2023-03-31T06:17:29.819Z"
   },
   {
    "duration": 28,
    "start_time": "2023-03-31T06:17:41.119Z"
   },
   {
    "duration": 13,
    "start_time": "2023-03-31T06:18:25.216Z"
   },
   {
    "duration": 14,
    "start_time": "2023-03-31T06:22:55.920Z"
   },
   {
    "duration": 4,
    "start_time": "2023-03-31T06:22:56.400Z"
   },
   {
    "duration": 6,
    "start_time": "2023-03-31T06:29:49.651Z"
   },
   {
    "duration": 15,
    "start_time": "2023-03-31T06:30:27.215Z"
   },
   {
    "duration": 15,
    "start_time": "2023-03-31T06:30:32.806Z"
   },
   {
    "duration": 5,
    "start_time": "2023-03-31T06:30:49.255Z"
   },
   {
    "duration": 5,
    "start_time": "2023-03-31T06:31:23.407Z"
   },
   {
    "duration": 8,
    "start_time": "2023-03-31T06:31:32.898Z"
   },
   {
    "duration": 4,
    "start_time": "2023-03-31T06:32:29.103Z"
   },
   {
    "duration": 11,
    "start_time": "2023-03-31T06:33:54.099Z"
   },
   {
    "duration": 5,
    "start_time": "2023-03-31T06:34:07.346Z"
   },
   {
    "duration": 10,
    "start_time": "2023-03-31T06:35:05.134Z"
   },
   {
    "duration": 13,
    "start_time": "2023-03-31T06:35:10.616Z"
   },
   {
    "duration": 19,
    "start_time": "2023-03-31T06:36:25.579Z"
   },
   {
    "duration": 6,
    "start_time": "2023-03-31T06:40:53.927Z"
   },
   {
    "duration": 233,
    "start_time": "2023-03-31T06:40:54.522Z"
   },
   {
    "duration": 11,
    "start_time": "2023-03-31T06:40:55.031Z"
   },
   {
    "duration": 174,
    "start_time": "2023-03-31T06:40:57.358Z"
   },
   {
    "duration": 11,
    "start_time": "2023-03-31T06:40:57.667Z"
   },
   {
    "duration": 8,
    "start_time": "2023-03-31T06:41:00.038Z"
   },
   {
    "duration": 14,
    "start_time": "2023-03-31T06:41:00.460Z"
   },
   {
    "duration": 6,
    "start_time": "2023-03-31T06:41:07.954Z"
   },
   {
    "duration": 7,
    "start_time": "2023-03-31T06:41:08.425Z"
   },
   {
    "duration": 468,
    "start_time": "2023-03-31T06:41:09.016Z"
   },
   {
    "duration": 451,
    "start_time": "2023-03-31T08:11:03.043Z"
   },
   {
    "duration": 4,
    "start_time": "2023-03-31T08:11:03.497Z"
   },
   {
    "duration": 20,
    "start_time": "2023-03-31T08:11:03.503Z"
   },
   {
    "duration": 429,
    "start_time": "2023-03-31T08:11:03.691Z"
   },
   {
    "duration": 509,
    "start_time": "2023-03-31T08:11:04.122Z"
   },
   {
    "duration": 86,
    "start_time": "2023-03-31T08:11:04.916Z"
   },
   {
    "duration": 15,
    "start_time": "2023-03-31T08:11:05.126Z"
   },
   {
    "duration": 105,
    "start_time": "2023-03-31T08:11:05.844Z"
   },
   {
    "duration": 11,
    "start_time": "2023-03-31T08:11:06.047Z"
   },
   {
    "duration": 7,
    "start_time": "2023-03-31T08:11:06.451Z"
   },
   {
    "duration": 9,
    "start_time": "2023-03-31T08:11:06.652Z"
   },
   {
    "duration": 80,
    "start_time": "2023-03-31T08:11:06.846Z"
   },
   {
    "duration": 12,
    "start_time": "2023-03-31T08:11:07.039Z"
   },
   {
    "duration": 7,
    "start_time": "2023-03-31T08:11:07.381Z"
   },
   {
    "duration": 7,
    "start_time": "2023-03-31T08:11:07.557Z"
   },
   {
    "duration": 14,
    "start_time": "2023-03-31T08:11:10.649Z"
   },
   {
    "duration": 13,
    "start_time": "2023-03-31T08:11:11.193Z"
   },
   {
    "duration": 14,
    "start_time": "2023-03-31T08:11:14.863Z"
   },
   {
    "duration": 4,
    "start_time": "2023-03-31T08:11:15.379Z"
   },
   {
    "duration": 6,
    "start_time": "2023-03-31T08:11:17.247Z"
   },
   {
    "duration": 6,
    "start_time": "2023-03-31T08:11:17.444Z"
   },
   {
    "duration": 5,
    "start_time": "2023-03-31T08:11:17.626Z"
   },
   {
    "duration": 9,
    "start_time": "2023-03-31T08:11:17.823Z"
   },
   {
    "duration": 164,
    "start_time": "2023-03-31T08:12:47.635Z"
   },
   {
    "duration": 158,
    "start_time": "2023-03-31T08:13:35.572Z"
   },
   {
    "duration": 8,
    "start_time": "2023-03-31T08:13:41.777Z"
   },
   {
    "duration": 97,
    "start_time": "2023-03-31T08:14:09.278Z"
   },
   {
    "duration": 10,
    "start_time": "2023-03-31T08:14:16.898Z"
   },
   {
    "duration": 317,
    "start_time": "2023-03-31T08:15:30.904Z"
   },
   {
    "duration": 268,
    "start_time": "2023-03-31T08:15:37.173Z"
   },
   {
    "duration": 86,
    "start_time": "2023-03-31T08:15:50.189Z"
   },
   {
    "duration": 422,
    "start_time": "2023-03-31T08:17:15.006Z"
   },
   {
    "duration": 162,
    "start_time": "2023-03-31T08:17:23.607Z"
   },
   {
    "duration": 10,
    "start_time": "2023-03-31T08:17:29.217Z"
   },
   {
    "duration": 186,
    "start_time": "2023-03-31T08:17:34.478Z"
   },
   {
    "duration": 149,
    "start_time": "2023-03-31T08:17:46.874Z"
   },
   {
    "duration": 9,
    "start_time": "2023-03-31T08:17:49.449Z"
   },
   {
    "duration": 10,
    "start_time": "2023-03-31T08:19:09.300Z"
   },
   {
    "duration": 11,
    "start_time": "2023-03-31T08:19:22.972Z"
   },
   {
    "duration": 9,
    "start_time": "2023-03-31T08:19:43.840Z"
   },
   {
    "duration": 12,
    "start_time": "2023-03-31T08:20:10.088Z"
   },
   {
    "duration": 151,
    "start_time": "2023-03-31T08:23:04.547Z"
   },
   {
    "duration": 13,
    "start_time": "2023-03-31T08:23:22.122Z"
   },
   {
    "duration": 101,
    "start_time": "2023-03-31T08:23:39.051Z"
   },
   {
    "duration": 147,
    "start_time": "2023-03-31T08:23:43.989Z"
   },
   {
    "duration": 12,
    "start_time": "2023-03-31T08:23:44.876Z"
   },
   {
    "duration": 15,
    "start_time": "2023-03-31T08:24:14.971Z"
   },
   {
    "duration": 9,
    "start_time": "2023-03-31T08:24:43.922Z"
   },
   {
    "duration": 16,
    "start_time": "2023-03-31T08:24:44.846Z"
   },
   {
    "duration": 13,
    "start_time": "2023-03-31T08:27:07.012Z"
   },
   {
    "duration": 6,
    "start_time": "2023-03-31T08:27:52.839Z"
   },
   {
    "duration": 7,
    "start_time": "2023-03-31T08:29:27.502Z"
   },
   {
    "duration": 68,
    "start_time": "2023-03-31T08:29:49.190Z"
   },
   {
    "duration": 23,
    "start_time": "2023-03-31T08:29:57.585Z"
   },
   {
    "duration": 8,
    "start_time": "2023-03-31T08:30:08.281Z"
   },
   {
    "duration": 14,
    "start_time": "2023-03-31T08:30:19.246Z"
   },
   {
    "duration": 9,
    "start_time": "2023-03-31T08:30:39.244Z"
   },
   {
    "duration": 7,
    "start_time": "2023-03-31T08:30:41.539Z"
   },
   {
    "duration": 12,
    "start_time": "2023-03-31T08:30:42.080Z"
   },
   {
    "duration": 5,
    "start_time": "2023-03-31T08:30:57.989Z"
   },
   {
    "duration": 9,
    "start_time": "2023-03-31T08:31:05.411Z"
   },
   {
    "duration": 7,
    "start_time": "2023-03-31T08:31:18.948Z"
   },
   {
    "duration": 4,
    "start_time": "2023-03-31T08:31:36.518Z"
   },
   {
    "duration": 6,
    "start_time": "2023-03-31T08:31:43.415Z"
   },
   {
    "duration": 3,
    "start_time": "2023-03-31T08:31:50.380Z"
   },
   {
    "duration": 5,
    "start_time": "2023-03-31T08:31:50.988Z"
   },
   {
    "duration": 15,
    "start_time": "2023-03-31T08:32:07.088Z"
   },
   {
    "duration": 10,
    "start_time": "2023-03-31T08:32:22.281Z"
   },
   {
    "duration": 12,
    "start_time": "2023-03-31T08:32:52.135Z"
   },
   {
    "duration": 1042,
    "start_time": "2023-03-31T08:32:56.725Z"
   },
   {
    "duration": 1029,
    "start_time": "2023-03-31T08:33:13.617Z"
   },
   {
    "duration": 15,
    "start_time": "2023-03-31T08:33:26.145Z"
   },
   {
    "duration": 13,
    "start_time": "2023-03-31T08:33:46.239Z"
   },
   {
    "duration": 914,
    "start_time": "2023-03-31T08:33:57.058Z"
   },
   {
    "duration": 8,
    "start_time": "2023-03-31T08:34:06.967Z"
   },
   {
    "duration": 11,
    "start_time": "2023-03-31T08:34:23.334Z"
   },
   {
    "duration": 9,
    "start_time": "2023-03-31T08:34:34.016Z"
   },
   {
    "duration": 3935,
    "start_time": "2023-03-31T08:35:22.573Z"
   },
   {
    "duration": 9,
    "start_time": "2023-03-31T08:37:02.640Z"
   },
   {
    "duration": 886,
    "start_time": "2023-03-31T08:37:03.333Z"
   },
   {
    "duration": 13,
    "start_time": "2023-03-31T08:38:11.103Z"
   },
   {
    "duration": 1450,
    "start_time": "2023-03-31T08:38:24.821Z"
   },
   {
    "duration": 10,
    "start_time": "2023-03-31T08:38:54.244Z"
   },
   {
    "duration": 8,
    "start_time": "2023-03-31T08:40:14.269Z"
   },
   {
    "duration": 20,
    "start_time": "2023-03-31T08:40:22.798Z"
   },
   {
    "duration": 13,
    "start_time": "2023-03-31T08:41:09.255Z"
   },
   {
    "duration": 35,
    "start_time": "2023-03-31T08:42:42.373Z"
   },
   {
    "duration": 13,
    "start_time": "2023-03-31T08:42:53.411Z"
   },
   {
    "duration": 65,
    "start_time": "2023-03-31T08:43:06.837Z"
   },
   {
    "duration": 17,
    "start_time": "2023-03-31T08:43:11.165Z"
   },
   {
    "duration": 18,
    "start_time": "2023-03-31T08:43:55.299Z"
   },
   {
    "duration": 18,
    "start_time": "2023-03-31T08:44:21.319Z"
   },
   {
    "duration": 9,
    "start_time": "2023-03-31T08:44:57.573Z"
   },
   {
    "duration": 47,
    "start_time": "2023-03-31T08:44:59.304Z"
   },
   {
    "duration": 9,
    "start_time": "2023-03-31T08:45:02.523Z"
   },
   {
    "duration": 867,
    "start_time": "2023-03-31T08:45:45.908Z"
   },
   {
    "duration": 8,
    "start_time": "2023-03-31T08:50:12.601Z"
   },
   {
    "duration": 10,
    "start_time": "2023-03-31T08:50:16.906Z"
   },
   {
    "duration": 9,
    "start_time": "2023-03-31T08:50:26.990Z"
   },
   {
    "duration": 1723,
    "start_time": "2023-03-31T08:50:51.232Z"
   },
   {
    "duration": 15,
    "start_time": "2023-03-31T08:51:00.665Z"
   },
   {
    "duration": 17,
    "start_time": "2023-03-31T08:52:27.526Z"
   },
   {
    "duration": 10,
    "start_time": "2023-03-31T08:52:39.825Z"
   },
   {
    "duration": 10,
    "start_time": "2023-03-31T08:52:56.599Z"
   },
   {
    "duration": 9,
    "start_time": "2023-03-31T08:53:18.785Z"
   },
   {
    "duration": 10,
    "start_time": "2023-03-31T08:53:20.562Z"
   },
   {
    "duration": 14,
    "start_time": "2023-03-31T08:53:32.034Z"
   },
   {
    "duration": 2241,
    "start_time": "2023-03-31T08:53:43.104Z"
   },
   {
    "duration": 9,
    "start_time": "2023-03-31T08:55:06.886Z"
   },
   {
    "duration": 3094,
    "start_time": "2023-03-31T08:55:07.934Z"
   },
   {
    "duration": 8,
    "start_time": "2023-03-31T08:58:03.364Z"
   },
   {
    "duration": 6,
    "start_time": "2023-03-31T08:58:19.083Z"
   },
   {
    "duration": 11,
    "start_time": "2023-03-31T08:58:50.668Z"
   },
   {
    "duration": 5,
    "start_time": "2023-03-31T08:59:44.776Z"
   },
   {
    "duration": 11,
    "start_time": "2023-03-31T09:02:03.796Z"
   },
   {
    "duration": 11,
    "start_time": "2023-03-31T09:02:12.540Z"
   },
   {
    "duration": 1093,
    "start_time": "2023-03-31T09:02:32.144Z"
   },
   {
    "duration": 9,
    "start_time": "2023-03-31T09:03:04.026Z"
   },
   {
    "duration": 7,
    "start_time": "2023-03-31T09:03:56.962Z"
   },
   {
    "duration": 2,
    "start_time": "2023-03-31T09:04:11.497Z"
   },
   {
    "duration": 1345,
    "start_time": "2023-03-31T09:04:31.687Z"
   },
   {
    "duration": 6,
    "start_time": "2023-03-31T09:04:47.087Z"
   },
   {
    "duration": 12,
    "start_time": "2023-03-31T09:06:34.973Z"
   },
   {
    "duration": 144,
    "start_time": "2023-03-31T09:07:01.460Z"
   },
   {
    "duration": 14,
    "start_time": "2023-03-31T09:07:14.512Z"
   },
   {
    "duration": 153,
    "start_time": "2023-03-31T09:07:57.808Z"
   },
   {
    "duration": 175,
    "start_time": "2023-03-31T09:08:02.533Z"
   },
   {
    "duration": 16,
    "start_time": "2023-03-31T09:08:12.064Z"
   },
   {
    "duration": 14,
    "start_time": "2023-03-31T09:09:50.394Z"
   },
   {
    "duration": 3,
    "start_time": "2023-03-31T09:15:35.544Z"
   },
   {
    "duration": 3,
    "start_time": "2023-03-31T09:15:43.022Z"
   },
   {
    "duration": 3,
    "start_time": "2023-03-31T09:15:43.222Z"
   },
   {
    "duration": 2,
    "start_time": "2023-03-31T09:15:43.414Z"
   },
   {
    "duration": 3,
    "start_time": "2023-03-31T09:15:43.605Z"
   },
   {
    "duration": 3,
    "start_time": "2023-03-31T09:15:43.778Z"
   },
   {
    "duration": 3,
    "start_time": "2023-03-31T09:15:44.326Z"
   },
   {
    "duration": 28,
    "start_time": "2023-03-31T09:15:44.888Z"
   },
   {
    "duration": 9,
    "start_time": "2023-03-31T09:15:45.060Z"
   },
   {
    "duration": 42,
    "start_time": "2023-03-31T09:15:45.544Z"
   },
   {
    "duration": 9,
    "start_time": "2023-03-31T09:15:45.700Z"
   },
   {
    "duration": 9,
    "start_time": "2023-03-31T09:15:46.039Z"
   },
   {
    "duration": 8,
    "start_time": "2023-03-31T09:15:46.203Z"
   },
   {
    "duration": 30,
    "start_time": "2023-03-31T09:15:46.361Z"
   },
   {
    "duration": 8,
    "start_time": "2023-03-31T09:15:46.533Z"
   },
   {
    "duration": 7,
    "start_time": "2023-03-31T09:15:46.910Z"
   },
   {
    "duration": 7,
    "start_time": "2023-03-31T09:15:47.058Z"
   },
   {
    "duration": 17,
    "start_time": "2023-03-31T09:15:47.748Z"
   },
   {
    "duration": 13,
    "start_time": "2023-03-31T09:15:48.300Z"
   },
   {
    "duration": 11,
    "start_time": "2023-03-31T09:15:52.412Z"
   },
   {
    "duration": 5,
    "start_time": "2023-03-31T09:15:52.845Z"
   },
   {
    "duration": 5,
    "start_time": "2023-03-31T09:15:53.021Z"
   },
   {
    "duration": 6,
    "start_time": "2023-03-31T09:15:53.188Z"
   },
   {
    "duration": 5,
    "start_time": "2023-03-31T09:15:53.368Z"
   },
   {
    "duration": 10,
    "start_time": "2023-03-31T09:15:53.542Z"
   },
   {
    "duration": 15,
    "start_time": "2023-03-31T09:15:53.719Z"
   },
   {
    "duration": 7,
    "start_time": "2023-03-31T09:15:55.400Z"
   },
   {
    "duration": 223,
    "start_time": "2023-03-31T09:15:55.864Z"
   },
   {
    "duration": 10,
    "start_time": "2023-03-31T09:15:56.090Z"
   },
   {
    "duration": 148,
    "start_time": "2023-03-31T09:15:56.218Z"
   },
   {
    "duration": 10,
    "start_time": "2023-03-31T09:15:56.368Z"
   },
   {
    "duration": 9,
    "start_time": "2023-03-31T09:15:56.519Z"
   },
   {
    "duration": 13,
    "start_time": "2023-03-31T09:15:56.680Z"
   },
   {
    "duration": 6,
    "start_time": "2023-03-31T09:15:56.987Z"
   },
   {
    "duration": 5,
    "start_time": "2023-03-31T09:15:57.735Z"
   },
   {
    "duration": 405,
    "start_time": "2023-03-31T09:15:58.470Z"
   },
   {
    "duration": 264,
    "start_time": "2023-03-31T09:16:05.196Z"
   },
   {
    "duration": 591,
    "start_time": "2023-03-31T09:17:24.071Z"
   },
   {
    "duration": 260,
    "start_time": "2023-03-31T09:17:31.026Z"
   },
   {
    "duration": 262,
    "start_time": "2023-03-31T09:18:26.989Z"
   },
   {
    "duration": 8,
    "start_time": "2023-03-31T09:18:31.940Z"
   },
   {
    "duration": 399,
    "start_time": "2023-03-31T09:18:41.438Z"
   },
   {
    "duration": 5,
    "start_time": "2023-03-31T09:18:45.271Z"
   },
   {
    "duration": 5,
    "start_time": "2023-03-31T09:18:45.750Z"
   },
   {
    "duration": 4,
    "start_time": "2023-03-31T09:18:46.285Z"
   },
   {
    "duration": 281,
    "start_time": "2023-03-31T09:18:51.214Z"
   },
   {
    "duration": 8,
    "start_time": "2023-03-31T09:18:54.676Z"
   },
   {
    "duration": 396,
    "start_time": "2023-03-31T09:18:58.798Z"
   },
   {
    "duration": 8,
    "start_time": "2023-03-31T09:19:04.159Z"
   },
   {
    "duration": 164,
    "start_time": "2023-03-31T09:19:10.252Z"
   },
   {
    "duration": 6,
    "start_time": "2023-03-31T09:19:13.559Z"
   },
   {
    "duration": 271,
    "start_time": "2023-03-31T09:19:18.305Z"
   },
   {
    "duration": 165,
    "start_time": "2023-03-31T09:22:43.827Z"
   },
   {
    "duration": 195,
    "start_time": "2023-03-31T09:23:19.219Z"
   },
   {
    "duration": 165,
    "start_time": "2023-03-31T09:23:44.482Z"
   },
   {
    "duration": 166,
    "start_time": "2023-03-31T09:23:52.442Z"
   },
   {
    "duration": 179,
    "start_time": "2023-03-31T09:24:14.175Z"
   },
   {
    "duration": 171,
    "start_time": "2023-03-31T09:24:51.559Z"
   },
   {
    "duration": 169,
    "start_time": "2023-03-31T09:26:00.286Z"
   },
   {
    "duration": 93,
    "start_time": "2023-03-31T09:28:48.175Z"
   },
   {
    "duration": 263,
    "start_time": "2023-03-31T09:30:25.985Z"
   },
   {
    "duration": 13,
    "start_time": "2023-03-31T09:30:57.584Z"
   },
   {
    "duration": 10,
    "start_time": "2023-03-31T09:32:51.469Z"
   },
   {
    "duration": 10,
    "start_time": "2023-03-31T09:32:57.678Z"
   },
   {
    "duration": 11,
    "start_time": "2023-03-31T09:33:14.194Z"
   },
   {
    "duration": 6,
    "start_time": "2023-03-31T09:33:29.719Z"
   },
   {
    "duration": 11,
    "start_time": "2023-03-31T09:33:57.477Z"
   },
   {
    "duration": 6,
    "start_time": "2023-03-31T09:34:20.682Z"
   },
   {
    "duration": 12,
    "start_time": "2023-03-31T09:34:48.289Z"
   },
   {
    "duration": 5,
    "start_time": "2023-03-31T09:34:49.450Z"
   },
   {
    "duration": 879,
    "start_time": "2023-03-31T09:35:03.516Z"
   },
   {
    "duration": 19,
    "start_time": "2023-03-31T09:35:10.621Z"
   },
   {
    "duration": 15,
    "start_time": "2023-03-31T09:35:29.398Z"
   },
   {
    "duration": 11,
    "start_time": "2023-03-31T09:35:56.607Z"
   },
   {
    "duration": 8,
    "start_time": "2023-03-31T09:36:14.295Z"
   },
   {
    "duration": 7,
    "start_time": "2023-03-31T09:36:26.403Z"
   },
   {
    "duration": 10,
    "start_time": "2023-03-31T09:36:31.297Z"
   },
   {
    "duration": 8,
    "start_time": "2023-03-31T09:36:35.155Z"
   },
   {
    "duration": 8,
    "start_time": "2023-03-31T09:36:52.639Z"
   },
   {
    "duration": 13,
    "start_time": "2023-03-31T09:36:54.817Z"
   },
   {
    "duration": 8,
    "start_time": "2023-03-31T09:37:07.503Z"
   },
   {
    "duration": 3,
    "start_time": "2023-03-31T09:37:12.519Z"
   },
   {
    "duration": 3,
    "start_time": "2023-03-31T09:37:12.680Z"
   },
   {
    "duration": 3,
    "start_time": "2023-03-31T09:37:12.844Z"
   },
   {
    "duration": 3,
    "start_time": "2023-03-31T09:37:13.009Z"
   },
   {
    "duration": 3,
    "start_time": "2023-03-31T09:37:13.172Z"
   },
   {
    "duration": 2,
    "start_time": "2023-03-31T09:37:13.342Z"
   },
   {
    "duration": 30,
    "start_time": "2023-03-31T09:37:13.846Z"
   },
   {
    "duration": 10,
    "start_time": "2023-03-31T09:37:14.022Z"
   },
   {
    "duration": 39,
    "start_time": "2023-03-31T09:37:14.533Z"
   },
   {
    "duration": 11,
    "start_time": "2023-03-31T09:37:14.712Z"
   },
   {
    "duration": 7,
    "start_time": "2023-03-31T09:37:15.095Z"
   },
   {
    "duration": 7,
    "start_time": "2023-03-31T09:37:15.302Z"
   },
   {
    "duration": 33,
    "start_time": "2023-03-31T09:37:15.500Z"
   },
   {
    "duration": 9,
    "start_time": "2023-03-31T09:37:15.705Z"
   },
   {
    "duration": 8,
    "start_time": "2023-03-31T09:37:16.081Z"
   },
   {
    "duration": 7,
    "start_time": "2023-03-31T09:37:16.274Z"
   },
   {
    "duration": 14,
    "start_time": "2023-03-31T09:37:18.619Z"
   },
   {
    "duration": 20,
    "start_time": "2023-03-31T09:37:21.097Z"
   },
   {
    "duration": 13,
    "start_time": "2023-03-31T09:37:24.264Z"
   },
   {
    "duration": 5,
    "start_time": "2023-03-31T09:37:24.698Z"
   },
   {
    "duration": 6,
    "start_time": "2023-03-31T09:37:25.183Z"
   },
   {
    "duration": 6,
    "start_time": "2023-03-31T09:37:25.541Z"
   },
   {
    "duration": 6,
    "start_time": "2023-03-31T09:37:25.775Z"
   },
   {
    "duration": 14,
    "start_time": "2023-03-31T09:37:25.983Z"
   },
   {
    "duration": 10,
    "start_time": "2023-03-31T09:37:28.976Z"
   },
   {
    "duration": 13,
    "start_time": "2023-03-31T09:37:36.345Z"
   },
   {
    "duration": 13,
    "start_time": "2023-03-31T09:38:11.214Z"
   },
   {
    "duration": 81,
    "start_time": "2023-03-31T09:38:36.829Z"
   },
   {
    "duration": 12,
    "start_time": "2023-03-31T09:38:53.510Z"
   },
   {
    "duration": 70,
    "start_time": "2023-03-31T09:38:57.110Z"
   },
   {
    "duration": 8,
    "start_time": "2023-03-31T09:39:06.896Z"
   },
   {
    "duration": 7,
    "start_time": "2023-03-31T09:42:10.236Z"
   },
   {
    "duration": 12,
    "start_time": "2023-03-31T09:43:41.391Z"
   },
   {
    "duration": 13,
    "start_time": "2023-03-31T09:43:49.920Z"
   },
   {
    "duration": 11,
    "start_time": "2023-03-31T09:43:55.090Z"
   },
   {
    "duration": 172,
    "start_time": "2023-03-31T09:44:28.307Z"
   },
   {
    "duration": 6,
    "start_time": "2023-03-31T09:44:49.944Z"
   },
   {
    "duration": 5,
    "start_time": "2023-03-31T09:47:03.687Z"
   },
   {
    "duration": 53,
    "start_time": "2023-03-31T09:47:04.820Z"
   },
   {
    "duration": 6,
    "start_time": "2023-03-31T09:47:05.435Z"
   },
   {
    "duration": 62,
    "start_time": "2023-03-31T09:47:05.983Z"
   },
   {
    "duration": 15,
    "start_time": "2023-03-31T09:47:08.231Z"
   },
   {
    "duration": 65,
    "start_time": "2023-03-31T09:47:08.882Z"
   },
   {
    "duration": 19,
    "start_time": "2023-03-31T09:47:11.043Z"
   },
   {
    "duration": 61,
    "start_time": "2023-03-31T09:47:11.556Z"
   },
   {
    "duration": 25,
    "start_time": "2023-03-31T09:47:13.423Z"
   },
   {
    "duration": 9,
    "start_time": "2023-03-31T09:58:40.198Z"
   },
   {
    "duration": 11,
    "start_time": "2023-03-31T09:58:59.731Z"
   },
   {
    "duration": 7,
    "start_time": "2023-03-31T09:59:06.132Z"
   },
   {
    "duration": 10,
    "start_time": "2023-03-31T09:59:06.434Z"
   },
   {
    "duration": 48,
    "start_time": "2023-03-31T09:59:07.264Z"
   },
   {
    "duration": 7,
    "start_time": "2023-03-31T09:59:07.947Z"
   },
   {
    "duration": 48,
    "start_time": "2023-03-31T09:59:08.209Z"
   },
   {
    "duration": 16,
    "start_time": "2023-03-31T09:59:08.424Z"
   },
   {
    "duration": 55,
    "start_time": "2023-03-31T09:59:08.769Z"
   },
   {
    "duration": 18,
    "start_time": "2023-03-31T09:59:09.064Z"
   },
   {
    "duration": 55,
    "start_time": "2023-03-31T09:59:09.729Z"
   },
   {
    "duration": 24,
    "start_time": "2023-03-31T09:59:10.487Z"
   },
   {
    "duration": 12,
    "start_time": "2023-03-31T09:59:11.715Z"
   },
   {
    "duration": 71,
    "start_time": "2023-03-31T09:59:14.340Z"
   },
   {
    "duration": 88,
    "start_time": "2023-03-31T09:59:14.868Z"
   },
   {
    "duration": 6,
    "start_time": "2023-03-31T09:59:15.635Z"
   },
   {
    "duration": 6,
    "start_time": "2023-03-31T09:59:43.061Z"
   },
   {
    "duration": 29,
    "start_time": "2023-03-31T09:59:43.839Z"
   },
   {
    "duration": 7,
    "start_time": "2023-03-31T09:59:46.053Z"
   },
   {
    "duration": 9,
    "start_time": "2023-03-31T09:59:58.475Z"
   },
   {
    "duration": 9,
    "start_time": "2023-03-31T09:59:59.112Z"
   },
   {
    "duration": 11,
    "start_time": "2023-03-31T10:00:05.370Z"
   },
   {
    "duration": 6,
    "start_time": "2023-03-31T10:00:05.882Z"
   },
   {
    "duration": 7,
    "start_time": "2023-03-31T10:00:38.335Z"
   },
   {
    "duration": 8,
    "start_time": "2023-03-31T10:01:07.960Z"
   },
   {
    "duration": 23,
    "start_time": "2023-03-31T10:01:09.824Z"
   },
   {
    "duration": 5,
    "start_time": "2023-03-31T10:01:10.528Z"
   },
   {
    "duration": 16,
    "start_time": "2023-03-31T10:01:15.768Z"
   },
   {
    "duration": 14,
    "start_time": "2023-03-31T10:01:16.655Z"
   },
   {
    "duration": 5,
    "start_time": "2023-03-31T10:04:02.140Z"
   },
   {
    "duration": 8,
    "start_time": "2023-03-31T10:04:02.445Z"
   },
   {
    "duration": 67,
    "start_time": "2023-03-31T10:04:06.937Z"
   },
   {
    "duration": 76,
    "start_time": "2023-03-31T10:04:18.694Z"
   },
   {
    "duration": 8,
    "start_time": "2023-03-31T10:04:20.447Z"
   },
   {
    "duration": 6,
    "start_time": "2023-03-31T10:04:21.184Z"
   },
   {
    "duration": 24,
    "start_time": "2023-03-31T10:04:22.790Z"
   },
   {
    "duration": 7,
    "start_time": "2023-03-31T10:04:23.295Z"
   },
   {
    "duration": 10,
    "start_time": "2023-03-31T10:04:25.711Z"
   },
   {
    "duration": 10,
    "start_time": "2023-03-31T10:04:26.060Z"
   },
   {
    "duration": 10,
    "start_time": "2023-03-31T10:04:29.576Z"
   },
   {
    "duration": 4,
    "start_time": "2023-03-31T10:04:31.264Z"
   },
   {
    "duration": 6,
    "start_time": "2023-03-31T10:04:33.849Z"
   },
   {
    "duration": 6,
    "start_time": "2023-03-31T10:04:34.336Z"
   },
   {
    "duration": 22,
    "start_time": "2023-03-31T10:04:36.176Z"
   },
   {
    "duration": 8,
    "start_time": "2023-03-31T10:04:36.585Z"
   },
   {
    "duration": 14,
    "start_time": "2023-03-31T10:04:39.281Z"
   },
   {
    "duration": 11,
    "start_time": "2023-03-31T10:04:39.939Z"
   },
   {
    "duration": 3,
    "start_time": "2023-03-31T10:19:00.135Z"
   },
   {
    "duration": 4,
    "start_time": "2023-03-31T10:19:00.658Z"
   },
   {
    "duration": 3,
    "start_time": "2023-03-31T10:19:13.942Z"
   },
   {
    "duration": 3,
    "start_time": "2023-03-31T10:19:24.058Z"
   },
   {
    "duration": 3,
    "start_time": "2023-03-31T10:19:24.370Z"
   },
   {
    "duration": 3,
    "start_time": "2023-03-31T10:19:24.555Z"
   },
   {
    "duration": 4,
    "start_time": "2023-03-31T10:19:24.943Z"
   },
   {
    "duration": 2,
    "start_time": "2023-03-31T10:19:25.363Z"
   },
   {
    "duration": 466,
    "start_time": "2023-03-31T10:19:38.319Z"
   },
   {
    "duration": 4,
    "start_time": "2023-03-31T10:19:38.787Z"
   },
   {
    "duration": 55,
    "start_time": "2023-03-31T10:19:38.792Z"
   },
   {
    "duration": 269,
    "start_time": "2023-03-31T10:19:38.850Z"
   },
   {
    "duration": 4,
    "start_time": "2023-03-31T10:19:39.121Z"
   },
   {
    "duration": 498,
    "start_time": "2023-03-31T10:19:39.127Z"
   },
   {
    "duration": 30,
    "start_time": "2023-03-31T10:19:39.627Z"
   },
   {
    "duration": 13,
    "start_time": "2023-03-31T10:19:39.659Z"
   },
   {
    "duration": 51,
    "start_time": "2023-03-31T10:19:39.674Z"
   },
   {
    "duration": 9,
    "start_time": "2023-03-31T10:19:39.729Z"
   },
   {
    "duration": 28,
    "start_time": "2023-03-31T10:19:39.739Z"
   },
   {
    "duration": 20,
    "start_time": "2023-03-31T10:19:39.768Z"
   },
   {
    "duration": 16,
    "start_time": "2023-03-31T10:19:39.790Z"
   },
   {
    "duration": 9,
    "start_time": "2023-03-31T10:19:39.808Z"
   },
   {
    "duration": 14,
    "start_time": "2023-03-31T10:19:39.819Z"
   },
   {
    "duration": 8,
    "start_time": "2023-03-31T10:19:39.834Z"
   },
   {
    "duration": 15,
    "start_time": "2023-03-31T10:19:39.844Z"
   },
   {
    "duration": 12,
    "start_time": "2023-03-31T10:19:39.860Z"
   },
   {
    "duration": 17,
    "start_time": "2023-03-31T10:19:39.873Z"
   },
   {
    "duration": 8,
    "start_time": "2023-03-31T10:19:39.892Z"
   },
   {
    "duration": 25,
    "start_time": "2023-03-31T10:19:39.901Z"
   },
   {
    "duration": 18,
    "start_time": "2023-03-31T10:19:39.928Z"
   },
   {
    "duration": 11,
    "start_time": "2023-03-31T10:19:39.948Z"
   },
   {
    "duration": 14,
    "start_time": "2023-03-31T10:19:39.961Z"
   },
   {
    "duration": 16,
    "start_time": "2023-03-31T10:19:39.977Z"
   },
   {
    "duration": 18,
    "start_time": "2023-03-31T10:19:39.994Z"
   },
   {
    "duration": 13,
    "start_time": "2023-03-31T10:19:40.014Z"
   },
   {
    "duration": 11,
    "start_time": "2023-03-31T10:19:40.031Z"
   },
   {
    "duration": 190,
    "start_time": "2023-03-31T10:19:40.044Z"
   },
   {
    "duration": 9,
    "start_time": "2023-03-31T10:19:40.236Z"
   },
   {
    "duration": 136,
    "start_time": "2023-03-31T10:19:40.247Z"
   },
   {
    "duration": 8,
    "start_time": "2023-03-31T10:19:40.385Z"
   },
   {
    "duration": 11,
    "start_time": "2023-03-31T10:19:40.395Z"
   },
   {
    "duration": 21,
    "start_time": "2023-03-31T10:19:40.407Z"
   },
   {
    "duration": 7,
    "start_time": "2023-03-31T10:19:40.440Z"
   },
   {
    "duration": 19,
    "start_time": "2023-03-31T10:19:40.449Z"
   },
   {
    "duration": 322,
    "start_time": "2023-03-31T10:19:40.470Z"
   },
   {
    "duration": 247,
    "start_time": "2023-03-31T10:19:40.794Z"
   },
   {
    "duration": 7,
    "start_time": "2023-03-31T10:19:41.042Z"
   },
   {
    "duration": 320,
    "start_time": "2023-03-31T10:19:41.051Z"
   },
   {
    "duration": 4,
    "start_time": "2023-03-31T10:19:41.372Z"
   },
   {
    "duration": 8,
    "start_time": "2023-03-31T10:19:41.378Z"
   },
   {
    "duration": 7,
    "start_time": "2023-03-31T10:19:41.388Z"
   },
   {
    "duration": 272,
    "start_time": "2023-03-31T10:19:41.397Z"
   },
   {
    "duration": 10,
    "start_time": "2023-03-31T10:19:41.671Z"
   },
   {
    "duration": 377,
    "start_time": "2023-03-31T10:19:41.684Z"
   },
   {
    "duration": 8,
    "start_time": "2023-03-31T10:19:42.062Z"
   },
   {
    "duration": 86,
    "start_time": "2023-03-31T10:19:42.071Z"
   },
   {
    "duration": 329,
    "start_time": "2023-03-31T10:19:42.160Z"
   },
   {
    "duration": 5,
    "start_time": "2023-03-31T10:19:42.491Z"
   },
   {
    "duration": 184,
    "start_time": "2023-03-31T10:19:42.498Z"
   },
   {
    "duration": 179,
    "start_time": "2023-03-31T10:19:42.684Z"
   },
   {
    "duration": 60,
    "start_time": "2023-03-31T10:19:42.865Z"
   },
   {
    "duration": 149,
    "start_time": "2023-03-31T10:19:42.927Z"
   },
   {
    "duration": 102,
    "start_time": "2023-03-31T10:19:43.078Z"
   },
   {
    "duration": 110,
    "start_time": "2023-03-31T10:19:43.182Z"
   },
   {
    "duration": 84,
    "start_time": "2023-03-31T10:19:43.294Z"
   },
   {
    "duration": 6,
    "start_time": "2023-03-31T10:19:43.380Z"
   },
   {
    "duration": 13,
    "start_time": "2023-03-31T10:19:43.388Z"
   },
   {
    "duration": 38,
    "start_time": "2023-03-31T10:19:43.404Z"
   },
   {
    "duration": 110,
    "start_time": "2023-03-31T10:19:43.444Z"
   },
   {
    "duration": 18,
    "start_time": "2023-03-31T10:19:43.557Z"
   },
   {
    "duration": 19,
    "start_time": "2023-03-31T10:19:43.577Z"
   },
   {
    "duration": 12,
    "start_time": "2023-03-31T10:19:43.598Z"
   },
   {
    "duration": 11,
    "start_time": "2023-03-31T10:19:43.611Z"
   },
   {
    "duration": 22,
    "start_time": "2023-03-31T10:19:43.623Z"
   },
   {
    "duration": 11,
    "start_time": "2023-03-31T10:19:43.647Z"
   },
   {
    "duration": 36,
    "start_time": "2023-03-31T10:19:43.660Z"
   },
   {
    "duration": 6,
    "start_time": "2023-03-31T10:19:43.698Z"
   },
   {
    "duration": 20,
    "start_time": "2023-03-31T10:19:43.706Z"
   },
   {
    "duration": 31,
    "start_time": "2023-03-31T10:19:43.728Z"
   },
   {
    "duration": 3,
    "start_time": "2023-03-31T10:19:48.163Z"
   },
   {
    "duration": 2,
    "start_time": "2023-03-31T10:19:51.895Z"
   },
   {
    "duration": 2,
    "start_time": "2023-03-31T10:19:52.091Z"
   },
   {
    "duration": 2,
    "start_time": "2023-03-31T10:19:52.271Z"
   },
   {
    "duration": 3,
    "start_time": "2023-03-31T10:19:52.435Z"
   },
   {
    "duration": 3,
    "start_time": "2023-03-31T10:19:52.843Z"
   },
   {
    "duration": 28,
    "start_time": "2023-03-31T10:19:53.763Z"
   },
   {
    "duration": 10,
    "start_time": "2023-03-31T10:19:53.927Z"
   },
   {
    "duration": 51,
    "start_time": "2023-03-31T10:19:55.379Z"
   },
   {
    "duration": 9,
    "start_time": "2023-03-31T10:19:55.603Z"
   },
   {
    "duration": 8,
    "start_time": "2023-03-31T10:19:55.955Z"
   },
   {
    "duration": 7,
    "start_time": "2023-03-31T10:19:56.124Z"
   },
   {
    "duration": 28,
    "start_time": "2023-03-31T10:19:56.599Z"
   },
   {
    "duration": 9,
    "start_time": "2023-03-31T10:19:56.787Z"
   },
   {
    "duration": 7,
    "start_time": "2023-03-31T10:19:57.219Z"
   },
   {
    "duration": 7,
    "start_time": "2023-03-31T10:19:57.906Z"
   },
   {
    "duration": 14,
    "start_time": "2023-03-31T10:19:59.455Z"
   },
   {
    "duration": 15,
    "start_time": "2023-03-31T10:20:00.175Z"
   },
   {
    "duration": 13,
    "start_time": "2023-03-31T10:20:03.014Z"
   },
   {
    "duration": 6,
    "start_time": "2023-03-31T10:20:03.311Z"
   },
   {
    "duration": 5,
    "start_time": "2023-03-31T10:20:03.519Z"
   },
   {
    "duration": 6,
    "start_time": "2023-03-31T10:20:03.727Z"
   },
   {
    "duration": 4,
    "start_time": "2023-03-31T10:20:04.259Z"
   },
   {
    "duration": 9,
    "start_time": "2023-03-31T10:20:04.495Z"
   },
   {
    "duration": 11,
    "start_time": "2023-03-31T10:20:06.663Z"
   },
   {
    "duration": 12,
    "start_time": "2023-03-31T10:20:06.879Z"
   },
   {
    "duration": 103,
    "start_time": "2023-03-31T10:38:12.323Z"
   },
   {
    "duration": 7,
    "start_time": "2023-03-31T10:38:14.514Z"
   },
   {
    "duration": 47,
    "start_time": "2023-03-31T10:38:15.908Z"
   },
   {
    "duration": 10,
    "start_time": "2023-03-31T10:38:27.690Z"
   },
   {
    "duration": 6,
    "start_time": "2023-03-31T10:38:40.746Z"
   },
   {
    "duration": 9,
    "start_time": "2023-03-31T10:38:41.274Z"
   },
   {
    "duration": 12,
    "start_time": "2023-03-31T10:39:07.266Z"
   },
   {
    "duration": 6,
    "start_time": "2023-03-31T10:39:20.705Z"
   },
   {
    "duration": 6,
    "start_time": "2023-03-31T10:39:29.029Z"
   },
   {
    "duration": 9,
    "start_time": "2023-03-31T10:39:33.538Z"
   },
   {
    "duration": 5,
    "start_time": "2023-03-31T10:40:32.834Z"
   },
   {
    "duration": 14,
    "start_time": "2023-03-31T10:40:53.259Z"
   },
   {
    "duration": 76,
    "start_time": "2023-03-31T10:41:08.234Z"
   },
   {
    "duration": 14,
    "start_time": "2023-03-31T10:41:14.353Z"
   },
   {
    "duration": 151,
    "start_time": "2023-03-31T10:42:43.105Z"
   },
   {
    "duration": 13,
    "start_time": "2023-03-31T10:42:47.589Z"
   },
   {
    "duration": 3,
    "start_time": "2023-03-31T10:42:59.154Z"
   },
   {
    "duration": 3,
    "start_time": "2023-03-31T10:42:59.793Z"
   },
   {
    "duration": 3,
    "start_time": "2023-03-31T10:42:59.961Z"
   },
   {
    "duration": 3,
    "start_time": "2023-03-31T10:43:00.146Z"
   },
   {
    "duration": 3,
    "start_time": "2023-03-31T10:43:00.334Z"
   },
   {
    "duration": 4,
    "start_time": "2023-03-31T10:43:00.497Z"
   },
   {
    "duration": 29,
    "start_time": "2023-03-31T10:43:01.385Z"
   },
   {
    "duration": 10,
    "start_time": "2023-03-31T10:43:01.578Z"
   },
   {
    "duration": 42,
    "start_time": "2023-03-31T10:43:02.185Z"
   },
   {
    "duration": 11,
    "start_time": "2023-03-31T10:43:02.385Z"
   },
   {
    "duration": 8,
    "start_time": "2023-03-31T10:43:02.729Z"
   },
   {
    "duration": 9,
    "start_time": "2023-03-31T10:43:02.905Z"
   },
   {
    "duration": 28,
    "start_time": "2023-03-31T10:43:03.081Z"
   },
   {
    "duration": 9,
    "start_time": "2023-03-31T10:43:03.258Z"
   },
   {
    "duration": 8,
    "start_time": "2023-03-31T10:43:03.581Z"
   },
   {
    "duration": 7,
    "start_time": "2023-03-31T10:43:03.749Z"
   },
   {
    "duration": 15,
    "start_time": "2023-03-31T10:43:04.420Z"
   },
   {
    "duration": 14,
    "start_time": "2023-03-31T10:43:05.313Z"
   },
   {
    "duration": 19,
    "start_time": "2023-03-31T10:43:07.486Z"
   },
   {
    "duration": 7,
    "start_time": "2023-03-31T10:43:07.954Z"
   },
   {
    "duration": 6,
    "start_time": "2023-03-31T10:43:10.025Z"
   },
   {
    "duration": 5,
    "start_time": "2023-03-31T10:43:10.441Z"
   },
   {
    "duration": 5,
    "start_time": "2023-03-31T10:43:10.785Z"
   },
   {
    "duration": 10,
    "start_time": "2023-03-31T10:43:11.417Z"
   },
   {
    "duration": 10,
    "start_time": "2023-03-31T10:43:16.677Z"
   },
   {
    "duration": 7,
    "start_time": "2023-03-31T10:43:17.813Z"
   },
   {
    "duration": 6,
    "start_time": "2023-03-31T10:43:20.438Z"
   },
   {
    "duration": 3,
    "start_time": "2023-03-31T10:57:52.791Z"
   },
   {
    "duration": 3,
    "start_time": "2023-03-31T10:57:53.299Z"
   },
   {
    "duration": 3,
    "start_time": "2023-03-31T10:57:53.511Z"
   },
   {
    "duration": 4,
    "start_time": "2023-03-31T10:57:53.674Z"
   },
   {
    "duration": 3,
    "start_time": "2023-03-31T10:57:53.863Z"
   },
   {
    "duration": 3,
    "start_time": "2023-03-31T10:57:54.020Z"
   },
   {
    "duration": 29,
    "start_time": "2023-03-31T10:57:54.599Z"
   },
   {
    "duration": 10,
    "start_time": "2023-03-31T10:57:54.751Z"
   },
   {
    "duration": 39,
    "start_time": "2023-03-31T10:57:55.319Z"
   },
   {
    "duration": 10,
    "start_time": "2023-03-31T10:57:55.547Z"
   },
   {
    "duration": 10,
    "start_time": "2023-03-31T10:57:56.319Z"
   },
   {
    "duration": 8,
    "start_time": "2023-03-31T10:57:56.563Z"
   },
   {
    "duration": 28,
    "start_time": "2023-03-31T10:57:56.794Z"
   },
   {
    "duration": 9,
    "start_time": "2023-03-31T10:57:57.060Z"
   },
   {
    "duration": 8,
    "start_time": "2023-03-31T10:57:57.671Z"
   },
   {
    "duration": 6,
    "start_time": "2023-03-31T10:57:57.987Z"
   },
   {
    "duration": 13,
    "start_time": "2023-03-31T10:57:59.767Z"
   },
   {
    "duration": 15,
    "start_time": "2023-03-31T10:58:00.359Z"
   },
   {
    "duration": 14,
    "start_time": "2023-03-31T10:58:02.751Z"
   },
   {
    "duration": 11,
    "start_time": "2023-03-31T10:58:03.215Z"
   },
   {
    "duration": 6,
    "start_time": "2023-03-31T10:58:03.819Z"
   },
   {
    "duration": 5,
    "start_time": "2023-03-31T10:58:04.234Z"
   },
   {
    "duration": 6,
    "start_time": "2023-03-31T10:58:04.647Z"
   },
   {
    "duration": 12,
    "start_time": "2023-03-31T10:58:05.147Z"
   },
   {
    "duration": 9,
    "start_time": "2023-03-31T10:58:05.727Z"
   },
   {
    "duration": 7,
    "start_time": "2023-03-31T10:58:06.479Z"
   },
   {
    "duration": 6,
    "start_time": "2023-03-31T10:58:07.211Z"
   },
   {
    "duration": 5,
    "start_time": "2023-03-31T11:16:12.272Z"
   },
   {
    "duration": 3,
    "start_time": "2023-03-31T11:16:12.853Z"
   },
   {
    "duration": 3,
    "start_time": "2023-03-31T11:16:13.048Z"
   },
   {
    "duration": 3,
    "start_time": "2023-03-31T11:16:13.234Z"
   },
   {
    "duration": 3,
    "start_time": "2023-03-31T11:16:13.408Z"
   },
   {
    "duration": 3,
    "start_time": "2023-03-31T11:16:13.596Z"
   },
   {
    "duration": 28,
    "start_time": "2023-03-31T11:16:14.539Z"
   },
   {
    "duration": 10,
    "start_time": "2023-03-31T11:16:15.036Z"
   },
   {
    "duration": 51,
    "start_time": "2023-03-31T11:16:16.065Z"
   },
   {
    "duration": 9,
    "start_time": "2023-03-31T11:16:16.541Z"
   },
   {
    "duration": 7,
    "start_time": "2023-03-31T11:16:17.473Z"
   },
   {
    "duration": 9,
    "start_time": "2023-03-31T11:16:17.709Z"
   },
   {
    "duration": 28,
    "start_time": "2023-03-31T11:16:17.889Z"
   },
   {
    "duration": 9,
    "start_time": "2023-03-31T11:16:18.109Z"
   },
   {
    "duration": 8,
    "start_time": "2023-03-31T11:16:19.156Z"
   },
   {
    "duration": 8,
    "start_time": "2023-03-31T11:16:19.539Z"
   },
   {
    "duration": 14,
    "start_time": "2023-03-31T11:16:21.478Z"
   },
   {
    "duration": 14,
    "start_time": "2023-03-31T11:16:22.436Z"
   },
   {
    "duration": 13,
    "start_time": "2023-03-31T11:16:25.796Z"
   },
   {
    "duration": 5,
    "start_time": "2023-03-31T11:16:26.269Z"
   },
   {
    "duration": 7,
    "start_time": "2023-03-31T11:16:27.236Z"
   },
   {
    "duration": 5,
    "start_time": "2023-03-31T11:16:27.693Z"
   },
   {
    "duration": 6,
    "start_time": "2023-03-31T11:16:28.232Z"
   },
   {
    "duration": 10,
    "start_time": "2023-03-31T11:16:29.335Z"
   },
   {
    "duration": 10,
    "start_time": "2023-03-31T11:16:54.168Z"
   },
   {
    "duration": 7,
    "start_time": "2023-03-31T11:17:36.240Z"
   },
   {
    "duration": 6,
    "start_time": "2023-03-31T11:18:51.870Z"
   },
   {
    "duration": 7,
    "start_time": "2023-03-31T11:19:52.034Z"
   },
   {
    "duration": 35,
    "start_time": "2023-03-31T11:20:24.267Z"
   },
   {
    "duration": 33,
    "start_time": "2023-03-31T11:20:47.444Z"
   },
   {
    "duration": 12,
    "start_time": "2023-03-31T11:20:57.296Z"
   },
   {
    "duration": 7,
    "start_time": "2023-03-31T11:25:00.636Z"
   },
   {
    "duration": 195,
    "start_time": "2023-03-31T11:25:01.137Z"
   },
   {
    "duration": 11,
    "start_time": "2023-03-31T11:25:01.651Z"
   },
   {
    "duration": 134,
    "start_time": "2023-03-31T11:25:04.129Z"
   },
   {
    "duration": 11,
    "start_time": "2023-03-31T11:25:11.724Z"
   },
   {
    "duration": 8,
    "start_time": "2023-03-31T11:25:12.139Z"
   },
   {
    "duration": 12,
    "start_time": "2023-03-31T11:25:13.348Z"
   },
   {
    "duration": 7,
    "start_time": "2023-03-31T11:25:16.451Z"
   },
   {
    "duration": 5,
    "start_time": "2023-03-31T11:25:16.831Z"
   },
   {
    "duration": 231,
    "start_time": "2023-03-31T11:25:17.963Z"
   },
   {
    "duration": 213,
    "start_time": "2023-03-31T11:26:58.699Z"
   },
   {
    "duration": 66,
    "start_time": "2023-03-31T11:33:39.142Z"
   },
   {
    "duration": 242,
    "start_time": "2023-03-31T11:33:49.130Z"
   },
   {
    "duration": 249,
    "start_time": "2023-03-31T11:35:06.993Z"
   },
   {
    "duration": 264,
    "start_time": "2023-03-31T11:35:58.934Z"
   },
   {
    "duration": 350,
    "start_time": "2023-03-31T11:36:41.855Z"
   },
   {
    "duration": 274,
    "start_time": "2023-03-31T11:40:09.043Z"
   },
   {
    "duration": 375,
    "start_time": "2023-03-31T11:40:57.044Z"
   },
   {
    "duration": 9,
    "start_time": "2023-03-31T11:41:07.303Z"
   },
   {
    "duration": 191,
    "start_time": "2023-03-31T11:41:12.547Z"
   },
   {
    "duration": 6,
    "start_time": "2023-03-31T11:42:23.171Z"
   },
   {
    "duration": 177,
    "start_time": "2023-03-31T11:42:26.738Z"
   },
   {
    "duration": 152,
    "start_time": "2023-03-31T11:42:31.852Z"
   },
   {
    "duration": 6,
    "start_time": "2023-03-31T11:42:35.522Z"
   },
   {
    "duration": 6,
    "start_time": "2023-03-31T11:42:52.702Z"
   },
   {
    "duration": 8,
    "start_time": "2023-03-31T11:42:56.158Z"
   },
   {
    "duration": 63,
    "start_time": "2023-03-31T11:42:58.471Z"
   },
   {
    "duration": 81,
    "start_time": "2023-03-31T11:42:58.950Z"
   },
   {
    "duration": 6,
    "start_time": "2023-03-31T11:42:59.474Z"
   },
   {
    "duration": 7,
    "start_time": "2023-03-31T11:43:00.230Z"
   },
   {
    "duration": 25,
    "start_time": "2023-03-31T11:43:00.640Z"
   },
   {
    "duration": 6,
    "start_time": "2023-03-31T11:43:01.270Z"
   },
   {
    "duration": 10,
    "start_time": "2023-03-31T11:43:16.126Z"
   },
   {
    "duration": 9,
    "start_time": "2023-03-31T11:43:17.898Z"
   },
   {
    "duration": 11,
    "start_time": "2023-03-31T11:43:27.882Z"
   },
   {
    "duration": 4,
    "start_time": "2023-03-31T11:43:28.438Z"
   },
   {
    "duration": 6,
    "start_time": "2023-03-31T11:43:36.386Z"
   },
   {
    "duration": 6,
    "start_time": "2023-03-31T11:43:36.782Z"
   },
   {
    "duration": 23,
    "start_time": "2023-03-31T11:43:37.329Z"
   },
   {
    "duration": 6,
    "start_time": "2023-03-31T11:43:38.541Z"
   },
   {
    "duration": 13,
    "start_time": "2023-03-31T11:43:50.503Z"
   },
   {
    "duration": 12,
    "start_time": "2023-03-31T11:43:51.532Z"
   },
   {
    "duration": 12,
    "start_time": "2023-03-31T11:47:16.222Z"
   },
   {
    "duration": 11,
    "start_time": "2023-03-31T11:48:47.032Z"
   },
   {
    "duration": 7,
    "start_time": "2023-03-31T11:48:50.222Z"
   },
   {
    "duration": 9,
    "start_time": "2023-03-31T11:49:33.954Z"
   },
   {
    "duration": 6,
    "start_time": "2023-03-31T11:52:16.754Z"
   },
   {
    "duration": 21,
    "start_time": "2023-03-31T11:52:56.232Z"
   },
   {
    "duration": 5,
    "start_time": "2023-03-31T11:52:58.122Z"
   },
   {
    "duration": 3,
    "start_time": "2023-03-31T12:50:11.288Z"
   },
   {
    "duration": 3,
    "start_time": "2023-03-31T12:50:11.896Z"
   },
   {
    "duration": 4,
    "start_time": "2023-03-31T12:50:12.287Z"
   },
   {
    "duration": 4,
    "start_time": "2023-03-31T12:50:12.500Z"
   },
   {
    "duration": 4,
    "start_time": "2023-03-31T12:50:13.120Z"
   },
   {
    "duration": 3,
    "start_time": "2023-03-31T12:50:13.820Z"
   },
   {
    "duration": 30,
    "start_time": "2023-03-31T12:50:15.511Z"
   },
   {
    "duration": 13,
    "start_time": "2023-03-31T12:50:15.864Z"
   },
   {
    "duration": 50,
    "start_time": "2023-03-31T12:50:16.427Z"
   },
   {
    "duration": 21,
    "start_time": "2023-03-31T12:50:16.608Z"
   },
   {
    "duration": 9,
    "start_time": "2023-03-31T12:50:16.983Z"
   },
   {
    "duration": 8,
    "start_time": "2023-03-31T12:50:17.140Z"
   },
   {
    "duration": 28,
    "start_time": "2023-03-31T12:50:17.344Z"
   },
   {
    "duration": 12,
    "start_time": "2023-03-31T12:50:17.529Z"
   },
   {
    "duration": 9,
    "start_time": "2023-03-31T12:50:17.928Z"
   },
   {
    "duration": 7,
    "start_time": "2023-03-31T12:50:18.120Z"
   },
   {
    "duration": 18,
    "start_time": "2023-03-31T12:50:20.276Z"
   },
   {
    "duration": 22,
    "start_time": "2023-03-31T12:50:21.316Z"
   },
   {
    "duration": 20,
    "start_time": "2023-03-31T12:50:25.500Z"
   },
   {
    "duration": 7,
    "start_time": "2023-03-31T12:50:25.987Z"
   },
   {
    "duration": 6,
    "start_time": "2023-03-31T12:50:26.227Z"
   },
   {
    "duration": 7,
    "start_time": "2023-03-31T12:50:26.755Z"
   },
   {
    "duration": 7,
    "start_time": "2023-03-31T12:50:26.955Z"
   },
   {
    "duration": 12,
    "start_time": "2023-03-31T12:50:27.139Z"
   },
   {
    "duration": 10,
    "start_time": "2023-03-31T12:50:27.312Z"
   },
   {
    "duration": 8,
    "start_time": "2023-03-31T12:50:27.955Z"
   },
   {
    "duration": 9,
    "start_time": "2023-03-31T12:50:28.500Z"
   },
   {
    "duration": 22,
    "start_time": "2023-03-31T12:50:29.181Z"
   },
   {
    "duration": 9,
    "start_time": "2023-03-31T12:50:32.904Z"
   },
   {
    "duration": 288,
    "start_time": "2023-03-31T12:50:33.180Z"
   },
   {
    "duration": 18,
    "start_time": "2023-03-31T12:50:33.648Z"
   },
   {
    "duration": 174,
    "start_time": "2023-03-31T12:50:35.885Z"
   },
   {
    "duration": 10,
    "start_time": "2023-03-31T12:50:36.063Z"
   },
   {
    "duration": 11,
    "start_time": "2023-03-31T12:50:36.567Z"
   },
   {
    "duration": 20,
    "start_time": "2023-03-31T12:50:36.619Z"
   },
   {
    "duration": 7,
    "start_time": "2023-03-31T12:50:37.075Z"
   },
   {
    "duration": 8,
    "start_time": "2023-03-31T12:50:37.664Z"
   },
   {
    "duration": 273,
    "start_time": "2023-03-31T12:50:38.421Z"
   },
   {
    "duration": 417,
    "start_time": "2023-03-31T12:50:44.327Z"
   },
   {
    "duration": 11,
    "start_time": "2023-03-31T12:50:46.583Z"
   },
   {
    "duration": 326,
    "start_time": "2023-03-31T12:50:47.075Z"
   },
   {
    "duration": 7,
    "start_time": "2023-03-31T12:50:49.203Z"
   },
   {
    "duration": 5,
    "start_time": "2023-03-31T12:50:49.692Z"
   },
   {
    "duration": 6,
    "start_time": "2023-03-31T12:50:49.912Z"
   },
   {
    "duration": 280,
    "start_time": "2023-03-31T12:50:50.137Z"
   },
   {
    "duration": 13,
    "start_time": "2023-03-31T12:50:52.121Z"
   },
   {
    "duration": 519,
    "start_time": "2023-03-31T12:50:52.943Z"
   },
   {
    "duration": 12,
    "start_time": "2023-03-31T12:50:56.018Z"
   },
   {
    "duration": 224,
    "start_time": "2023-03-31T12:50:56.864Z"
   },
   {
    "duration": 9,
    "start_time": "2023-03-31T12:51:00.147Z"
   },
   {
    "duration": 4,
    "start_time": "2023-03-31T12:51:25.564Z"
   },
   {
    "duration": 3,
    "start_time": "2023-03-31T12:51:26.204Z"
   },
   {
    "duration": 3,
    "start_time": "2023-03-31T12:51:26.763Z"
   },
   {
    "duration": 4,
    "start_time": "2023-03-31T12:51:27.319Z"
   },
   {
    "duration": 4,
    "start_time": "2023-03-31T12:51:27.867Z"
   },
   {
    "duration": 3,
    "start_time": "2023-03-31T12:51:28.452Z"
   },
   {
    "duration": 30,
    "start_time": "2023-03-31T12:51:32.712Z"
   },
   {
    "duration": 11,
    "start_time": "2023-03-31T12:51:34.383Z"
   },
   {
    "duration": 52,
    "start_time": "2023-03-31T12:51:36.239Z"
   },
   {
    "duration": 16,
    "start_time": "2023-03-31T12:51:37.180Z"
   },
   {
    "duration": 10,
    "start_time": "2023-03-31T12:51:38.680Z"
   },
   {
    "duration": 9,
    "start_time": "2023-03-31T12:51:41.039Z"
   },
   {
    "duration": 30,
    "start_time": "2023-03-31T12:51:41.596Z"
   },
   {
    "duration": 10,
    "start_time": "2023-03-31T12:51:42.019Z"
   },
   {
    "duration": 8,
    "start_time": "2023-03-31T12:51:43.119Z"
   },
   {
    "duration": 8,
    "start_time": "2023-03-31T12:51:45.335Z"
   },
   {
    "duration": 14,
    "start_time": "2023-03-31T12:51:47.915Z"
   },
   {
    "duration": 18,
    "start_time": "2023-03-31T12:51:50.172Z"
   },
   {
    "duration": 18,
    "start_time": "2023-03-31T12:51:53.032Z"
   },
   {
    "duration": 7,
    "start_time": "2023-03-31T12:51:53.600Z"
   },
   {
    "duration": 7,
    "start_time": "2023-03-31T12:51:54.095Z"
   },
   {
    "duration": 7,
    "start_time": "2023-03-31T12:51:54.891Z"
   },
   {
    "duration": 7,
    "start_time": "2023-03-31T12:51:55.608Z"
   },
   {
    "duration": 12,
    "start_time": "2023-03-31T12:51:57.803Z"
   },
   {
    "duration": 7,
    "start_time": "2023-03-31T12:51:58.499Z"
   },
   {
    "duration": 8,
    "start_time": "2023-03-31T12:52:03.667Z"
   },
   {
    "duration": 8,
    "start_time": "2023-03-31T12:52:04.248Z"
   },
   {
    "duration": 19,
    "start_time": "2023-03-31T12:52:04.908Z"
   },
   {
    "duration": 8,
    "start_time": "2023-03-31T12:52:09.511Z"
   },
   {
    "duration": 198,
    "start_time": "2023-03-31T12:52:10.475Z"
   },
   {
    "duration": 148,
    "start_time": "2023-03-31T12:52:14.667Z"
   },
   {
    "duration": 10,
    "start_time": "2023-03-31T12:52:15.260Z"
   },
   {
    "duration": 9,
    "start_time": "2023-03-31T12:52:18.211Z"
   },
   {
    "duration": 12,
    "start_time": "2023-03-31T12:52:18.803Z"
   },
   {
    "duration": 7,
    "start_time": "2023-03-31T12:52:22.631Z"
   },
   {
    "duration": 5,
    "start_time": "2023-03-31T12:52:23.183Z"
   },
   {
    "duration": 242,
    "start_time": "2023-03-31T12:52:24.859Z"
   },
   {
    "duration": 260,
    "start_time": "2023-03-31T12:52:30.151Z"
   },
   {
    "duration": 7,
    "start_time": "2023-03-31T12:52:33.615Z"
   },
   {
    "duration": 342,
    "start_time": "2023-03-31T12:52:34.432Z"
   },
   {
    "duration": 6,
    "start_time": "2023-03-31T12:52:38.495Z"
   },
   {
    "duration": 5,
    "start_time": "2023-03-31T12:52:38.911Z"
   },
   {
    "duration": 5,
    "start_time": "2023-03-31T12:52:39.331Z"
   },
   {
    "duration": 251,
    "start_time": "2023-03-31T12:52:40.083Z"
   },
   {
    "duration": 9,
    "start_time": "2023-03-31T12:52:49.743Z"
   },
   {
    "duration": 335,
    "start_time": "2023-03-31T12:52:50.783Z"
   },
   {
    "duration": 10,
    "start_time": "2023-03-31T12:52:59.220Z"
   },
   {
    "duration": 191,
    "start_time": "2023-03-31T12:53:00.271Z"
   },
   {
    "duration": 6,
    "start_time": "2023-03-31T12:53:08.959Z"
   },
   {
    "duration": 185,
    "start_time": "2023-03-31T12:53:43.347Z"
   },
   {
    "duration": 178,
    "start_time": "2023-03-31T12:53:45.447Z"
   },
   {
    "duration": 6,
    "start_time": "2023-03-31T12:53:49.987Z"
   },
   {
    "duration": 6,
    "start_time": "2023-03-31T12:54:23.039Z"
   },
   {
    "duration": 8,
    "start_time": "2023-03-31T12:54:23.551Z"
   },
   {
    "duration": 67,
    "start_time": "2023-03-31T12:54:26.519Z"
   },
   {
    "duration": 9,
    "start_time": "2023-03-31T12:54:27.196Z"
   },
   {
    "duration": 66,
    "start_time": "2023-03-31T12:54:32.179Z"
   },
   {
    "duration": 7,
    "start_time": "2023-03-31T12:54:48.827Z"
   },
   {
    "duration": 5,
    "start_time": "2023-03-31T12:54:53.303Z"
   },
   {
    "duration": 7,
    "start_time": "2023-03-31T12:54:55.323Z"
   },
   {
    "duration": 36,
    "start_time": "2023-03-31T12:54:57.767Z"
   },
   {
    "duration": 9,
    "start_time": "2023-03-31T12:54:58.461Z"
   },
   {
    "duration": 14,
    "start_time": "2023-03-31T12:55:43.279Z"
   },
   {
    "duration": 10,
    "start_time": "2023-03-31T12:55:43.935Z"
   },
   {
    "duration": 14,
    "start_time": "2023-03-31T12:56:44.871Z"
   },
   {
    "duration": 6,
    "start_time": "2023-03-31T12:56:45.688Z"
   },
   {
    "duration": 7,
    "start_time": "2023-03-31T12:56:52.818Z"
   },
   {
    "duration": 8,
    "start_time": "2023-03-31T12:56:53.379Z"
   },
   {
    "duration": 34,
    "start_time": "2023-03-31T12:56:54.735Z"
   },
   {
    "duration": 6,
    "start_time": "2023-03-31T12:56:55.399Z"
   },
   {
    "duration": 17,
    "start_time": "2023-03-31T12:57:02.531Z"
   },
   {
    "duration": 12,
    "start_time": "2023-03-31T12:57:03.242Z"
   },
   {
    "duration": 63,
    "start_time": "2023-03-31T12:59:58.406Z"
   },
   {
    "duration": 25,
    "start_time": "2023-03-31T13:00:06.865Z"
   },
   {
    "duration": 30,
    "start_time": "2023-03-31T13:00:13.210Z"
   },
   {
    "duration": 24,
    "start_time": "2023-03-31T13:00:23.566Z"
   },
   {
    "duration": 7,
    "start_time": "2023-03-31T13:00:49.690Z"
   },
   {
    "duration": 15,
    "start_time": "2023-03-31T13:01:05.083Z"
   },
   {
    "duration": 14,
    "start_time": "2023-03-31T13:01:19.018Z"
   },
   {
    "duration": 21,
    "start_time": "2023-03-31T13:02:40.925Z"
   },
   {
    "duration": 21,
    "start_time": "2023-03-31T13:03:06.722Z"
   },
   {
    "duration": 14,
    "start_time": "2023-03-31T13:03:18.906Z"
   },
   {
    "duration": 3,
    "start_time": "2023-03-31T13:03:42.082Z"
   },
   {
    "duration": 5,
    "start_time": "2023-03-31T13:03:46.913Z"
   },
   {
    "duration": 6,
    "start_time": "2023-03-31T13:04:10.641Z"
   },
   {
    "duration": 6,
    "start_time": "2023-03-31T13:04:43.186Z"
   },
   {
    "duration": 5,
    "start_time": "2023-03-31T13:05:10.923Z"
   },
   {
    "duration": 6,
    "start_time": "2023-03-31T13:05:38.093Z"
   },
   {
    "duration": 25,
    "start_time": "2023-03-31T13:07:19.165Z"
   },
   {
    "duration": 7,
    "start_time": "2023-03-31T13:07:41.173Z"
   },
   {
    "duration": 15,
    "start_time": "2023-03-31T13:07:50.165Z"
   },
   {
    "duration": 11,
    "start_time": "2023-03-31T13:07:58.036Z"
   },
   {
    "duration": 466,
    "start_time": "2023-03-31T13:13:35.028Z"
   },
   {
    "duration": 3,
    "start_time": "2023-03-31T13:13:35.496Z"
   },
   {
    "duration": 10,
    "start_time": "2023-03-31T13:13:35.500Z"
   },
   {
    "duration": 273,
    "start_time": "2023-03-31T13:13:35.512Z"
   },
   {
    "duration": 3,
    "start_time": "2023-03-31T13:13:35.788Z"
   },
   {
    "duration": 569,
    "start_time": "2023-03-31T13:13:35.792Z"
   },
   {
    "duration": 31,
    "start_time": "2023-03-31T13:13:36.363Z"
   },
   {
    "duration": 13,
    "start_time": "2023-03-31T13:13:36.395Z"
   },
   {
    "duration": 40,
    "start_time": "2023-03-31T13:13:36.410Z"
   },
   {
    "duration": 12,
    "start_time": "2023-03-31T13:13:36.453Z"
   },
   {
    "duration": 14,
    "start_time": "2023-03-31T13:13:36.467Z"
   },
   {
    "duration": 14,
    "start_time": "2023-03-31T13:13:36.484Z"
   },
   {
    "duration": 30,
    "start_time": "2023-03-31T13:13:36.499Z"
   },
   {
    "duration": 10,
    "start_time": "2023-03-31T13:13:36.532Z"
   },
   {
    "duration": 12,
    "start_time": "2023-03-31T13:13:36.544Z"
   },
   {
    "duration": 30,
    "start_time": "2023-03-31T13:13:36.558Z"
   },
   {
    "duration": 43,
    "start_time": "2023-03-31T13:13:36.591Z"
   },
   {
    "duration": 15,
    "start_time": "2023-03-31T13:13:36.636Z"
   },
   {
    "duration": 33,
    "start_time": "2023-03-31T13:13:36.653Z"
   },
   {
    "duration": 15,
    "start_time": "2023-03-31T13:13:36.689Z"
   },
   {
    "duration": 22,
    "start_time": "2023-03-31T13:13:36.706Z"
   },
   {
    "duration": 18,
    "start_time": "2023-03-31T13:13:36.730Z"
   },
   {
    "duration": 27,
    "start_time": "2023-03-31T13:13:36.751Z"
   },
   {
    "duration": 34,
    "start_time": "2023-03-31T13:13:36.780Z"
   },
   {
    "duration": 10,
    "start_time": "2023-03-31T13:13:36.816Z"
   },
   {
    "duration": 21,
    "start_time": "2023-03-31T13:13:36.828Z"
   },
   {
    "duration": 14,
    "start_time": "2023-03-31T13:13:36.851Z"
   },
   {
    "duration": 14,
    "start_time": "2023-03-31T13:13:36.867Z"
   },
   {
    "duration": 13,
    "start_time": "2023-03-31T13:13:36.884Z"
   },
   {
    "duration": 186,
    "start_time": "2023-03-31T13:13:36.899Z"
   },
   {
    "duration": 11,
    "start_time": "2023-03-31T13:13:37.087Z"
   },
   {
    "duration": 171,
    "start_time": "2023-03-31T13:13:37.100Z"
   },
   {
    "duration": 26,
    "start_time": "2023-03-31T13:13:37.272Z"
   },
   {
    "duration": 11,
    "start_time": "2023-03-31T13:13:37.299Z"
   },
   {
    "duration": 31,
    "start_time": "2023-03-31T13:13:37.312Z"
   },
   {
    "duration": 12,
    "start_time": "2023-03-31T13:13:37.345Z"
   },
   {
    "duration": 20,
    "start_time": "2023-03-31T13:13:37.359Z"
   },
   {
    "duration": 328,
    "start_time": "2023-03-31T13:13:37.381Z"
   },
   {
    "duration": 279,
    "start_time": "2023-03-31T13:13:37.712Z"
   },
   {
    "duration": 7,
    "start_time": "2023-03-31T13:13:37.993Z"
   },
   {
    "duration": 364,
    "start_time": "2023-03-31T13:13:38.006Z"
   },
   {
    "duration": 5,
    "start_time": "2023-03-31T13:13:38.372Z"
   },
   {
    "duration": 7,
    "start_time": "2023-03-31T13:13:38.379Z"
   },
   {
    "duration": 10,
    "start_time": "2023-03-31T13:13:38.388Z"
   },
   {
    "duration": 271,
    "start_time": "2023-03-31T13:13:38.400Z"
   },
   {
    "duration": 9,
    "start_time": "2023-03-31T13:13:38.673Z"
   },
   {
    "duration": 358,
    "start_time": "2023-03-31T13:13:38.683Z"
   },
   {
    "duration": 7,
    "start_time": "2023-03-31T13:13:39.043Z"
   },
   {
    "duration": 199,
    "start_time": "2023-03-31T13:13:39.052Z"
   },
   {
    "duration": 5,
    "start_time": "2023-03-31T13:13:39.253Z"
   },
   {
    "duration": 188,
    "start_time": "2023-03-31T13:13:39.260Z"
   },
   {
    "duration": 181,
    "start_time": "2023-03-31T13:13:39.451Z"
   },
   {
    "duration": 7,
    "start_time": "2023-03-31T13:13:39.640Z"
   },
   {
    "duration": 8,
    "start_time": "2023-03-31T13:13:39.649Z"
   },
   {
    "duration": 10,
    "start_time": "2023-03-31T13:13:39.659Z"
   },
   {
    "duration": 97,
    "start_time": "2023-03-31T13:13:39.671Z"
   },
   {
    "duration": 6,
    "start_time": "2023-03-31T13:13:39.770Z"
   },
   {
    "duration": 91,
    "start_time": "2023-03-31T13:13:39.777Z"
   },
   {
    "duration": 9,
    "start_time": "2023-03-31T13:13:39.870Z"
   },
   {
    "duration": 17,
    "start_time": "2023-03-31T13:13:39.881Z"
   },
   {
    "duration": 15,
    "start_time": "2023-03-31T13:13:39.900Z"
   },
   {
    "duration": 127,
    "start_time": "2023-03-31T13:13:39.917Z"
   },
   {
    "duration": 5,
    "start_time": "2023-03-31T13:13:40.046Z"
   },
   {
    "duration": 18,
    "start_time": "2023-03-31T13:13:40.053Z"
   },
   {
    "duration": 13,
    "start_time": "2023-03-31T13:13:40.072Z"
   },
   {
    "duration": 28,
    "start_time": "2023-03-31T13:13:40.087Z"
   },
   {
    "duration": 12,
    "start_time": "2023-03-31T13:13:40.117Z"
   },
   {
    "duration": 12,
    "start_time": "2023-03-31T13:13:40.131Z"
   },
   {
    "duration": 13,
    "start_time": "2023-03-31T13:13:40.146Z"
   },
   {
    "duration": 9,
    "start_time": "2023-03-31T13:13:40.160Z"
   },
   {
    "duration": 14,
    "start_time": "2023-03-31T13:13:40.170Z"
   },
   {
    "duration": 27,
    "start_time": "2023-03-31T13:13:40.186Z"
   },
   {
    "duration": 6,
    "start_time": "2023-03-31T13:13:40.214Z"
   },
   {
    "duration": 30,
    "start_time": "2023-03-31T13:13:40.221Z"
   },
   {
    "duration": 15,
    "start_time": "2023-03-31T13:13:40.253Z"
   },
   {
    "duration": 4,
    "start_time": "2023-03-31T13:15:02.107Z"
   },
   {
    "duration": 4,
    "start_time": "2023-03-31T13:15:02.833Z"
   },
   {
    "duration": 29,
    "start_time": "2023-03-31T13:15:08.184Z"
   },
   {
    "duration": 10,
    "start_time": "2023-03-31T13:15:08.808Z"
   },
   {
    "duration": 55,
    "start_time": "2023-03-31T13:15:46.707Z"
   },
   {
    "duration": 10,
    "start_time": "2023-03-31T13:15:47.120Z"
   },
   {
    "duration": 7,
    "start_time": "2023-03-31T13:15:50.488Z"
   },
   {
    "duration": 7,
    "start_time": "2023-03-31T13:15:51.255Z"
   },
   {
    "duration": 30,
    "start_time": "2023-03-31T13:15:51.848Z"
   },
   {
    "duration": 11,
    "start_time": "2023-03-31T13:15:52.701Z"
   },
   {
    "duration": 7,
    "start_time": "2023-03-31T13:15:56.128Z"
   },
   {
    "duration": 7,
    "start_time": "2023-03-31T13:15:56.787Z"
   },
   {
    "duration": 13,
    "start_time": "2023-03-31T13:15:59.243Z"
   },
   {
    "duration": 14,
    "start_time": "2023-03-31T13:16:02.975Z"
   },
   {
    "duration": 14,
    "start_time": "2023-03-31T13:16:30.331Z"
   },
   {
    "duration": 5,
    "start_time": "2023-03-31T13:16:31.655Z"
   },
   {
    "duration": 5,
    "start_time": "2023-03-31T13:16:32.260Z"
   },
   {
    "duration": 5,
    "start_time": "2023-03-31T13:16:34.552Z"
   },
   {
    "duration": 6,
    "start_time": "2023-03-31T13:16:35.431Z"
   },
   {
    "duration": 10,
    "start_time": "2023-03-31T13:16:37.667Z"
   },
   {
    "duration": 9,
    "start_time": "2023-03-31T13:16:43.959Z"
   },
   {
    "duration": 11,
    "start_time": "2023-03-31T13:17:05.988Z"
   },
   {
    "duration": 7,
    "start_time": "2023-03-31T13:17:11.011Z"
   },
   {
    "duration": 8,
    "start_time": "2023-03-31T13:17:18.628Z"
   },
   {
    "duration": 18,
    "start_time": "2023-03-31T13:17:20.847Z"
   },
   {
    "duration": 8,
    "start_time": "2023-03-31T13:18:17.495Z"
   },
   {
    "duration": 7,
    "start_time": "2023-03-31T13:18:23.767Z"
   },
   {
    "duration": 15,
    "start_time": "2023-03-31T13:18:24.343Z"
   },
   {
    "duration": 9,
    "start_time": "2023-03-31T13:18:47.220Z"
   },
   {
    "duration": 219,
    "start_time": "2023-03-31T13:18:47.739Z"
   },
   {
    "duration": 12,
    "start_time": "2023-03-31T13:18:48.344Z"
   },
   {
    "duration": 149,
    "start_time": "2023-03-31T13:18:50.643Z"
   },
   {
    "duration": 10,
    "start_time": "2023-03-31T13:18:51.187Z"
   },
   {
    "duration": 13,
    "start_time": "2023-03-31T13:18:56.579Z"
   },
   {
    "duration": 13,
    "start_time": "2023-03-31T13:18:57.263Z"
   },
   {
    "duration": 9,
    "start_time": "2023-03-31T13:19:12.824Z"
   },
   {
    "duration": 5,
    "start_time": "2023-03-31T13:19:14.255Z"
   },
   {
    "duration": 291,
    "start_time": "2023-03-31T13:19:15.239Z"
   },
   {
    "duration": 239,
    "start_time": "2023-03-31T13:19:57.867Z"
   },
   {
    "duration": 361,
    "start_time": "2023-03-31T13:20:17.836Z"
   },
   {
    "duration": 5,
    "start_time": "2023-03-31T13:20:28.927Z"
   },
   {
    "duration": 5,
    "start_time": "2023-03-31T13:20:29.479Z"
   },
   {
    "duration": 5,
    "start_time": "2023-03-31T13:20:29.931Z"
   },
   {
    "duration": 314,
    "start_time": "2023-03-31T13:20:30.772Z"
   },
   {
    "duration": 345,
    "start_time": "2023-03-31T13:23:04.280Z"
   },
   {
    "duration": 14,
    "start_time": "2023-03-31T13:23:12.754Z"
   },
   {
    "duration": 398,
    "start_time": "2023-03-31T13:23:13.539Z"
   },
   {
    "duration": 10,
    "start_time": "2023-03-31T13:23:41.758Z"
   },
   {
    "duration": 190,
    "start_time": "2023-03-31T13:23:42.651Z"
   },
   {
    "duration": 7,
    "start_time": "2023-03-31T13:24:15.500Z"
   },
   {
    "duration": 183,
    "start_time": "2023-03-31T13:24:27.079Z"
   },
   {
    "duration": 262,
    "start_time": "2023-03-31T13:25:04.118Z"
   },
   {
    "duration": 193,
    "start_time": "2023-03-31T13:25:52.611Z"
   },
   {
    "duration": 4,
    "start_time": "2023-03-31T13:26:07.774Z"
   },
   {
    "duration": 244,
    "start_time": "2023-03-31T13:26:28.974Z"
   },
   {
    "duration": 3,
    "start_time": "2023-03-31T13:26:50.073Z"
   },
   {
    "duration": 261,
    "start_time": "2023-03-31T13:27:28.018Z"
   },
   {
    "duration": 301,
    "start_time": "2023-03-31T13:27:45.775Z"
   },
   {
    "duration": 218,
    "start_time": "2023-03-31T13:28:34.969Z"
   },
   {
    "duration": 200,
    "start_time": "2023-03-31T13:28:44.454Z"
   },
   {
    "duration": 177,
    "start_time": "2023-03-31T13:28:49.118Z"
   },
   {
    "duration": 180,
    "start_time": "2023-03-31T13:28:58.390Z"
   },
   {
    "duration": 164,
    "start_time": "2023-03-31T13:29:41.425Z"
   },
   {
    "duration": 6,
    "start_time": "2023-03-31T13:29:45.774Z"
   },
   {
    "duration": 6,
    "start_time": "2023-03-31T13:37:35.758Z"
   },
   {
    "duration": 7,
    "start_time": "2023-03-31T13:37:36.632Z"
   },
   {
    "duration": 75,
    "start_time": "2023-03-31T13:37:46.104Z"
   },
   {
    "duration": 8,
    "start_time": "2023-03-31T13:37:46.672Z"
   },
   {
    "duration": 90,
    "start_time": "2023-03-31T13:37:50.980Z"
   },
   {
    "duration": 5,
    "start_time": "2023-03-31T13:38:59.716Z"
   },
   {
    "duration": 8,
    "start_time": "2023-03-31T13:39:00.539Z"
   },
   {
    "duration": 26,
    "start_time": "2023-03-31T13:39:03.492Z"
   },
   {
    "duration": 5,
    "start_time": "2023-03-31T13:39:04.496Z"
   },
   {
    "duration": 10,
    "start_time": "2023-03-31T13:42:09.440Z"
   },
   {
    "duration": 8,
    "start_time": "2023-03-31T13:42:10.664Z"
   },
   {
    "duration": 10,
    "start_time": "2023-03-31T13:42:21.143Z"
   },
   {
    "duration": 3,
    "start_time": "2023-03-31T13:42:21.748Z"
   },
   {
    "duration": 5,
    "start_time": "2023-03-31T13:42:22.304Z"
   },
   {
    "duration": 7,
    "start_time": "2023-03-31T13:42:28.712Z"
   },
   {
    "duration": 10,
    "start_time": "2023-03-31T13:42:37.680Z"
   },
   {
    "duration": 9,
    "start_time": "2023-03-31T13:42:38.240Z"
   },
   {
    "duration": 34,
    "start_time": "2023-03-31T13:42:38.876Z"
   },
   {
    "duration": 6,
    "start_time": "2023-03-31T13:42:41.144Z"
   },
   {
    "duration": 17,
    "start_time": "2023-03-31T13:43:25.843Z"
   },
   {
    "duration": 14,
    "start_time": "2023-03-31T13:43:26.599Z"
   },
   {
    "duration": 3,
    "start_time": "2023-03-31T14:23:22.518Z"
   },
   {
    "duration": 3,
    "start_time": "2023-03-31T14:23:23.526Z"
   },
   {
    "duration": 30,
    "start_time": "2023-03-31T14:24:08.650Z"
   },
   {
    "duration": 13,
    "start_time": "2023-03-31T14:24:09.126Z"
   },
   {
    "duration": 55,
    "start_time": "2023-03-31T14:24:14.254Z"
   },
   {
    "duration": 14,
    "start_time": "2023-03-31T14:24:15.015Z"
   },
   {
    "duration": 8,
    "start_time": "2023-03-31T14:24:20.690Z"
   },
   {
    "duration": 11,
    "start_time": "2023-03-31T14:24:21.377Z"
   },
   {
    "duration": 29,
    "start_time": "2023-03-31T14:24:22.077Z"
   },
   {
    "duration": 9,
    "start_time": "2023-03-31T14:24:22.633Z"
   },
   {
    "duration": 8,
    "start_time": "2023-03-31T14:24:27.485Z"
   },
   {
    "duration": 7,
    "start_time": "2023-03-31T14:24:28.089Z"
   },
   {
    "duration": 8,
    "start_time": "2023-03-31T14:24:58.930Z"
   },
   {
    "duration": 28,
    "start_time": "2023-03-31T14:25:19.297Z"
   },
   {
    "duration": 8,
    "start_time": "2023-03-31T14:25:20.713Z"
   },
   {
    "duration": 8,
    "start_time": "2023-03-31T14:25:23.935Z"
   },
   {
    "duration": 7,
    "start_time": "2023-03-31T14:25:43.403Z"
   },
   {
    "duration": 14,
    "start_time": "2023-03-31T14:26:07.373Z"
   },
   {
    "duration": 14,
    "start_time": "2023-03-31T14:26:10.893Z"
   },
   {
    "duration": 12,
    "start_time": "2023-03-31T14:26:15.691Z"
   },
   {
    "duration": 5,
    "start_time": "2023-03-31T14:26:16.337Z"
   },
   {
    "duration": 5,
    "start_time": "2023-03-31T14:26:16.857Z"
   },
   {
    "duration": 6,
    "start_time": "2023-03-31T14:26:18.529Z"
   },
   {
    "duration": 7,
    "start_time": "2023-03-31T14:26:20.185Z"
   },
   {
    "duration": 10,
    "start_time": "2023-03-31T14:27:07.106Z"
   },
   {
    "duration": 8,
    "start_time": "2023-03-31T14:27:08.729Z"
   },
   {
    "duration": 8,
    "start_time": "2023-03-31T14:27:09.848Z"
   },
   {
    "duration": 7,
    "start_time": "2023-03-31T14:27:31.149Z"
   },
   {
    "duration": 7,
    "start_time": "2023-03-31T14:27:31.770Z"
   },
   {
    "duration": 7,
    "start_time": "2023-03-31T14:27:49.117Z"
   },
   {
    "duration": 14,
    "start_time": "2023-03-31T14:27:50.612Z"
   },
   {
    "duration": 53,
    "start_time": "2023-03-31T14:28:05.277Z"
   },
   {
    "duration": 15,
    "start_time": "2023-03-31T14:28:12.605Z"
   },
   {
    "duration": 6,
    "start_time": "2023-03-31T14:28:33.693Z"
   },
   {
    "duration": 184,
    "start_time": "2023-03-31T14:28:34.297Z"
   },
   {
    "duration": 13,
    "start_time": "2023-03-31T14:28:36.220Z"
   },
   {
    "duration": 170,
    "start_time": "2023-03-31T14:28:45.737Z"
   },
   {
    "duration": 10,
    "start_time": "2023-03-31T14:28:46.256Z"
   },
   {
    "duration": 9,
    "start_time": "2023-03-31T14:28:46.992Z"
   },
   {
    "duration": 11,
    "start_time": "2023-03-31T14:28:47.684Z"
   },
   {
    "duration": 7,
    "start_time": "2023-03-31T14:28:51.496Z"
   },
   {
    "duration": 6,
    "start_time": "2023-03-31T14:28:51.916Z"
   },
   {
    "duration": 245,
    "start_time": "2023-03-31T14:28:52.984Z"
   },
   {
    "duration": 269,
    "start_time": "2023-03-31T14:30:07.437Z"
   },
   {
    "duration": 8,
    "start_time": "2023-03-31T14:30:14.268Z"
   },
   {
    "duration": 341,
    "start_time": "2023-03-31T14:30:15.048Z"
   },
   {
    "duration": 5,
    "start_time": "2023-03-31T14:30:35.029Z"
   },
   {
    "duration": 5,
    "start_time": "2023-03-31T14:30:38.242Z"
   },
   {
    "duration": 6,
    "start_time": "2023-03-31T14:30:39.440Z"
   },
   {
    "duration": 260,
    "start_time": "2023-03-31T14:30:40.210Z"
   },
   {
    "duration": 13,
    "start_time": "2023-03-31T14:30:59.696Z"
   },
   {
    "duration": 351,
    "start_time": "2023-03-31T14:31:00.196Z"
   },
   {
    "duration": 9,
    "start_time": "2023-03-31T14:31:08.908Z"
   },
   {
    "duration": 189,
    "start_time": "2023-03-31T14:31:11.196Z"
   },
   {
    "duration": 5,
    "start_time": "2023-03-31T14:31:32.556Z"
   },
   {
    "duration": 189,
    "start_time": "2023-03-31T14:32:15.560Z"
   },
   {
    "duration": 293,
    "start_time": "2023-03-31T14:32:17.912Z"
   },
   {
    "duration": 6,
    "start_time": "2023-03-31T14:32:51.860Z"
   },
   {
    "duration": 6,
    "start_time": "2023-03-31T14:33:02.748Z"
   },
   {
    "duration": 6,
    "start_time": "2023-03-31T14:33:03.236Z"
   },
   {
    "duration": 77,
    "start_time": "2023-03-31T14:33:08.076Z"
   },
   {
    "duration": 74,
    "start_time": "2023-03-31T14:33:08.625Z"
   },
   {
    "duration": 6,
    "start_time": "2023-03-31T14:33:09.276Z"
   },
   {
    "duration": 7,
    "start_time": "2023-03-31T14:33:10.145Z"
   },
   {
    "duration": 22,
    "start_time": "2023-03-31T14:33:10.764Z"
   },
   {
    "duration": 5,
    "start_time": "2023-03-31T14:33:11.452Z"
   },
   {
    "duration": 10,
    "start_time": "2023-03-31T14:33:20.775Z"
   },
   {
    "duration": 8,
    "start_time": "2023-03-31T14:33:21.488Z"
   },
   {
    "duration": 10,
    "start_time": "2023-03-31T14:33:28.816Z"
   },
   {
    "duration": 3,
    "start_time": "2023-03-31T14:33:29.236Z"
   },
   {
    "duration": 4,
    "start_time": "2023-03-31T14:33:29.804Z"
   },
   {
    "duration": 7,
    "start_time": "2023-03-31T14:33:36.843Z"
   },
   {
    "duration": 7,
    "start_time": "2023-03-31T14:34:08.568Z"
   },
   {
    "duration": 7,
    "start_time": "2023-03-31T14:34:09.064Z"
   },
   {
    "duration": 25,
    "start_time": "2023-03-31T14:34:10.836Z"
   },
   {
    "duration": 6,
    "start_time": "2023-03-31T14:34:11.948Z"
   },
   {
    "duration": 16,
    "start_time": "2023-03-31T14:34:15.048Z"
   },
   {
    "duration": 16,
    "start_time": "2023-03-31T14:34:15.648Z"
   },
   {
    "duration": 1426,
    "start_time": "2023-03-31T16:35:59.690Z"
   },
   {
    "duration": 3,
    "start_time": "2023-03-31T16:36:01.118Z"
   },
   {
    "duration": 57,
    "start_time": "2023-03-31T16:36:05.466Z"
   },
   {
    "duration": 15,
    "start_time": "2023-03-31T16:36:06.170Z"
   },
   {
    "duration": 97,
    "start_time": "2023-03-31T16:37:56.862Z"
   },
   {
    "duration": 9,
    "start_time": "2023-03-31T16:37:57.314Z"
   },
   {
    "duration": 6,
    "start_time": "2023-03-31T16:37:59.838Z"
   },
   {
    "duration": 7,
    "start_time": "2023-03-31T16:38:00.797Z"
   },
   {
    "duration": 66,
    "start_time": "2023-03-31T16:38:01.774Z"
   },
   {
    "duration": 10,
    "start_time": "2023-03-31T16:38:02.210Z"
   },
   {
    "duration": 6,
    "start_time": "2023-03-31T16:38:04.470Z"
   },
   {
    "duration": 5,
    "start_time": "2023-03-31T16:38:05.466Z"
   },
   {
    "duration": 14,
    "start_time": "2023-03-31T16:38:08.705Z"
   },
   {
    "duration": 3,
    "start_time": "2023-03-31T16:38:39.106Z"
   },
   {
    "duration": 2,
    "start_time": "2023-03-31T16:38:39.610Z"
   },
   {
    "duration": 22,
    "start_time": "2023-03-31T16:38:42.973Z"
   },
   {
    "duration": 9,
    "start_time": "2023-03-31T16:38:43.506Z"
   },
   {
    "duration": 39,
    "start_time": "2023-03-31T16:38:47.374Z"
   },
   {
    "duration": 8,
    "start_time": "2023-03-31T16:38:47.902Z"
   },
   {
    "duration": 6,
    "start_time": "2023-03-31T16:38:50.047Z"
   },
   {
    "duration": 6,
    "start_time": "2023-03-31T16:38:50.770Z"
   },
   {
    "duration": 22,
    "start_time": "2023-03-31T16:38:51.589Z"
   },
   {
    "duration": 10,
    "start_time": "2023-03-31T16:38:52.041Z"
   },
   {
    "duration": 6,
    "start_time": "2023-03-31T16:38:54.838Z"
   },
   {
    "duration": 6,
    "start_time": "2023-03-31T16:38:55.910Z"
   },
   {
    "duration": 12,
    "start_time": "2023-03-31T16:39:04.454Z"
   },
   {
    "duration": 12,
    "start_time": "2023-03-31T16:39:06.182Z"
   },
   {
    "duration": 12,
    "start_time": "2023-03-31T16:39:10.334Z"
   },
   {
    "duration": 4,
    "start_time": "2023-03-31T16:39:10.834Z"
   },
   {
    "duration": 5,
    "start_time": "2023-03-31T16:39:11.369Z"
   },
   {
    "duration": 6,
    "start_time": "2023-03-31T16:39:11.989Z"
   },
   {
    "duration": 4,
    "start_time": "2023-03-31T16:39:12.598Z"
   },
   {
    "duration": 9,
    "start_time": "2023-03-31T16:39:17.165Z"
   },
   {
    "duration": 7,
    "start_time": "2023-03-31T16:39:23.598Z"
   },
   {
    "duration": 6,
    "start_time": "2023-03-31T16:39:28.374Z"
   },
   {
    "duration": 9,
    "start_time": "2023-03-31T16:39:33.985Z"
   },
   {
    "duration": 6,
    "start_time": "2023-03-31T16:39:34.702Z"
   },
   {
    "duration": 6,
    "start_time": "2023-03-31T16:39:39.337Z"
   },
   {
    "duration": 14,
    "start_time": "2023-03-31T16:40:02.101Z"
   },
   {
    "duration": 6,
    "start_time": "2023-03-31T16:40:09.701Z"
   },
   {
    "duration": 179,
    "start_time": "2023-03-31T16:40:09.990Z"
   },
   {
    "duration": 9,
    "start_time": "2023-03-31T16:40:10.370Z"
   },
   {
    "duration": 130,
    "start_time": "2023-03-31T16:40:10.906Z"
   },
   {
    "duration": 8,
    "start_time": "2023-03-31T16:40:11.438Z"
   },
   {
    "duration": 11,
    "start_time": "2023-03-31T16:40:11.797Z"
   },
   {
    "duration": 9,
    "start_time": "2023-03-31T16:40:12.466Z"
   },
   {
    "duration": 5,
    "start_time": "2023-03-31T16:40:13.290Z"
   },
   {
    "duration": 5,
    "start_time": "2023-03-31T16:40:16.081Z"
   },
   {
    "duration": 325,
    "start_time": "2023-03-31T16:40:16.733Z"
   },
   {
    "duration": 233,
    "start_time": "2023-03-31T16:41:05.089Z"
   },
   {
    "duration": 232,
    "start_time": "2023-03-31T16:41:09.686Z"
   },
   {
    "duration": 6,
    "start_time": "2023-03-31T16:41:20.177Z"
   },
   {
    "duration": 394,
    "start_time": "2023-03-31T16:41:20.774Z"
   },
   {
    "duration": 4,
    "start_time": "2023-03-31T16:41:26.157Z"
   },
   {
    "duration": 4,
    "start_time": "2023-03-31T16:41:26.541Z"
   },
   {
    "duration": 4,
    "start_time": "2023-03-31T16:41:26.965Z"
   },
   {
    "duration": 236,
    "start_time": "2023-03-31T16:41:27.457Z"
   },
   {
    "duration": 8,
    "start_time": "2023-03-31T16:41:35.949Z"
   },
   {
    "duration": 317,
    "start_time": "2023-03-31T16:41:36.542Z"
   },
   {
    "duration": 7,
    "start_time": "2023-03-31T16:42:19.393Z"
   },
   {
    "duration": 168,
    "start_time": "2023-03-31T16:42:20.157Z"
   },
   {
    "duration": 5,
    "start_time": "2023-03-31T16:42:27.537Z"
   },
   {
    "duration": 168,
    "start_time": "2023-03-31T16:42:43.889Z"
   },
   {
    "duration": 223,
    "start_time": "2023-03-31T16:42:48.126Z"
   },
   {
    "duration": 5,
    "start_time": "2023-03-31T16:42:59.181Z"
   },
   {
    "duration": 5,
    "start_time": "2023-03-31T16:43:11.229Z"
   },
   {
    "duration": 5,
    "start_time": "2023-03-31T16:43:11.709Z"
   },
   {
    "duration": 68,
    "start_time": "2023-03-31T16:43:15.173Z"
   },
   {
    "duration": 86,
    "start_time": "2023-03-31T16:43:15.645Z"
   },
   {
    "duration": 7,
    "start_time": "2023-03-31T16:43:16.141Z"
   },
   {
    "duration": 6,
    "start_time": "2023-03-31T16:43:18.570Z"
   },
   {
    "duration": 24,
    "start_time": "2023-03-31T16:43:19.069Z"
   },
   {
    "duration": 5,
    "start_time": "2023-03-31T16:43:21.693Z"
   },
   {
    "duration": 9,
    "start_time": "2023-03-31T16:43:26.154Z"
   },
   {
    "duration": 7,
    "start_time": "2023-03-31T16:43:26.797Z"
   },
   {
    "duration": 10,
    "start_time": "2023-03-31T16:43:30.885Z"
   },
   {
    "duration": 4,
    "start_time": "2023-03-31T16:43:31.349Z"
   },
   {
    "duration": 4,
    "start_time": "2023-03-31T16:43:31.810Z"
   },
   {
    "duration": 5,
    "start_time": "2023-03-31T16:43:32.901Z"
   },
   {
    "duration": 5,
    "start_time": "2023-03-31T16:43:47.989Z"
   },
   {
    "duration": 7,
    "start_time": "2023-03-31T16:43:56.581Z"
   },
   {
    "duration": 6,
    "start_time": "2023-03-31T16:43:57.129Z"
   },
   {
    "duration": 21,
    "start_time": "2023-03-31T16:43:59.109Z"
   },
   {
    "duration": 5,
    "start_time": "2023-03-31T16:43:59.945Z"
   },
   {
    "duration": 12,
    "start_time": "2023-03-31T16:44:02.677Z"
   },
   {
    "duration": 9,
    "start_time": "2023-03-31T16:44:03.190Z"
   },
   {
    "duration": 4,
    "start_time": "2023-03-31T16:44:21.845Z"
   },
   {
    "duration": 2,
    "start_time": "2023-03-31T16:44:22.157Z"
   },
   {
    "duration": 22,
    "start_time": "2023-03-31T16:44:25.333Z"
   },
   {
    "duration": 9,
    "start_time": "2023-03-31T16:44:25.501Z"
   },
   {
    "duration": 39,
    "start_time": "2023-03-31T16:44:27.825Z"
   },
   {
    "duration": 9,
    "start_time": "2023-03-31T16:44:28.101Z"
   },
   {
    "duration": 7,
    "start_time": "2023-03-31T16:44:28.489Z"
   },
   {
    "duration": 8,
    "start_time": "2023-03-31T16:44:30.973Z"
   },
   {
    "duration": 22,
    "start_time": "2023-03-31T16:44:31.973Z"
   },
   {
    "duration": 10,
    "start_time": "2023-03-31T16:44:32.445Z"
   },
   {
    "duration": 7,
    "start_time": "2023-03-31T16:44:34.865Z"
   },
   {
    "duration": 5,
    "start_time": "2023-03-31T16:44:35.365Z"
   },
   {
    "duration": 11,
    "start_time": "2023-03-31T16:44:37.937Z"
   },
   {
    "duration": 12,
    "start_time": "2023-03-31T16:44:38.889Z"
   },
   {
    "duration": 12,
    "start_time": "2023-03-31T16:44:44.741Z"
   },
   {
    "duration": 4,
    "start_time": "2023-03-31T16:44:45.341Z"
   },
   {
    "duration": 4,
    "start_time": "2023-03-31T16:44:48.197Z"
   },
   {
    "duration": 5,
    "start_time": "2023-03-31T16:44:48.881Z"
   },
   {
    "duration": 9,
    "start_time": "2023-03-31T16:45:10.181Z"
   },
   {
    "duration": 9,
    "start_time": "2023-03-31T16:45:29.425Z"
   },
   {
    "duration": 7,
    "start_time": "2023-03-31T16:45:32.409Z"
   },
   {
    "duration": 8,
    "start_time": "2023-03-31T16:45:33.017Z"
   },
   {
    "duration": 6,
    "start_time": "2023-03-31T16:45:35.844Z"
   },
   {
    "duration": 9,
    "start_time": "2023-03-31T16:45:36.829Z"
   },
   {
    "duration": 5,
    "start_time": "2023-03-31T16:45:40.341Z"
   },
   {
    "duration": 9,
    "start_time": "2023-03-31T16:46:03.749Z"
   },
   {
    "duration": 7,
    "start_time": "2023-03-31T16:47:42.500Z"
   },
   {
    "duration": 172,
    "start_time": "2023-03-31T16:47:43.325Z"
   },
   {
    "duration": 4,
    "start_time": "2023-03-31T16:47:52.181Z"
   },
   {
    "duration": 161,
    "start_time": "2023-03-31T16:47:54.521Z"
   },
   {
    "duration": 165,
    "start_time": "2023-03-31T16:47:56.828Z"
   },
   {
    "duration": 6,
    "start_time": "2023-03-31T16:47:59.744Z"
   },
   {
    "duration": 1168,
    "start_time": "2023-03-31T16:49:08.657Z"
   },
   {
    "duration": 3,
    "start_time": "2023-03-31T16:49:09.827Z"
   },
   {
    "duration": 25,
    "start_time": "2023-03-31T16:49:09.832Z"
   },
   {
    "duration": 15,
    "start_time": "2023-03-31T16:49:09.859Z"
   },
   {
    "duration": 30,
    "start_time": "2023-03-31T16:49:09.875Z"
   },
   {
    "duration": 11,
    "start_time": "2023-03-31T16:49:09.907Z"
   },
   {
    "duration": 9,
    "start_time": "2023-03-31T16:49:09.920Z"
   },
   {
    "duration": 7,
    "start_time": "2023-03-31T16:49:09.930Z"
   },
   {
    "duration": 13,
    "start_time": "2023-03-31T16:49:09.939Z"
   },
   {
    "duration": 8,
    "start_time": "2023-03-31T16:49:09.954Z"
   },
   {
    "duration": 6,
    "start_time": "2023-03-31T16:49:09.964Z"
   },
   {
    "duration": 33,
    "start_time": "2023-03-31T16:49:09.972Z"
   },
   {
    "duration": 17,
    "start_time": "2023-03-31T16:49:10.008Z"
   },
   {
    "duration": 13,
    "start_time": "2023-03-31T16:49:10.027Z"
   },
   {
    "duration": 19,
    "start_time": "2023-03-31T16:49:10.042Z"
   },
   {
    "duration": 8,
    "start_time": "2023-03-31T16:49:10.062Z"
   },
   {
    "duration": 34,
    "start_time": "2023-03-31T16:49:10.072Z"
   },
   {
    "duration": 6,
    "start_time": "2023-03-31T16:49:10.108Z"
   },
   {
    "duration": 5,
    "start_time": "2023-03-31T16:49:10.117Z"
   },
   {
    "duration": 9,
    "start_time": "2023-03-31T16:49:10.124Z"
   },
   {
    "duration": 7,
    "start_time": "2023-03-31T16:49:10.134Z"
   },
   {
    "duration": 7,
    "start_time": "2023-03-31T16:49:10.142Z"
   },
   {
    "duration": 7,
    "start_time": "2023-03-31T16:49:10.151Z"
   },
   {
    "duration": 51,
    "start_time": "2023-03-31T16:49:10.160Z"
   },
   {
    "duration": 6,
    "start_time": "2023-03-31T16:49:10.212Z"
   },
   {
    "duration": 21,
    "start_time": "2023-03-31T16:49:10.220Z"
   },
   {
    "duration": 7,
    "start_time": "2023-03-31T16:49:10.242Z"
   },
   {
    "duration": 203,
    "start_time": "2023-03-31T16:49:10.253Z"
   },
   {
    "duration": 11,
    "start_time": "2023-03-31T16:49:10.458Z"
   },
   {
    "duration": 154,
    "start_time": "2023-03-31T16:49:10.470Z"
   },
   {
    "duration": 10,
    "start_time": "2023-03-31T16:49:10.626Z"
   },
   {
    "duration": 11,
    "start_time": "2023-03-31T16:49:10.638Z"
   },
   {
    "duration": 10,
    "start_time": "2023-03-31T16:49:10.651Z"
   },
   {
    "duration": 6,
    "start_time": "2023-03-31T16:49:10.663Z"
   },
   {
    "duration": 33,
    "start_time": "2023-03-31T16:49:10.670Z"
   },
   {
    "duration": 323,
    "start_time": "2023-03-31T16:49:10.706Z"
   },
   {
    "duration": 266,
    "start_time": "2023-03-31T16:49:11.031Z"
   },
   {
    "duration": 7,
    "start_time": "2023-03-31T16:49:11.299Z"
   },
   {
    "duration": 329,
    "start_time": "2023-03-31T16:49:11.311Z"
   },
   {
    "duration": 5,
    "start_time": "2023-03-31T16:49:11.641Z"
   },
   {
    "duration": 7,
    "start_time": "2023-03-31T16:49:11.648Z"
   },
   {
    "duration": 5,
    "start_time": "2023-03-31T16:49:11.656Z"
   },
   {
    "duration": 289,
    "start_time": "2023-03-31T16:49:11.663Z"
   },
   {
    "duration": 10,
    "start_time": "2023-03-31T16:49:11.954Z"
   },
   {
    "duration": 406,
    "start_time": "2023-03-31T16:49:11.966Z"
   },
   {
    "duration": 6,
    "start_time": "2023-03-31T16:49:12.374Z"
   },
   {
    "duration": 186,
    "start_time": "2023-03-31T16:49:12.382Z"
   },
   {
    "duration": 4,
    "start_time": "2023-03-31T16:49:12.570Z"
   },
   {
    "duration": 176,
    "start_time": "2023-03-31T16:49:12.576Z"
   },
   {
    "duration": 173,
    "start_time": "2023-03-31T16:49:12.754Z"
   },
   {
    "duration": 4,
    "start_time": "2023-03-31T16:49:12.929Z"
   },
   {
    "duration": 6,
    "start_time": "2023-03-31T16:49:12.935Z"
   },
   {
    "duration": 7,
    "start_time": "2023-03-31T16:49:12.942Z"
   },
   {
    "duration": 96,
    "start_time": "2023-03-31T16:49:12.951Z"
   },
   {
    "duration": 92,
    "start_time": "2023-03-31T16:49:13.049Z"
   },
   {
    "duration": 5,
    "start_time": "2023-03-31T16:49:13.143Z"
   },
   {
    "duration": 9,
    "start_time": "2023-03-31T16:49:13.150Z"
   },
   {
    "duration": 23,
    "start_time": "2023-03-31T16:49:13.161Z"
   },
   {
    "duration": 98,
    "start_time": "2023-03-31T16:49:13.186Z"
   },
   {
    "duration": 20,
    "start_time": "2023-03-31T16:49:13.286Z"
   },
   {
    "duration": 17,
    "start_time": "2023-03-31T16:49:13.307Z"
   },
   {
    "duration": 16,
    "start_time": "2023-03-31T16:49:13.326Z"
   },
   {
    "duration": 11,
    "start_time": "2023-03-31T16:49:13.343Z"
   },
   {
    "duration": 8,
    "start_time": "2023-03-31T16:49:13.356Z"
   },
   {
    "duration": 23,
    "start_time": "2023-03-31T16:49:13.365Z"
   },
   {
    "duration": 7,
    "start_time": "2023-03-31T16:49:13.390Z"
   },
   {
    "duration": 26,
    "start_time": "2023-03-31T16:49:13.399Z"
   },
   {
    "duration": 51,
    "start_time": "2023-03-31T16:49:13.426Z"
   },
   {
    "duration": 28,
    "start_time": "2023-03-31T16:49:13.479Z"
   },
   {
    "duration": 27,
    "start_time": "2023-03-31T16:49:13.511Z"
   },
   {
    "duration": 12,
    "start_time": "2023-03-31T16:49:13.539Z"
   },
   {
    "duration": 1087,
    "start_time": "2023-04-01T15:51:27.602Z"
   },
   {
    "duration": 6,
    "start_time": "2023-04-01T15:51:28.691Z"
   },
   {
    "duration": 39,
    "start_time": "2023-04-01T15:51:28.699Z"
   },
   {
    "duration": 15,
    "start_time": "2023-04-01T15:51:28.749Z"
   },
   {
    "duration": 48,
    "start_time": "2023-04-01T15:51:28.766Z"
   },
   {
    "duration": 8,
    "start_time": "2023-04-01T15:51:28.815Z"
   },
   {
    "duration": 8,
    "start_time": "2023-04-01T15:51:28.825Z"
   },
   {
    "duration": 40,
    "start_time": "2023-04-01T15:51:28.836Z"
   },
   {
    "duration": 30,
    "start_time": "2023-04-01T15:51:28.877Z"
   },
   {
    "duration": 7,
    "start_time": "2023-04-01T15:51:28.910Z"
   },
   {
    "duration": 12,
    "start_time": "2023-04-01T15:51:28.919Z"
   },
   {
    "duration": 18,
    "start_time": "2023-04-01T15:51:28.933Z"
   },
   {
    "duration": 32,
    "start_time": "2023-04-01T15:51:28.952Z"
   },
   {
    "duration": 10,
    "start_time": "2023-04-01T15:51:28.986Z"
   },
   {
    "duration": 12,
    "start_time": "2023-04-01T15:51:28.998Z"
   },
   {
    "duration": 8,
    "start_time": "2023-04-01T15:51:29.012Z"
   },
   {
    "duration": 7,
    "start_time": "2023-04-01T15:51:29.022Z"
   },
   {
    "duration": 46,
    "start_time": "2023-04-01T15:51:29.030Z"
   },
   {
    "duration": 8,
    "start_time": "2023-04-01T15:51:29.077Z"
   },
   {
    "duration": 11,
    "start_time": "2023-04-01T15:51:29.087Z"
   },
   {
    "duration": 6,
    "start_time": "2023-04-01T15:51:29.100Z"
   },
   {
    "duration": 10,
    "start_time": "2023-04-01T15:51:29.107Z"
   },
   {
    "duration": 7,
    "start_time": "2023-04-01T15:51:29.118Z"
   },
   {
    "duration": 12,
    "start_time": "2023-04-01T15:51:29.127Z"
   },
   {
    "duration": 36,
    "start_time": "2023-04-01T15:51:29.140Z"
   },
   {
    "duration": 18,
    "start_time": "2023-04-01T15:51:29.178Z"
   },
   {
    "duration": 11,
    "start_time": "2023-04-01T15:51:29.198Z"
   },
   {
    "duration": 193,
    "start_time": "2023-04-01T15:51:29.214Z"
   },
   {
    "duration": 9,
    "start_time": "2023-04-01T15:51:29.408Z"
   },
   {
    "duration": 161,
    "start_time": "2023-04-01T15:51:29.418Z"
   },
   {
    "duration": 13,
    "start_time": "2023-04-01T15:51:29.581Z"
   },
   {
    "duration": 10,
    "start_time": "2023-04-01T15:51:29.595Z"
   },
   {
    "duration": 10,
    "start_time": "2023-04-01T15:51:29.606Z"
   },
   {
    "duration": 25,
    "start_time": "2023-04-01T15:51:29.617Z"
   },
   {
    "duration": 31,
    "start_time": "2023-04-01T15:51:29.644Z"
   },
   {
    "duration": 347,
    "start_time": "2023-04-01T15:51:29.677Z"
   },
   {
    "duration": 245,
    "start_time": "2023-04-01T15:51:30.026Z"
   },
   {
    "duration": 7,
    "start_time": "2023-04-01T15:51:30.273Z"
   },
   {
    "duration": 327,
    "start_time": "2023-04-01T15:51:30.282Z"
   },
   {
    "duration": 4,
    "start_time": "2023-04-01T15:51:30.610Z"
   },
   {
    "duration": 58,
    "start_time": "2023-04-01T15:51:30.616Z"
   },
   {
    "duration": 29,
    "start_time": "2023-04-01T15:51:30.676Z"
   },
   {
    "duration": 267,
    "start_time": "2023-04-01T15:51:30.707Z"
   },
   {
    "duration": 10,
    "start_time": "2023-04-01T15:51:30.975Z"
   },
   {
    "duration": 434,
    "start_time": "2023-04-01T15:51:30.987Z"
   },
   {
    "duration": 24,
    "start_time": "2023-04-01T15:51:31.423Z"
   },
   {
    "duration": 192,
    "start_time": "2023-04-01T15:51:31.448Z"
   },
   {
    "duration": 6,
    "start_time": "2023-04-01T15:51:31.642Z"
   },
   {
    "duration": 215,
    "start_time": "2023-04-01T15:51:31.649Z"
   },
   {
    "duration": 170,
    "start_time": "2023-04-01T15:51:31.868Z"
   },
   {
    "duration": 11,
    "start_time": "2023-04-01T15:51:32.046Z"
   },
   {
    "duration": 21,
    "start_time": "2023-04-01T15:51:32.058Z"
   },
   {
    "duration": 10,
    "start_time": "2023-04-01T15:51:32.080Z"
   },
   {
    "duration": 75,
    "start_time": "2023-04-01T15:51:32.091Z"
   },
   {
    "duration": 69,
    "start_time": "2023-04-01T15:51:32.167Z"
   },
   {
    "duration": 8,
    "start_time": "2023-04-01T15:51:32.237Z"
   },
   {
    "duration": 50,
    "start_time": "2023-04-01T15:51:32.248Z"
   },
   {
    "duration": 32,
    "start_time": "2023-04-01T15:51:32.299Z"
   },
   {
    "duration": 72,
    "start_time": "2023-04-01T15:51:32.333Z"
   },
   {
    "duration": 19,
    "start_time": "2023-04-01T15:51:32.407Z"
   },
   {
    "duration": 61,
    "start_time": "2023-04-01T15:51:32.427Z"
   },
   {
    "duration": 27,
    "start_time": "2023-04-01T15:51:32.490Z"
   },
   {
    "duration": 4,
    "start_time": "2023-04-01T15:51:32.520Z"
   },
   {
    "duration": 9,
    "start_time": "2023-04-01T15:51:32.526Z"
   },
   {
    "duration": 37,
    "start_time": "2023-04-01T15:51:32.542Z"
   },
   {
    "duration": 18,
    "start_time": "2023-04-01T15:51:32.580Z"
   },
   {
    "duration": 79,
    "start_time": "2023-04-01T15:51:32.600Z"
   },
   {
    "duration": 34,
    "start_time": "2023-04-01T15:51:32.681Z"
   },
   {
    "duration": 4,
    "start_time": "2023-04-01T15:51:32.718Z"
   },
   {
    "duration": 69,
    "start_time": "2023-04-01T15:51:32.725Z"
   },
   {
    "duration": 35,
    "start_time": "2023-04-01T15:51:32.796Z"
   },
   {
    "duration": 1084,
    "start_time": "2023-04-01T15:53:20.110Z"
   },
   {
    "duration": 2,
    "start_time": "2023-04-01T15:53:21.196Z"
   },
   {
    "duration": 34,
    "start_time": "2023-04-01T15:53:21.200Z"
   },
   {
    "duration": 25,
    "start_time": "2023-04-01T15:53:21.245Z"
   },
   {
    "duration": 49,
    "start_time": "2023-04-01T15:53:21.273Z"
   },
   {
    "duration": 7,
    "start_time": "2023-04-01T15:53:21.324Z"
   },
   {
    "duration": 44,
    "start_time": "2023-04-01T15:53:21.333Z"
   },
   {
    "duration": 15,
    "start_time": "2023-04-01T15:53:21.379Z"
   },
   {
    "duration": 19,
    "start_time": "2023-04-01T15:53:21.395Z"
   },
   {
    "duration": 7,
    "start_time": "2023-04-01T15:53:21.415Z"
   },
   {
    "duration": 44,
    "start_time": "2023-04-01T15:53:21.423Z"
   },
   {
    "duration": 8,
    "start_time": "2023-04-01T15:53:21.470Z"
   },
   {
    "duration": 15,
    "start_time": "2023-04-01T15:53:21.479Z"
   },
   {
    "duration": 9,
    "start_time": "2023-04-01T15:53:21.497Z"
   },
   {
    "duration": 13,
    "start_time": "2023-04-01T15:53:21.508Z"
   },
   {
    "duration": 43,
    "start_time": "2023-04-01T15:53:21.522Z"
   },
   {
    "duration": 4,
    "start_time": "2023-04-01T15:53:21.567Z"
   },
   {
    "duration": 6,
    "start_time": "2023-04-01T15:53:21.572Z"
   },
   {
    "duration": 5,
    "start_time": "2023-04-01T15:53:21.579Z"
   },
   {
    "duration": 14,
    "start_time": "2023-04-01T15:53:21.585Z"
   },
   {
    "duration": 6,
    "start_time": "2023-04-01T15:53:21.601Z"
   },
   {
    "duration": 11,
    "start_time": "2023-04-01T15:53:21.608Z"
   },
   {
    "duration": 7,
    "start_time": "2023-04-01T15:53:21.620Z"
   },
   {
    "duration": 12,
    "start_time": "2023-04-01T15:53:21.629Z"
   },
   {
    "duration": 29,
    "start_time": "2023-04-01T15:53:21.643Z"
   },
   {
    "duration": 17,
    "start_time": "2023-04-01T15:53:21.674Z"
   },
   {
    "duration": 5,
    "start_time": "2023-04-01T15:53:21.692Z"
   },
   {
    "duration": 179,
    "start_time": "2023-04-01T15:53:21.698Z"
   },
   {
    "duration": 9,
    "start_time": "2023-04-01T15:53:21.885Z"
   },
   {
    "duration": 120,
    "start_time": "2023-04-01T15:53:21.895Z"
   },
   {
    "duration": 7,
    "start_time": "2023-04-01T15:53:22.016Z"
   },
   {
    "duration": 43,
    "start_time": "2023-04-01T15:53:22.025Z"
   },
   {
    "duration": 9,
    "start_time": "2023-04-01T15:53:22.070Z"
   },
   {
    "duration": 6,
    "start_time": "2023-04-01T15:53:22.081Z"
   },
   {
    "duration": 8,
    "start_time": "2023-04-01T15:53:22.088Z"
   },
   {
    "duration": 298,
    "start_time": "2023-04-01T15:53:22.098Z"
   },
   {
    "duration": 221,
    "start_time": "2023-04-01T15:53:22.398Z"
   },
   {
    "duration": 21,
    "start_time": "2023-04-01T15:53:22.620Z"
   },
   {
    "duration": 299,
    "start_time": "2023-04-01T15:53:22.650Z"
   },
   {
    "duration": 3,
    "start_time": "2023-04-01T15:53:22.955Z"
   },
   {
    "duration": 19,
    "start_time": "2023-04-01T15:53:22.972Z"
   },
   {
    "duration": 12,
    "start_time": "2023-04-01T15:53:22.993Z"
   },
   {
    "duration": 269,
    "start_time": "2023-04-01T15:53:23.007Z"
   },
   {
    "duration": 9,
    "start_time": "2023-04-01T15:53:23.278Z"
   },
   {
    "duration": 337,
    "start_time": "2023-04-01T15:53:23.288Z"
   },
   {
    "duration": 14,
    "start_time": "2023-04-01T15:53:23.626Z"
   },
   {
    "duration": 199,
    "start_time": "2023-04-01T15:53:23.644Z"
   },
   {
    "duration": 10,
    "start_time": "2023-04-01T15:53:23.848Z"
   },
   {
    "duration": 147,
    "start_time": "2023-04-01T15:53:23.863Z"
   },
   {
    "duration": 156,
    "start_time": "2023-04-01T15:53:24.011Z"
   },
   {
    "duration": 5,
    "start_time": "2023-04-01T15:53:24.168Z"
   },
   {
    "duration": 23,
    "start_time": "2023-04-01T15:53:24.175Z"
   },
   {
    "duration": 7,
    "start_time": "2023-04-01T15:53:24.199Z"
   },
   {
    "duration": 63,
    "start_time": "2023-04-01T15:53:24.208Z"
   },
   {
    "duration": 84,
    "start_time": "2023-04-01T15:53:24.273Z"
   },
   {
    "duration": 12,
    "start_time": "2023-04-01T15:53:24.359Z"
   },
   {
    "duration": 12,
    "start_time": "2023-04-01T15:53:24.373Z"
   },
   {
    "duration": 24,
    "start_time": "2023-04-01T15:53:24.386Z"
   },
   {
    "duration": 86,
    "start_time": "2023-04-01T15:53:24.412Z"
   },
   {
    "duration": 16,
    "start_time": "2023-04-01T15:53:24.499Z"
   },
   {
    "duration": 11,
    "start_time": "2023-04-01T15:53:24.517Z"
   },
   {
    "duration": 39,
    "start_time": "2023-04-01T15:53:24.537Z"
   },
   {
    "duration": 3,
    "start_time": "2023-04-01T15:53:24.578Z"
   },
   {
    "duration": 9,
    "start_time": "2023-04-01T15:53:24.583Z"
   },
   {
    "duration": 14,
    "start_time": "2023-04-01T15:53:24.594Z"
   },
   {
    "duration": 12,
    "start_time": "2023-04-01T15:53:24.609Z"
   },
   {
    "duration": 57,
    "start_time": "2023-04-01T15:53:24.623Z"
   },
   {
    "duration": 34,
    "start_time": "2023-04-01T15:53:24.682Z"
   },
   {
    "duration": 6,
    "start_time": "2023-04-01T15:53:24.718Z"
   },
   {
    "duration": 42,
    "start_time": "2023-04-01T15:53:24.725Z"
   },
   {
    "duration": 20,
    "start_time": "2023-04-01T15:53:24.771Z"
   },
   {
    "duration": 50,
    "start_time": "2023-04-01T16:42:56.264Z"
   },
   {
    "duration": 1363,
    "start_time": "2023-04-01T16:43:02.424Z"
   },
   {
    "duration": 4,
    "start_time": "2023-04-01T16:43:03.789Z"
   },
   {
    "duration": 58,
    "start_time": "2023-04-01T16:43:03.795Z"
   },
   {
    "duration": 13,
    "start_time": "2023-04-01T16:43:03.855Z"
   },
   {
    "duration": 64,
    "start_time": "2023-04-01T16:43:03.869Z"
   },
   {
    "duration": 9,
    "start_time": "2023-04-01T16:43:03.934Z"
   },
   {
    "duration": 6,
    "start_time": "2023-04-01T16:43:03.945Z"
   },
   {
    "duration": 5,
    "start_time": "2023-04-01T16:43:03.953Z"
   },
   {
    "duration": 54,
    "start_time": "2023-04-01T16:43:03.960Z"
   },
   {
    "duration": 7,
    "start_time": "2023-04-01T16:43:04.017Z"
   },
   {
    "duration": 10,
    "start_time": "2023-04-01T16:43:04.026Z"
   },
   {
    "duration": 8,
    "start_time": "2023-04-01T16:43:04.037Z"
   },
   {
    "duration": 18,
    "start_time": "2023-04-01T16:43:04.047Z"
   },
   {
    "duration": 14,
    "start_time": "2023-04-01T16:43:04.066Z"
   },
   {
    "duration": 16,
    "start_time": "2023-04-01T16:43:04.082Z"
   },
   {
    "duration": 6,
    "start_time": "2023-04-01T16:43:04.100Z"
   },
   {
    "duration": 6,
    "start_time": "2023-04-01T16:43:04.108Z"
   },
   {
    "duration": 10,
    "start_time": "2023-04-01T16:43:04.117Z"
   },
   {
    "duration": 36,
    "start_time": "2023-04-01T16:43:04.129Z"
   },
   {
    "duration": 14,
    "start_time": "2023-04-01T16:43:04.166Z"
   },
   {
    "duration": 22,
    "start_time": "2023-04-01T16:43:04.181Z"
   },
   {
    "duration": 6,
    "start_time": "2023-04-01T16:43:04.206Z"
   },
   {
    "duration": 13,
    "start_time": "2023-04-01T16:43:04.213Z"
   },
   {
    "duration": 8,
    "start_time": "2023-04-01T16:43:04.227Z"
   },
   {
    "duration": 6,
    "start_time": "2023-04-01T16:43:04.237Z"
   },
   {
    "duration": 27,
    "start_time": "2023-04-01T16:43:04.245Z"
   },
   {
    "duration": 7,
    "start_time": "2023-04-01T16:43:04.274Z"
   },
   {
    "duration": 171,
    "start_time": "2023-04-01T16:43:04.286Z"
   },
   {
    "duration": 10,
    "start_time": "2023-04-01T16:43:04.459Z"
   },
   {
    "duration": 135,
    "start_time": "2023-04-01T16:43:04.470Z"
   },
   {
    "duration": 13,
    "start_time": "2023-04-01T16:43:04.606Z"
   },
   {
    "duration": 6,
    "start_time": "2023-04-01T16:43:04.621Z"
   },
   {
    "duration": 11,
    "start_time": "2023-04-01T16:43:04.629Z"
   },
   {
    "duration": 21,
    "start_time": "2023-04-01T16:43:04.641Z"
   },
   {
    "duration": 5,
    "start_time": "2023-04-01T16:43:04.664Z"
   },
   {
    "duration": 302,
    "start_time": "2023-04-01T16:43:04.670Z"
   },
   {
    "duration": 229,
    "start_time": "2023-04-01T16:43:04.974Z"
   },
   {
    "duration": 6,
    "start_time": "2023-04-01T16:43:05.204Z"
   },
   {
    "duration": 396,
    "start_time": "2023-04-01T16:43:05.212Z"
   },
   {
    "duration": 3,
    "start_time": "2023-04-01T16:43:05.610Z"
   },
   {
    "duration": 5,
    "start_time": "2023-04-01T16:43:05.614Z"
   },
   {
    "duration": 4,
    "start_time": "2023-04-01T16:43:05.621Z"
   },
   {
    "duration": 242,
    "start_time": "2023-04-01T16:43:05.627Z"
   },
   {
    "duration": 8,
    "start_time": "2023-04-01T16:43:05.871Z"
   },
   {
    "duration": 358,
    "start_time": "2023-04-01T16:43:05.880Z"
   },
   {
    "duration": 8,
    "start_time": "2023-04-01T16:43:06.239Z"
   },
   {
    "duration": 174,
    "start_time": "2023-04-01T16:43:06.249Z"
   },
   {
    "duration": 5,
    "start_time": "2023-04-01T16:43:06.426Z"
   },
   {
    "duration": 165,
    "start_time": "2023-04-01T16:43:06.433Z"
   },
   {
    "duration": 139,
    "start_time": "2023-04-01T16:43:06.600Z"
   },
   {
    "duration": 5,
    "start_time": "2023-04-01T16:43:06.741Z"
   },
   {
    "duration": 15,
    "start_time": "2023-04-01T16:43:06.747Z"
   },
   {
    "duration": 4,
    "start_time": "2023-04-01T16:43:06.763Z"
   },
   {
    "duration": 62,
    "start_time": "2023-04-01T16:43:06.769Z"
   },
   {
    "duration": 76,
    "start_time": "2023-04-01T16:43:06.833Z"
   },
   {
    "duration": 5,
    "start_time": "2023-04-01T16:43:06.911Z"
   },
   {
    "duration": 6,
    "start_time": "2023-04-01T16:43:06.917Z"
   },
   {
    "duration": 43,
    "start_time": "2023-04-01T16:43:06.925Z"
   },
   {
    "duration": 78,
    "start_time": "2023-04-01T16:43:06.970Z"
   },
   {
    "duration": 18,
    "start_time": "2023-04-01T16:43:07.050Z"
   },
   {
    "duration": 7,
    "start_time": "2023-04-01T16:43:07.069Z"
   },
   {
    "duration": 9,
    "start_time": "2023-04-01T16:43:07.077Z"
   },
   {
    "duration": 2,
    "start_time": "2023-04-01T16:43:07.088Z"
   },
   {
    "duration": 6,
    "start_time": "2023-04-01T16:43:07.091Z"
   },
   {
    "duration": 6,
    "start_time": "2023-04-01T16:43:07.098Z"
   },
   {
    "duration": 6,
    "start_time": "2023-04-01T16:43:07.105Z"
   },
   {
    "duration": 11,
    "start_time": "2023-04-01T16:43:07.112Z"
   },
   {
    "duration": 60,
    "start_time": "2023-04-01T16:43:07.124Z"
   },
   {
    "duration": 6,
    "start_time": "2023-04-01T16:43:07.186Z"
   },
   {
    "duration": 16,
    "start_time": "2023-04-01T16:43:07.193Z"
   },
   {
    "duration": 11,
    "start_time": "2023-04-01T16:43:07.212Z"
   },
   {
    "duration": 362,
    "start_time": "2023-04-01T16:43:54.319Z"
   },
   {
    "duration": 163,
    "start_time": "2023-04-01T16:44:40.479Z"
   },
   {
    "duration": 173,
    "start_time": "2023-04-01T16:45:00.565Z"
   },
   {
    "duration": 177,
    "start_time": "2023-04-01T16:45:30.931Z"
   },
   {
    "duration": 180,
    "start_time": "2023-04-01T17:10:36.042Z"
   },
   {
    "duration": 157,
    "start_time": "2023-04-01T17:12:56.618Z"
   },
   {
    "duration": 157,
    "start_time": "2023-04-01T17:14:21.702Z"
   },
   {
    "duration": 221,
    "start_time": "2023-04-01T17:15:00.910Z"
   },
   {
    "duration": 79,
    "start_time": "2023-04-01T17:15:26.418Z"
   },
   {
    "duration": 96,
    "start_time": "2023-04-01T17:17:13.972Z"
   },
   {
    "duration": 1311,
    "start_time": "2023-04-01T17:17:17.978Z"
   },
   {
    "duration": 171,
    "start_time": "2023-04-01T17:17:27.218Z"
   },
   {
    "duration": 125,
    "start_time": "2023-04-01T17:18:51.938Z"
   },
   {
    "duration": 142,
    "start_time": "2023-04-01T17:19:00.006Z"
   },
   {
    "duration": 153,
    "start_time": "2023-04-01T17:20:19.455Z"
   },
   {
    "duration": 226,
    "start_time": "2023-04-01T17:20:44.127Z"
   },
   {
    "duration": 135,
    "start_time": "2023-04-01T17:21:21.429Z"
   },
   {
    "duration": 149,
    "start_time": "2023-04-01T17:21:32.141Z"
   },
   {
    "duration": 9,
    "start_time": "2023-04-01T17:21:44.122Z"
   },
   {
    "duration": 9,
    "start_time": "2023-04-01T17:21:49.506Z"
   },
   {
    "duration": 159,
    "start_time": "2023-04-01T17:22:00.474Z"
   },
   {
    "duration": 146,
    "start_time": "2023-04-01T17:27:39.306Z"
   },
   {
    "duration": 9,
    "start_time": "2023-04-01T17:27:50.577Z"
   },
   {
    "duration": 148,
    "start_time": "2023-04-01T17:30:32.848Z"
   },
   {
    "duration": 9,
    "start_time": "2023-04-01T17:31:04.110Z"
   },
   {
    "duration": 11,
    "start_time": "2023-04-01T17:31:25.040Z"
   },
   {
    "duration": 141,
    "start_time": "2023-04-01T17:31:29.022Z"
   },
   {
    "duration": 127,
    "start_time": "2023-04-01T17:33:08.252Z"
   },
   {
    "duration": 139,
    "start_time": "2023-04-01T17:33:26.052Z"
   },
   {
    "duration": 134,
    "start_time": "2023-04-01T17:33:36.522Z"
   },
   {
    "duration": 10,
    "start_time": "2023-04-01T17:34:31.014Z"
   },
   {
    "duration": 148,
    "start_time": "2023-04-01T17:34:50.634Z"
   },
   {
    "duration": 1132,
    "start_time": "2023-04-01T17:36:03.194Z"
   },
   {
    "duration": 3,
    "start_time": "2023-04-01T17:36:04.328Z"
   },
   {
    "duration": 27,
    "start_time": "2023-04-01T17:36:04.333Z"
   },
   {
    "duration": 15,
    "start_time": "2023-04-01T17:36:04.362Z"
   },
   {
    "duration": 33,
    "start_time": "2023-04-01T17:36:04.380Z"
   },
   {
    "duration": 9,
    "start_time": "2023-04-01T17:36:04.414Z"
   },
   {
    "duration": 14,
    "start_time": "2023-04-01T17:36:04.425Z"
   },
   {
    "duration": 6,
    "start_time": "2023-04-01T17:36:04.441Z"
   },
   {
    "duration": 14,
    "start_time": "2023-04-01T17:36:04.449Z"
   },
   {
    "duration": 8,
    "start_time": "2023-04-01T17:36:04.465Z"
   },
   {
    "duration": 21,
    "start_time": "2023-04-01T17:36:04.474Z"
   },
   {
    "duration": 7,
    "start_time": "2023-04-01T17:36:04.497Z"
   },
   {
    "duration": 14,
    "start_time": "2023-04-01T17:36:04.506Z"
   },
   {
    "duration": 11,
    "start_time": "2023-04-01T17:36:04.523Z"
   },
   {
    "duration": 30,
    "start_time": "2023-04-01T17:36:04.536Z"
   },
   {
    "duration": 4,
    "start_time": "2023-04-01T17:36:04.568Z"
   },
   {
    "duration": 5,
    "start_time": "2023-04-01T17:36:04.574Z"
   },
   {
    "duration": 5,
    "start_time": "2023-04-01T17:36:04.581Z"
   },
   {
    "duration": 4,
    "start_time": "2023-04-01T17:36:04.588Z"
   },
   {
    "duration": 9,
    "start_time": "2023-04-01T17:36:04.594Z"
   },
   {
    "duration": 7,
    "start_time": "2023-04-01T17:36:04.605Z"
   },
   {
    "duration": 50,
    "start_time": "2023-04-01T17:36:04.613Z"
   },
   {
    "duration": 8,
    "start_time": "2023-04-01T17:36:04.665Z"
   },
   {
    "duration": 17,
    "start_time": "2023-04-01T17:36:04.674Z"
   },
   {
    "duration": 6,
    "start_time": "2023-04-01T17:36:04.693Z"
   },
   {
    "duration": 11,
    "start_time": "2023-04-01T17:36:04.700Z"
   },
   {
    "duration": 5,
    "start_time": "2023-04-01T17:36:04.712Z"
   },
   {
    "duration": 179,
    "start_time": "2023-04-01T17:36:04.718Z"
   },
   {
    "duration": 8,
    "start_time": "2023-04-01T17:36:04.898Z"
   },
   {
    "duration": 134,
    "start_time": "2023-04-01T17:36:04.908Z"
   },
   {
    "duration": 17,
    "start_time": "2023-04-01T17:36:05.044Z"
   },
   {
    "duration": 8,
    "start_time": "2023-04-01T17:36:05.063Z"
   },
   {
    "duration": 23,
    "start_time": "2023-04-01T17:36:05.073Z"
   },
   {
    "duration": 5,
    "start_time": "2023-04-01T17:36:05.098Z"
   },
   {
    "duration": 20,
    "start_time": "2023-04-01T17:36:05.105Z"
   },
   {
    "duration": 300,
    "start_time": "2023-04-01T17:36:05.127Z"
   },
   {
    "duration": 211,
    "start_time": "2023-04-01T17:36:05.428Z"
   },
   {
    "duration": 7,
    "start_time": "2023-04-01T17:36:05.641Z"
   },
   {
    "duration": 315,
    "start_time": "2023-04-01T17:36:05.650Z"
   },
   {
    "duration": 5,
    "start_time": "2023-04-01T17:36:05.966Z"
   },
   {
    "duration": 17,
    "start_time": "2023-04-01T17:36:05.976Z"
   },
   {
    "duration": 7,
    "start_time": "2023-04-01T17:36:05.994Z"
   },
   {
    "duration": 227,
    "start_time": "2023-04-01T17:36:06.002Z"
   },
   {
    "duration": 7,
    "start_time": "2023-04-01T17:36:06.231Z"
   },
   {
    "duration": 360,
    "start_time": "2023-04-01T17:36:06.240Z"
   },
   {
    "duration": 6,
    "start_time": "2023-04-01T17:36:06.602Z"
   },
   {
    "duration": 175,
    "start_time": "2023-04-01T17:36:06.609Z"
   },
   {
    "duration": 4,
    "start_time": "2023-04-01T17:36:06.786Z"
   },
   {
    "duration": 165,
    "start_time": "2023-04-01T17:36:06.792Z"
   },
   {
    "duration": 149,
    "start_time": "2023-04-01T17:36:06.959Z"
   },
   {
    "duration": 6,
    "start_time": "2023-04-01T17:36:07.110Z"
   },
   {
    "duration": 7,
    "start_time": "2023-04-01T17:36:07.118Z"
   },
   {
    "duration": 6,
    "start_time": "2023-04-01T17:36:07.126Z"
   },
   {
    "duration": 111,
    "start_time": "2023-04-01T17:36:07.133Z"
   },
   {
    "duration": 96,
    "start_time": "2023-04-01T17:36:07.246Z"
   },
   {
    "duration": 4,
    "start_time": "2023-04-01T17:36:07.344Z"
   },
   {
    "duration": 8,
    "start_time": "2023-04-01T17:36:07.362Z"
   },
   {
    "duration": 33,
    "start_time": "2023-04-01T17:36:07.371Z"
   },
   {
    "duration": 5,
    "start_time": "2023-04-01T17:36:07.406Z"
   },
   {
    "duration": 83,
    "start_time": "2023-04-01T17:36:07.415Z"
   },
   {
    "duration": 7,
    "start_time": "2023-04-01T17:36:07.499Z"
   },
   {
    "duration": 9,
    "start_time": "2023-04-01T17:36:07.507Z"
   },
   {
    "duration": 5,
    "start_time": "2023-04-01T17:36:07.518Z"
   },
   {
    "duration": 6,
    "start_time": "2023-04-01T17:36:07.524Z"
   },
   {
    "duration": 31,
    "start_time": "2023-04-01T17:36:07.532Z"
   },
   {
    "duration": 5,
    "start_time": "2023-04-01T17:36:07.565Z"
   },
   {
    "duration": 5,
    "start_time": "2023-04-01T17:36:07.572Z"
   },
   {
    "duration": 25,
    "start_time": "2023-04-01T17:36:07.578Z"
   },
   {
    "duration": 5,
    "start_time": "2023-04-01T17:36:07.604Z"
   },
   {
    "duration": 11,
    "start_time": "2023-04-01T17:36:07.610Z"
   },
   {
    "duration": 43,
    "start_time": "2023-04-01T17:36:07.622Z"
   },
   {
    "duration": 145,
    "start_time": "2023-04-01T17:36:36.948Z"
   },
   {
    "duration": 1125,
    "start_time": "2023-04-01T17:46:43.394Z"
   },
   {
    "duration": 3,
    "start_time": "2023-04-01T17:46:44.521Z"
   },
   {
    "duration": 25,
    "start_time": "2023-04-01T17:46:44.525Z"
   },
   {
    "duration": 13,
    "start_time": "2023-04-01T17:46:44.553Z"
   },
   {
    "duration": 31,
    "start_time": "2023-04-01T17:46:44.567Z"
   },
   {
    "duration": 8,
    "start_time": "2023-04-01T17:46:44.599Z"
   },
   {
    "duration": 6,
    "start_time": "2023-04-01T17:46:44.609Z"
   },
   {
    "duration": 7,
    "start_time": "2023-04-01T17:46:44.617Z"
   },
   {
    "duration": 13,
    "start_time": "2023-04-01T17:46:44.625Z"
   },
   {
    "duration": 6,
    "start_time": "2023-04-01T17:46:44.641Z"
   },
   {
    "duration": 6,
    "start_time": "2023-04-01T17:46:44.649Z"
   },
   {
    "duration": 6,
    "start_time": "2023-04-01T17:46:44.656Z"
   },
   {
    "duration": 15,
    "start_time": "2023-04-01T17:46:44.663Z"
   },
   {
    "duration": 11,
    "start_time": "2023-04-01T17:46:44.680Z"
   },
   {
    "duration": 12,
    "start_time": "2023-04-01T17:46:44.692Z"
   },
   {
    "duration": 5,
    "start_time": "2023-04-01T17:46:44.706Z"
   },
   {
    "duration": 6,
    "start_time": "2023-04-01T17:46:44.712Z"
   },
   {
    "duration": 5,
    "start_time": "2023-04-01T17:46:44.719Z"
   },
   {
    "duration": 38,
    "start_time": "2023-04-01T17:46:44.725Z"
   },
   {
    "duration": 14,
    "start_time": "2023-04-01T17:46:44.765Z"
   },
   {
    "duration": 27,
    "start_time": "2023-04-01T17:46:44.781Z"
   },
   {
    "duration": 8,
    "start_time": "2023-04-01T17:46:44.810Z"
   },
   {
    "duration": 7,
    "start_time": "2023-04-01T17:46:44.819Z"
   },
   {
    "duration": 9,
    "start_time": "2023-04-01T17:46:44.827Z"
   },
   {
    "duration": 8,
    "start_time": "2023-04-01T17:46:44.837Z"
   },
   {
    "duration": 18,
    "start_time": "2023-04-01T17:46:44.847Z"
   },
   {
    "duration": 5,
    "start_time": "2023-04-01T17:46:44.867Z"
   },
   {
    "duration": 175,
    "start_time": "2023-04-01T17:46:44.876Z"
   },
   {
    "duration": 11,
    "start_time": "2023-04-01T17:46:45.052Z"
   },
   {
    "duration": 130,
    "start_time": "2023-04-01T17:46:45.064Z"
   },
   {
    "duration": 7,
    "start_time": "2023-04-01T17:46:45.196Z"
   },
   {
    "duration": 11,
    "start_time": "2023-04-01T17:46:45.205Z"
   },
   {
    "duration": 21,
    "start_time": "2023-04-01T17:46:45.218Z"
   },
   {
    "duration": 5,
    "start_time": "2023-04-01T17:46:45.241Z"
   },
   {
    "duration": 5,
    "start_time": "2023-04-01T17:46:45.247Z"
   },
   {
    "duration": 285,
    "start_time": "2023-04-01T17:46:45.261Z"
   },
   {
    "duration": 207,
    "start_time": "2023-04-01T17:46:45.547Z"
   },
   {
    "duration": 10,
    "start_time": "2023-04-01T17:46:45.755Z"
   },
   {
    "duration": 307,
    "start_time": "2023-04-01T17:46:45.766Z"
   },
   {
    "duration": 4,
    "start_time": "2023-04-01T17:46:46.074Z"
   },
   {
    "duration": 7,
    "start_time": "2023-04-01T17:46:46.080Z"
   },
   {
    "duration": 6,
    "start_time": "2023-04-01T17:46:46.088Z"
   },
   {
    "duration": 231,
    "start_time": "2023-04-01T17:46:46.096Z"
   },
   {
    "duration": 8,
    "start_time": "2023-04-01T17:46:46.329Z"
   },
   {
    "duration": 363,
    "start_time": "2023-04-01T17:46:46.338Z"
   },
   {
    "duration": 7,
    "start_time": "2023-04-01T17:46:46.702Z"
   },
   {
    "duration": 193,
    "start_time": "2023-04-01T17:46:46.710Z"
   },
   {
    "duration": 5,
    "start_time": "2023-04-01T17:46:46.905Z"
   },
   {
    "duration": 195,
    "start_time": "2023-04-01T17:46:46.911Z"
   },
   {
    "duration": 191,
    "start_time": "2023-04-01T17:46:47.108Z"
   },
   {
    "duration": 4,
    "start_time": "2023-04-01T17:46:47.301Z"
   },
   {
    "duration": 7,
    "start_time": "2023-04-01T17:46:47.307Z"
   },
   {
    "duration": 7,
    "start_time": "2023-04-01T17:46:47.315Z"
   },
   {
    "duration": 87,
    "start_time": "2023-04-01T17:46:47.324Z"
   },
   {
    "duration": 91,
    "start_time": "2023-04-01T17:46:47.413Z"
   },
   {
    "duration": 8,
    "start_time": "2023-04-01T17:46:47.505Z"
   },
   {
    "duration": 9,
    "start_time": "2023-04-01T17:46:47.515Z"
   },
   {
    "duration": 38,
    "start_time": "2023-04-01T17:46:47.526Z"
   },
   {
    "duration": 78,
    "start_time": "2023-04-01T17:46:47.565Z"
   },
   {
    "duration": 21,
    "start_time": "2023-04-01T17:46:47.645Z"
   },
   {
    "duration": 7,
    "start_time": "2023-04-01T17:46:47.668Z"
   },
   {
    "duration": 8,
    "start_time": "2023-04-01T17:46:47.676Z"
   },
   {
    "duration": 6,
    "start_time": "2023-04-01T17:46:47.686Z"
   },
   {
    "duration": 5,
    "start_time": "2023-04-01T17:46:47.694Z"
   },
   {
    "duration": 6,
    "start_time": "2023-04-01T17:46:47.701Z"
   },
   {
    "duration": 7,
    "start_time": "2023-04-01T17:46:47.708Z"
   },
   {
    "duration": 7,
    "start_time": "2023-04-01T17:46:47.716Z"
   },
   {
    "duration": 49,
    "start_time": "2023-04-01T17:46:47.725Z"
   },
   {
    "duration": 6,
    "start_time": "2023-04-01T17:46:47.776Z"
   },
   {
    "duration": 14,
    "start_time": "2023-04-01T17:46:47.784Z"
   },
   {
    "duration": 9,
    "start_time": "2023-04-01T17:46:47.800Z"
   },
   {
    "duration": 12,
    "start_time": "2023-04-01T17:53:34.130Z"
   },
   {
    "duration": 171,
    "start_time": "2023-04-01T17:56:21.457Z"
   },
   {
    "duration": 149,
    "start_time": "2023-04-01T17:57:48.029Z"
   },
   {
    "duration": 153,
    "start_time": "2023-04-01T17:57:58.682Z"
   },
   {
    "duration": 1147,
    "start_time": "2023-04-01T17:58:34.985Z"
   },
   {
    "duration": 2,
    "start_time": "2023-04-01T17:58:36.134Z"
   },
   {
    "duration": 25,
    "start_time": "2023-04-01T17:58:36.138Z"
   },
   {
    "duration": 13,
    "start_time": "2023-04-01T17:58:36.164Z"
   },
   {
    "duration": 29,
    "start_time": "2023-04-01T17:58:36.178Z"
   },
   {
    "duration": 9,
    "start_time": "2023-04-01T17:58:36.209Z"
   },
   {
    "duration": 9,
    "start_time": "2023-04-01T17:58:36.219Z"
   },
   {
    "duration": 7,
    "start_time": "2023-04-01T17:58:36.229Z"
   },
   {
    "duration": 13,
    "start_time": "2023-04-01T17:58:36.238Z"
   },
   {
    "duration": 9,
    "start_time": "2023-04-01T17:58:36.254Z"
   },
   {
    "duration": 6,
    "start_time": "2023-04-01T17:58:36.265Z"
   },
   {
    "duration": 6,
    "start_time": "2023-04-01T17:58:36.273Z"
   },
   {
    "duration": 13,
    "start_time": "2023-04-01T17:58:36.281Z"
   },
   {
    "duration": 12,
    "start_time": "2023-04-01T17:58:36.295Z"
   },
   {
    "duration": 13,
    "start_time": "2023-04-01T17:58:36.308Z"
   },
   {
    "duration": 39,
    "start_time": "2023-04-01T17:58:36.323Z"
   },
   {
    "duration": 7,
    "start_time": "2023-04-01T17:58:36.364Z"
   },
   {
    "duration": 5,
    "start_time": "2023-04-01T17:58:36.372Z"
   },
   {
    "duration": 9,
    "start_time": "2023-04-01T17:58:36.378Z"
   },
   {
    "duration": 10,
    "start_time": "2023-04-01T17:58:36.389Z"
   },
   {
    "duration": 6,
    "start_time": "2023-04-01T17:58:36.400Z"
   },
   {
    "duration": 6,
    "start_time": "2023-04-01T17:58:36.408Z"
   },
   {
    "duration": 8,
    "start_time": "2023-04-01T17:58:36.416Z"
   },
   {
    "duration": 38,
    "start_time": "2023-04-01T17:58:36.425Z"
   },
   {
    "duration": 5,
    "start_time": "2023-04-01T17:58:36.465Z"
   },
   {
    "duration": 10,
    "start_time": "2023-04-01T17:58:36.471Z"
   },
   {
    "duration": 6,
    "start_time": "2023-04-01T17:58:36.483Z"
   },
   {
    "duration": 187,
    "start_time": "2023-04-01T17:58:36.494Z"
   },
   {
    "duration": 9,
    "start_time": "2023-04-01T17:58:36.683Z"
   },
   {
    "duration": 132,
    "start_time": "2023-04-01T17:58:36.694Z"
   },
   {
    "duration": 16,
    "start_time": "2023-04-01T17:58:36.828Z"
   },
   {
    "duration": 17,
    "start_time": "2023-04-01T17:58:36.846Z"
   },
   {
    "duration": 9,
    "start_time": "2023-04-01T17:58:36.865Z"
   },
   {
    "duration": 6,
    "start_time": "2023-04-01T17:58:36.875Z"
   },
   {
    "duration": 5,
    "start_time": "2023-04-01T17:58:36.884Z"
   },
   {
    "duration": 315,
    "start_time": "2023-04-01T17:58:36.891Z"
   },
   {
    "duration": 243,
    "start_time": "2023-04-01T17:58:37.208Z"
   },
   {
    "duration": 11,
    "start_time": "2023-04-01T17:58:37.454Z"
   },
   {
    "duration": 322,
    "start_time": "2023-04-01T17:58:37.467Z"
   },
   {
    "duration": 5,
    "start_time": "2023-04-01T17:58:37.791Z"
   },
   {
    "duration": 18,
    "start_time": "2023-04-01T17:58:37.798Z"
   },
   {
    "duration": 22,
    "start_time": "2023-04-01T17:58:37.818Z"
   },
   {
    "duration": 216,
    "start_time": "2023-04-01T17:58:37.842Z"
   },
   {
    "duration": 8,
    "start_time": "2023-04-01T17:58:38.059Z"
   },
   {
    "duration": 335,
    "start_time": "2023-04-01T17:58:38.069Z"
   },
   {
    "duration": 7,
    "start_time": "2023-04-01T17:58:38.405Z"
   },
   {
    "duration": 184,
    "start_time": "2023-04-01T17:58:38.413Z"
   },
   {
    "duration": 5,
    "start_time": "2023-04-01T17:58:38.599Z"
   },
   {
    "duration": 174,
    "start_time": "2023-04-01T17:58:38.605Z"
   },
   {
    "duration": 158,
    "start_time": "2023-04-01T17:58:38.781Z"
   },
   {
    "duration": 5,
    "start_time": "2023-04-01T17:58:38.941Z"
   },
   {
    "duration": 16,
    "start_time": "2023-04-01T17:58:38.947Z"
   },
   {
    "duration": 26,
    "start_time": "2023-04-01T17:58:38.965Z"
   },
   {
    "duration": 62,
    "start_time": "2023-04-01T17:58:38.992Z"
   },
   {
    "duration": 69,
    "start_time": "2023-04-01T17:58:39.056Z"
   },
   {
    "duration": 5,
    "start_time": "2023-04-01T17:58:39.126Z"
   },
   {
    "duration": 5,
    "start_time": "2023-04-01T17:58:39.132Z"
   },
   {
    "duration": 37,
    "start_time": "2023-04-01T17:58:39.138Z"
   },
   {
    "duration": 4,
    "start_time": "2023-04-01T17:58:39.177Z"
   },
   {
    "duration": 88,
    "start_time": "2023-04-01T17:58:39.183Z"
   },
   {
    "duration": 6,
    "start_time": "2023-04-01T17:58:39.273Z"
   },
   {
    "duration": 8,
    "start_time": "2023-04-01T17:58:39.280Z"
   },
   {
    "duration": 4,
    "start_time": "2023-04-01T17:58:39.289Z"
   },
   {
    "duration": 5,
    "start_time": "2023-04-01T17:58:39.294Z"
   },
   {
    "duration": 5,
    "start_time": "2023-04-01T17:58:39.300Z"
   },
   {
    "duration": 5,
    "start_time": "2023-04-01T17:58:39.306Z"
   },
   {
    "duration": 10,
    "start_time": "2023-04-01T17:58:39.312Z"
   },
   {
    "duration": 56,
    "start_time": "2023-04-01T17:58:39.323Z"
   },
   {
    "duration": 5,
    "start_time": "2023-04-01T17:58:39.380Z"
   },
   {
    "duration": 10,
    "start_time": "2023-04-01T17:58:39.386Z"
   },
   {
    "duration": 9,
    "start_time": "2023-04-01T17:58:39.398Z"
   },
   {
    "duration": 1214,
    "start_time": "2023-04-02T17:44:52.574Z"
   },
   {
    "duration": 3,
    "start_time": "2023-04-02T17:44:53.790Z"
   },
   {
    "duration": 83,
    "start_time": "2023-04-02T17:44:53.794Z"
   },
   {
    "duration": 17,
    "start_time": "2023-04-02T17:44:53.879Z"
   },
   {
    "duration": 91,
    "start_time": "2023-04-02T17:44:53.899Z"
   },
   {
    "duration": 11,
    "start_time": "2023-04-02T17:44:53.992Z"
   },
   {
    "duration": 23,
    "start_time": "2023-04-02T17:44:54.005Z"
   },
   {
    "duration": 31,
    "start_time": "2023-04-02T17:44:54.030Z"
   },
   {
    "duration": 22,
    "start_time": "2023-04-02T17:44:54.063Z"
   },
   {
    "duration": 9,
    "start_time": "2023-04-02T17:44:54.087Z"
   },
   {
    "duration": 16,
    "start_time": "2023-04-02T17:44:54.097Z"
   },
   {
    "duration": 11,
    "start_time": "2023-04-02T17:44:54.114Z"
   },
   {
    "duration": 27,
    "start_time": "2023-04-02T17:44:54.127Z"
   },
   {
    "duration": 23,
    "start_time": "2023-04-02T17:44:54.158Z"
   },
   {
    "duration": 31,
    "start_time": "2023-04-02T17:44:54.183Z"
   },
   {
    "duration": 10,
    "start_time": "2023-04-02T17:44:54.216Z"
   },
   {
    "duration": 30,
    "start_time": "2023-04-02T17:44:54.228Z"
   },
   {
    "duration": 10,
    "start_time": "2023-04-02T17:44:54.261Z"
   },
   {
    "duration": 24,
    "start_time": "2023-04-02T17:44:54.273Z"
   },
   {
    "duration": 11,
    "start_time": "2023-04-02T17:44:54.299Z"
   },
   {
    "duration": 19,
    "start_time": "2023-04-02T17:44:54.312Z"
   },
   {
    "duration": 63,
    "start_time": "2023-04-02T17:44:54.333Z"
   },
   {
    "duration": 16,
    "start_time": "2023-04-02T17:44:54.399Z"
   },
   {
    "duration": 15,
    "start_time": "2023-04-02T17:44:54.417Z"
   },
   {
    "duration": 39,
    "start_time": "2023-04-02T17:44:54.434Z"
   },
   {
    "duration": 21,
    "start_time": "2023-04-02T17:44:54.475Z"
   },
   {
    "duration": 18,
    "start_time": "2023-04-02T17:44:54.498Z"
   },
   {
    "duration": 240,
    "start_time": "2023-04-02T17:44:54.519Z"
   },
   {
    "duration": 9,
    "start_time": "2023-04-02T17:44:54.761Z"
   },
   {
    "duration": 148,
    "start_time": "2023-04-02T17:44:54.772Z"
   },
   {
    "duration": 8,
    "start_time": "2023-04-02T17:44:54.923Z"
   },
   {
    "duration": 16,
    "start_time": "2023-04-02T17:44:54.943Z"
   },
   {
    "duration": 25,
    "start_time": "2023-04-02T17:44:54.961Z"
   },
   {
    "duration": 18,
    "start_time": "2023-04-02T17:44:54.988Z"
   },
   {
    "duration": 11,
    "start_time": "2023-04-02T17:44:55.008Z"
   },
   {
    "duration": 326,
    "start_time": "2023-04-02T17:44:55.020Z"
   },
   {
    "duration": 226,
    "start_time": "2023-04-02T17:44:55.353Z"
   },
   {
    "duration": 7,
    "start_time": "2023-04-02T17:44:55.581Z"
   },
   {
    "duration": 298,
    "start_time": "2023-04-02T17:44:55.589Z"
   },
   {
    "duration": 4,
    "start_time": "2023-04-02T17:44:55.889Z"
   },
   {
    "duration": 9,
    "start_time": "2023-04-02T17:44:55.898Z"
   },
   {
    "duration": 8,
    "start_time": "2023-04-02T17:44:55.909Z"
   },
   {
    "duration": 282,
    "start_time": "2023-04-02T17:44:55.919Z"
   },
   {
    "duration": 11,
    "start_time": "2023-04-02T17:44:56.203Z"
   },
   {
    "duration": 418,
    "start_time": "2023-04-02T17:44:56.216Z"
   },
   {
    "duration": 20,
    "start_time": "2023-04-02T17:44:56.636Z"
   },
   {
    "duration": 207,
    "start_time": "2023-04-02T17:44:56.660Z"
   },
   {
    "duration": 5,
    "start_time": "2023-04-02T17:44:56.868Z"
   },
   {
    "duration": 183,
    "start_time": "2023-04-02T17:44:56.874Z"
   },
   {
    "duration": 165,
    "start_time": "2023-04-02T17:44:57.059Z"
   },
   {
    "duration": 5,
    "start_time": "2023-04-02T17:44:57.226Z"
   },
   {
    "duration": 14,
    "start_time": "2023-04-02T17:44:57.241Z"
   },
   {
    "duration": 17,
    "start_time": "2023-04-02T17:44:57.257Z"
   },
   {
    "duration": 64,
    "start_time": "2023-04-02T17:44:57.276Z"
   },
   {
    "duration": 72,
    "start_time": "2023-04-02T17:44:57.344Z"
   },
   {
    "duration": 13,
    "start_time": "2023-04-02T17:44:57.418Z"
   },
   {
    "duration": 28,
    "start_time": "2023-04-02T17:44:57.433Z"
   },
   {
    "duration": 29,
    "start_time": "2023-04-02T17:44:57.463Z"
   },
   {
    "duration": 5,
    "start_time": "2023-04-02T17:44:57.494Z"
   },
   {
    "duration": 104,
    "start_time": "2023-04-02T17:44:57.501Z"
   },
   {
    "duration": 11,
    "start_time": "2023-04-02T17:44:57.607Z"
   },
   {
    "duration": 26,
    "start_time": "2023-04-02T17:44:57.620Z"
   },
   {
    "duration": 13,
    "start_time": "2023-04-02T17:44:57.655Z"
   },
   {
    "duration": 13,
    "start_time": "2023-04-02T17:44:57.670Z"
   },
   {
    "duration": 12,
    "start_time": "2023-04-02T17:44:57.685Z"
   },
   {
    "duration": 13,
    "start_time": "2023-04-02T17:44:57.699Z"
   },
   {
    "duration": 31,
    "start_time": "2023-04-02T17:44:57.714Z"
   },
   {
    "duration": 40,
    "start_time": "2023-04-02T17:44:57.746Z"
   },
   {
    "duration": 6,
    "start_time": "2023-04-02T17:44:57.788Z"
   },
   {
    "duration": 18,
    "start_time": "2023-04-02T17:44:57.797Z"
   },
   {
    "duration": 18,
    "start_time": "2023-04-02T17:44:57.817Z"
   }
  ],
  "kernelspec": {
   "display_name": "Python 3 (ipykernel)",
   "language": "python",
   "name": "python3"
  },
  "language_info": {
   "codemirror_mode": {
    "name": "ipython",
    "version": 3
   },
   "file_extension": ".py",
   "mimetype": "text/x-python",
   "name": "python",
   "nbconvert_exporter": "python",
   "pygments_lexer": "ipython3",
   "version": "3.10.9"
  },
  "toc": {
   "base_numbering": 1,
   "nav_menu": {
    "height": "250.996px",
    "width": "362.998px"
   },
   "number_sections": true,
   "sideBar": true,
   "skip_h1_title": true,
   "title_cell": "Table of Contents",
   "title_sidebar": "Содержание",
   "toc_cell": true,
   "toc_position": {
    "height": "calc(100% - 180px)",
    "left": "10px",
    "top": "150px",
    "width": "165px"
   },
   "toc_section_display": true,
   "toc_window_display": true
  }
 },
 "nbformat": 4,
 "nbformat_minor": 2
}
